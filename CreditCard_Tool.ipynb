{
 "cells": [
  {
   "cell_type": "code",
   "execution_count": 15,
   "metadata": {},
   "outputs": [],
   "source": [
    "import pypandoc"
   ]
  },
  {
   "cell_type": "code",
   "execution_count": null,
   "metadata": {
    "colab": {
     "base_uri": "https://localhost:8080/"
    },
    "id": "Iu_iWE4UqbvR",
    "outputId": "1ecaa61c-ca5e-4da7-d663-5f23d5622ceb"
   },
   "outputs": [],
   "source": []
  },
  {
   "cell_type": "code",
   "execution_count": 16,
   "metadata": {},
   "outputs": [],
   "source": [
    "import pandas as pd\n",
    "\n",
    "data= pd.read_csv('merged_data (2).csv')"
   ]
  },
  {
   "cell_type": "code",
   "execution_count": 17,
   "metadata": {
    "colab": {
     "base_uri": "https://localhost:8080/"
    },
    "id": "rjkasblerZu-",
    "outputId": "bb39ec9e-0711-446f-997f-ea3abfc07cfb"
   },
   "outputs": [
    {
     "name": "stdout",
     "output_type": "stream",
     "text": [
      "['Institution Name', 'Product Name', 'Report Date', 'Availability of Credit Card Plan', 'State', 'State (Multiple)', 'Pertains to Specific Counties?', 'Requirements for Opening', 'Requirements for Opening Types', 'Geographic Restrictions', 'Professional Affiliation', 'Other', 'Secured Card', 'Targeted Credit Tiers', 'Purchase APR Offered?', 'Purchase APR Vary by Balance', 'Purchase APR Balance Tier 1', 'Purchase APR Tier 1 From Balance', 'Purchase APR Tier 1 to Balance', 'Purchase APR Balance Tier 2', 'Purchase APR Tier 2 From Balance', 'Purchase APR Tier 2 To Balance', 'Purchase APR Balance Tier 3', 'Purchase APR Tier 3 From Balance', 'Purchase APR Tier 3 To Balance', 'Purchase APR Balance Tier 4', 'Purchase APR Tier 4 From Balance', 'Purchase APR Tier 4 To Balance', 'Purchase APR Index', 'Variable Rate Index', 'Index', 'Purchase APR Vary by Credit Tier', 'Purchase APR poor', 'Purchase APR good', 'Purchase APR great', 'Purchase APR min', 'Purchase APR median', 'Purchase APR max', 'Intro APR Offered?', 'Intro APR Vary By Credit Tier', 'Intro APR poor', 'Intro APR good', 'Intro APR great', 'Intro APR min', 'Intro APR median', 'Intro APR max', 'Median Length of Intro APR', 'Balance Transfer Offered?', 'Transfer APR Vary By Credit Tier', 'Transfer APR poor', 'Transfer APR good', 'Transfer APR great', 'Transfer APR min', 'Transfer APR median', 'Transfer APR max', 'Median Length of Transfer APR', 'Balance Transfer Grace Period', 'Cash Advance APR Offered?', 'Cash Advance APR Vary by Credit Tier', 'Advance APR poor', 'Advance APR good', 'Advance APR great', 'Advance APR min', 'Advance APR median', 'Advance APR max', 'Grace Period Offered?', 'Grace Period', 'Minimum Finance Charge?', 'Minimum Finance Charge (Dollars)', 'Balance Computation Method', 'Balance Computation Method Details', 'Periodic Fee Type', 'Annual Fee', 'Monthly Fee', 'Weekly Fee', 'Other Periodic Fee Name', 'Other Periodic Fee Amount', 'Other Periodic Fee Frequency', 'Fee Varies?', 'Periodic min', 'Periodic max', 'Fee Explanation', 'Purchase Transaction Fees', 'Purchase Transaction Fee Type', 'Purchase Transaction Fee ($)', 'Purchase Transaction Fee (%)', 'Minimum Purchase Transaction Fee Amount', 'Purchase Transaction Fee Calculation', 'Balance Transfer Fees?', 'Balance Transfer Fee Types', 'Balance Transfer Fee ($)', 'Balance Transfer Fee (%)', 'Minimum Balance Transfer Fee Amount', 'Balance Transfer Fee Calculation', 'Cash Advance Fees?', 'Cash Advance Fee For Each Transaction', 'Cash Advance Fee Types', 'Cash Advance Fee ($)', 'Cash Advance Fee (%)', 'Minimum Cash Advance Fee Amount', 'Cash Advance Fee Calculation', 'Foreign Transaction Fees?', 'Foreign Transaction Fees Types', 'Foreign Transaction Fee ($)', 'Foreign Transaction Fee (%)', 'Minimum Foreign Transaction Fee Amount', 'Foreign Transaction Fee Calculation', 'Late Fees?', 'Late Fee Types', 'Late Fee ($)', 'Late Fee Six Month Billing Cycle', 'Late Fee Policy Details', 'Fee Varies?36', 'Minimum37', 'Maximum38', 'Fee Explanation39', 'Over Limit Fees?', 'Over Limit Fee Types', 'Over Limit Fee ($)', 'Overlimit Fee Detail', 'Other Fees', 'Additional Fees', 'Other Fee Name', 'Other Fee Amount', 'Other Fee Explanation', 'Other Fee Name 2', 'Other Fee Amount 2', 'Other Fee Explanation 2', 'Other Fee Name 3', 'Other Fee Amount 3', 'Other Fee Explanation 3', 'Other Fee Name 4', 'Other Fee Amount 4', 'Other Fee Explanation 4', 'Other Fee Name 5', 'Other Fee Amount 5', 'Other Fee Explanation 5', 'Fee Varies?56', 'Minimum57', 'Maximum58', 'Fee Explanation59', 'Services', 'Other Services', 'Rewards', 'Other Rewards', 'Card Features', 'Other Card Features', 'Contact Information Types', 'Website for Consumer', 'Telephone Number for Consumers', 'Company', 'Issue Summary', 'State Complaint Summary', 'Sentiment Summary', 'Average Negative Sentiment', 'Most Common Topic']\n"
     ]
    }
   ],
   "source": [
    "# Display the first few rows of the DataFrame\n",
    "print(data.columns.tolist())"
   ]
  },
  {
   "cell_type": "code",
   "execution_count": 18,
   "metadata": {
    "id": "xgz_i3apgiK8"
   },
   "outputs": [],
   "source": [
    "#convert 9.98 to 0.098\n",
    "data['Purchase APR min']= data['Purchase APR min'].replace(9.98, 0.098)\n",
    "data = data[data['Intro APR max'] != 0.3024]"
   ]
  },
  {
   "cell_type": "code",
   "execution_count": 19,
   "metadata": {
    "id": "szTbmKjRt9a_"
   },
   "outputs": [],
   "source": [
    "# create binary columns for credit score ranges for later analysis.\n",
    "#Will allow customers to speficy their credit range and search cards available to them\n",
    "# Define the possible credit score ranges\n",
    "credit_score_ranges = [\n",
    "    'No credit score',\n",
    "    'Credit score 619 or less',\n",
    "    'Credit scores from 620 to 719',\n",
    "    'Credit score of 720 or greater'\n",
    "]\n",
    "\n",
    "#No credit score; Credit scores from 620 to 719; Credit score of 720 or greater\n",
    "# Initialize binary columns for each credit score range\n",
    "for score_range in credit_score_ranges:\n",
    "    data[score_range] = 0\n",
    "\n",
    "# Populate the binary columns\n",
    "for index, row in data.iterrows():\n",
    "    targeted_credit_tiers = row['Targeted Credit Tiers']\n",
    "    for score_range in credit_score_ranges:\n",
    "        if score_range in targeted_credit_tiers:\n",
    "            data.at[index, score_range] = 1\n",
    "\n"
   ]
  },
  {
   "cell_type": "code",
   "execution_count": 20,
   "metadata": {
    "id": "51TIjzrDqhxp"
   },
   "outputs": [],
   "source": [
    "import numpy as np\n",
    "data.loc[data['Product Name'] == 'Hawaiian World Elite Mastercard', 'Advance APR median'] = \\\n",
    "    data.loc[data['Product Name'] == 'Hawaiian World Elite Mastercard', 'Advance APR median'].replace(0, np.nan)\n"
   ]
  },
  {
   "cell_type": "code",
   "execution_count": 21,
   "metadata": {
    "colab": {
     "base_uri": "https://localhost:8080/"
    },
    "id": "Luz9XLDfrMtd",
    "outputId": "8a3588f9-8f55-4938-efe0-9a0b187367f1"
   },
   "outputs": [
    {
     "name": "stdout",
     "output_type": "stream",
     "text": [
      "     No credit score  Credit score 619 or less  Credit scores from 620 to 719  \\\n",
      "0                  1                         0                              1   \n",
      "1                  0                         0                              1   \n",
      "2                  0                         1                              1   \n",
      "3                  1                         1                              1   \n",
      "4                  1                         1                              1   \n",
      "..               ...                       ...                            ...   \n",
      "643                0                         1                              1   \n",
      "644                0                         0                              1   \n",
      "645                1                         1                              1   \n",
      "646                0                         0                              1   \n",
      "647                0                         0                              0   \n",
      "\n",
      "     Credit score of 720 or greater  \n",
      "0                                 1  \n",
      "1                                 1  \n",
      "2                                 0  \n",
      "3                                 0  \n",
      "4                                 1  \n",
      "..                              ...  \n",
      "643                               1  \n",
      "644                               1  \n",
      "645                               1  \n",
      "646                               1  \n",
      "647                               1  \n",
      "\n",
      "[647 rows x 4 columns]\n"
     ]
    }
   ],
   "source": [
    "print(data[['No credit score',\n",
    "    'Credit score 619 or less',\n",
    "    'Credit scores from 620 to 719',\n",
    "    'Credit score of 720 or greater']])"
   ]
  },
  {
   "cell_type": "markdown",
   "metadata": {
    "id": "3EM-euXm6dwd"
   },
   "source": [
    "# Card Features data Cleaning and Engineering"
   ]
  },
  {
   "cell_type": "code",
   "execution_count": 22,
   "metadata": {
    "colab": {
     "base_uri": "https://localhost:8080/"
    },
    "id": "w9oL5vbq-bz0",
    "outputId": "53186144-c054-4323-da36-55ebfb9c73ea"
   },
   "outputs": [
    {
     "name": "stdout",
     "output_type": "stream",
     "text": [
      "Chip card\n",
      "Contactless Payments\n",
      "Fee-free foreign transactions\n",
      "Mobile wallet provisioning (for example, Apple Pay)\n",
      "Other\n"
     ]
    }
   ],
   "source": [
    "# look at all unique strings in the Card Features column\n",
    "unique_features = set()\n",
    "for features in data['Card Features'].dropna():\n",
    "    for feature in features.split(';'):\n",
    "        unique_features.add(feature.strip())\n",
    "\n",
    "# Convert the set to a sorted list\n",
    "unique_features = sorted(unique_features)\n",
    "\n",
    "# Print all unique features\n",
    "for feature in unique_features:\n",
    "    print(feature)"
   ]
  },
  {
   "cell_type": "code",
   "execution_count": 23,
   "metadata": {
    "id": "Bdn0PRkBpnYC"
   },
   "outputs": [],
   "source": [
    "data['Card Features'].fillna('No_features', inplace=True)"
   ]
  },
  {
   "cell_type": "code",
   "execution_count": 24,
   "metadata": {
    "id": "8OcJsjICz7VK"
   },
   "outputs": [],
   "source": [
    "#This will replace all 'Other' strings in the Card Features columns with 'Other_features' beucause we will turn this into its own column\n",
    "#later when we convert it to dummies.  Other columns that will be converted to duimmy columns also have 'Other' categories so we need to\n",
    "#replace them with 'Other_...' that seperates them from one another\n",
    "def replace_other_features(row):\n",
    "    if pd.notna(row):\n",
    "        features = row.split('; ')\n",
    "        features = ['Other_features' if feature == 'Other' else feature for feature in features]\n",
    "        return '; '.join(features)\n",
    "    return row\n",
    "\n",
    "# Apply the function to the 'Card Features' column\n",
    "data['Card Features'] = data['Card Features'].apply(replace_other_features)\n",
    "\n",
    "# Save the updated dataset\n",
    "updated_file_path = 'path_to_save_updated_creditcard_data.xlsx'\n",
    "data.to_excel(updated_file_path, index=False)"
   ]
  },
  {
   "cell_type": "code",
   "execution_count": 25,
   "metadata": {
    "colab": {
     "base_uri": "https://localhost:8080/"
    },
    "id": "8wHZz74a14l-",
    "outputId": "5840b26a-44fa-4caa-a8ec-27791305a9e3"
   },
   "outputs": [
    {
     "name": "stdout",
     "output_type": "stream",
     "text": [
      "Chip card\n",
      "Contactless Payments\n",
      "Fee-free foreign transactions\n",
      "Mobile wallet provisioning (for example, Apple Pay)\n",
      "No_features\n",
      "Other_features\n"
     ]
    }
   ],
   "source": [
    "#check that the code above accomplished the intended task\n",
    "unique_features = set()\n",
    "for features in data['Card Features'].dropna():\n",
    "    for feature in features.split(';'):\n",
    "        unique_features.add(feature.strip())\n",
    "\n",
    "# Convert the set to a sorted list\n",
    "unique_features = sorted(unique_features)\n",
    "\n",
    "# Print all unique features\n",
    "for feature in unique_features:\n",
    "    print(feature)"
   ]
  },
  {
   "cell_type": "code",
   "execution_count": 26,
   "metadata": {
    "colab": {
     "base_uri": "https://localhost:8080/"
    },
    "id": "ay9dQxDv9XuU",
    "outputId": "41b52261-2233-42f2-aa2e-2b1a69e03763"
   },
   "outputs": [
    {
     "name": "stdout",
     "output_type": "stream",
     "text": [
      "     Chip card  Contactless Payments  Fee-free foreign transactions  \\\n",
      "0            1                     1                              1   \n",
      "1            1                     1                              0   \n",
      "2            1                     1                              1   \n",
      "3            1                     1                              1   \n",
      "4            1                     1                              1   \n",
      "..         ...                   ...                            ...   \n",
      "643          1                     1                              0   \n",
      "644          1                     0                              0   \n",
      "645          1                     1                              1   \n",
      "646          1                     1                              1   \n",
      "647          1                     1                              1   \n",
      "\n",
      "     Mobile wallet provisioning (for example, Apple Pay)  Other_features  \\\n",
      "0                                                    0                 0   \n",
      "1                                                    1                 0   \n",
      "2                                                    1                 0   \n",
      "3                                                    1                 0   \n",
      "4                                                    1                 0   \n",
      "..                                                 ...               ...   \n",
      "643                                                  1                 0   \n",
      "644                                                  1                 0   \n",
      "645                                                  1                 1   \n",
      "646                                                  1                 0   \n",
      "647                                                  1                 0   \n",
      "\n",
      "     No_features  \n",
      "0              0  \n",
      "1              0  \n",
      "2              0  \n",
      "3              0  \n",
      "4              0  \n",
      "..           ...  \n",
      "643            0  \n",
      "644            0  \n",
      "645            0  \n",
      "646            0  \n",
      "647            0  \n",
      "\n",
      "[647 rows x 6 columns]\n"
     ]
    }
   ],
   "source": [
    "# This code seperates the Card Features column into 5 columns with binary outputs for each of the card features listed below. this will amke it easier to analyze\n",
    "# i have chosen to leave the Other Card Features column out of our analysis as features vary greatly and it would add too many columns to our dataset\n",
    "# the entity collecting TCCP data should make a more structured method for card providers to imput features into the dataset.\n",
    "# a true production tool would include these OTHER features in some form\n",
    "# Define the possible card features\n",
    "card_features = [\n",
    "    'Chip card',\n",
    "    'Contactless Payments',\n",
    "    'Fee-free foreign transactions',\n",
    "    'Mobile wallet provisioning (for example, Apple Pay)',\n",
    "    'Other_features',\n",
    "    'No_features'\n",
    "]\n",
    "\n",
    "# Initialize binary columns for each card feature\n",
    "for feature in card_features:\n",
    "    data[feature] = 0\n",
    "\n",
    "# Populate the binary columns\n",
    "for index, row in data.iterrows():\n",
    "    card_features_list = row['Card Features']\n",
    "    if pd.notna(card_features_list):\n",
    "        for feature in card_features:\n",
    "            if feature in card_features_list:\n",
    "                data.at[index, feature] = 1\n",
    "\n",
    "# Save the updated dataset\n",
    "data.to_excel(updated_file_path, index=False)\n",
    "\n",
    "print(data[['Chip card',\n",
    "    'Contactless Payments',\n",
    "    'Fee-free foreign transactions',\n",
    "    'Mobile wallet provisioning (for example, Apple Pay)',\n",
    "    'Other_features',\n",
    "    'No_features']])"
   ]
  },
  {
   "cell_type": "markdown",
   "metadata": {
    "id": "OEQyc6ST6w-W"
   },
   "source": [
    "# Services  Column Cleaning/Engineering#"
   ]
  },
  {
   "cell_type": "code",
   "execution_count": 27,
   "metadata": {
    "colab": {
     "base_uri": "https://localhost:8080/"
    },
    "id": "Nfapa0HFE7ub",
    "outputId": "0b7d234e-2417-4837-d7e2-536e8dc0217e"
   },
   "outputs": [
    {
     "name": "stdout",
     "output_type": "stream",
     "text": [
      "Access to Free Credit Scores\n",
      "Automobile rental insurance\n",
      "Credit card registration\n",
      "Debt cancellation coverage\n",
      "Discounts on purchases of goods and services (non travel related)\n",
      "Extension on manufacturer’s warranty\n",
      "Other\n"
     ]
    }
   ],
   "source": [
    "#lets look at all the possible card \"Services\"\n",
    "unique_features = set()\n",
    "for features in data['Services'].dropna():\n",
    "    for feature in features.split(';'):\n",
    "        unique_features.add(feature.strip())\n",
    "\n",
    "# Convert the set to a sorted list\n",
    "unique_features = sorted(unique_features)\n",
    "\n",
    "# Print all unique features\n",
    "for feature in unique_features:\n",
    "    print(feature)"
   ]
  },
  {
   "cell_type": "code",
   "execution_count": 28,
   "metadata": {
    "id": "mGgIaUPfoVqb"
   },
   "outputs": [],
   "source": [
    "data['Services'].fillna('No_Services', inplace=True)"
   ]
  },
  {
   "cell_type": "code",
   "execution_count": 29,
   "metadata": {
    "id": "7XrQcjJO4DTA"
   },
   "outputs": [],
   "source": [
    "#This will replace all 'Other' strings in the Services columns with 'Other_features' beucause we will turn this into its own column\n",
    "#later when we convert it to dummies.  Other columns that will be converted to duimmy columns also have 'Other' categories so we need to\n",
    "#replace them with 'Other_...' that seperates them from one another\n",
    "def replace_other_features(row):\n",
    "    if pd.notna(row):\n",
    "        features = row.split('; ')\n",
    "        features = ['Other_services' if feature == 'Other' else feature for feature in features]\n",
    "        return '; '.join(features)\n",
    "    return row\n",
    "\n",
    "# Apply the function to the 'Card Features' column\n",
    "data['Services'] = data['Services'].apply(replace_other_features)\n",
    "\n",
    "# Save the updated dataset\n",
    "updated_file_path = 'path_to_save_updated_creditcard_data.xlsx'\n",
    "data.to_excel(updated_file_path, index=False)"
   ]
  },
  {
   "cell_type": "code",
   "execution_count": 30,
   "metadata": {
    "colab": {
     "base_uri": "https://localhost:8080/"
    },
    "id": "UFE2tWSK5Vt9",
    "outputId": "060e9e64-81aa-4b4d-ff2e-1bc254e867bf"
   },
   "outputs": [
    {
     "name": "stdout",
     "output_type": "stream",
     "text": [
      "Access to Free Credit Scores\n",
      "Automobile rental insurance\n",
      "Credit card registration\n",
      "Debt cancellation coverage\n",
      "Discounts on purchases of goods and services (non travel related)\n",
      "Extension on manufacturer’s warranty\n",
      "No_Services\n",
      "Other_services\n"
     ]
    }
   ],
   "source": [
    "#lets look at all the possible card \"Services\" after the change to make sure it worked\n",
    "unique_features = set()\n",
    "for features in data['Services'].dropna():\n",
    "    for feature in features.split(';'):\n",
    "        unique_features.add(feature.strip())\n",
    "\n",
    "# Convert the set to a sorted list\n",
    "unique_features = sorted(unique_features)\n",
    "\n",
    "# Print all unique features\n",
    "for feature in unique_features:\n",
    "    print(feature)"
   ]
  },
  {
   "cell_type": "code",
   "execution_count": 31,
   "metadata": {
    "colab": {
     "base_uri": "https://localhost:8080/"
    },
    "id": "2usuvwtmlDNF",
    "outputId": "12ac7ef0-718d-481b-e8c7-c00d51731c68"
   },
   "outputs": [
    {
     "name": "stdout",
     "output_type": "stream",
     "text": [
      "0      AA; AE; AK; AL; AP; AR; AS; AZ; CA; CO; CT; DC...\n",
      "1                                                 WA; OR\n",
      "2      AA; AE; AK; AL; AP; AR; AS; AZ; CA; CO; CT; DC...\n",
      "3      AA; AE; AK; AL; AP; AR; AS; AZ; CA; CO; CT; DC...\n",
      "4      AA; AE; AK; AL; AP; AR; AS; AZ; CA; CO; CT; DC...\n",
      "                             ...                        \n",
      "643    AA; AE; AK; AL; AP; AR; AS; AZ; CA; CO; CT; DC...\n",
      "644                                                   WA\n",
      "645    AA; AE; AK; AL; AP; AR; AS; AZ; CA; CO; CT; DC...\n",
      "646    AA; AE; AK; AL; AP; AR; AS; AZ; CA; CO; CT; DC...\n",
      "647                                          UT;  WY; ID\n",
      "Name: Available States, Length: 647, dtype: object\n"
     ]
    }
   ],
   "source": [
    "# This code chunk combines the state, multiple state columns into one column containing all states where that card is available (\n",
    "    #maybe should get rid of 'region' column also? prob not because people want to know where their card is available outside of their home state\n",
    "\n",
    "# List of all state abbreviations\n",
    "all_states = [\n",
    "    'AA', 'AE', 'AK', 'AL', 'AP', 'AR', 'AS', 'AZ', 'CA', 'CO', 'CT', 'DC', 'DE', 'FL', 'FM',\n",
    "    'GA', 'GU', 'HI', 'IA', 'ID', 'IL', 'IN', 'KS', 'KY', 'LA', 'MA', 'MD', 'ME', 'MH', 'MI',\n",
    "    'MN', 'MO', 'MP', 'MS', 'MT', 'NC', 'ND', 'NE', 'NH', 'NJ', 'NM', 'NV', 'NY', 'OH', 'OK',\n",
    "    'OR', 'PA', 'PR', 'PW', 'RI', 'SC', 'SD', 'TN', 'TX', 'UT', 'VA', 'VI', 'VT', 'WA', 'WI', 'WV', 'WY'\n",
    "]\n",
    "\n",
    "# Function to combine state columns\n",
    "def combine_states(row):\n",
    "    states = set()\n",
    "    if pd.notna(row['State']):\n",
    "        states.update(row['State'].split(';'))\n",
    "    if pd.notna(row['State (Multiple)']):\n",
    "        states.update(row['State (Multiple)'].split(';'))\n",
    "    if not states:\n",
    "        states.update(all_states)\n",
    "    return '; '.join(sorted(states))\n",
    "\n",
    "# Combine 'State' and 'State (Multiple)' into a new column 'Available States'\n",
    "data['Available States'] = data.apply(combine_states, axis=1)\n",
    "\n",
    "# Save the updated dataset\n",
    "data.to_excel(updated_file_path, index=False)\n",
    "\n",
    "data.drop(columns=['State', 'State (Multiple)', 'Pertains to Specific Counties?'], inplace=True)\n",
    "print(data['Available States'])"
   ]
  },
  {
   "cell_type": "code",
   "execution_count": 32,
   "metadata": {
    "colab": {
     "base_uri": "https://localhost:8080/"
    },
    "id": "gqKa4IvHFOHu",
    "outputId": "8f80e4fb-c008-453a-cce6-6839bfe394bf"
   },
   "outputs": [
    {
     "name": "stdout",
     "output_type": "stream",
     "text": [
      "     Access to Free Credit Scores  Automobile rental insurance  \\\n",
      "0                               0                            0   \n",
      "1                               0                            0   \n",
      "2                               1                            0   \n",
      "3                               1                            0   \n",
      "4                               1                            0   \n",
      "..                            ...                          ...   \n",
      "643                             1                            0   \n",
      "644                             0                            1   \n",
      "645                             0                            0   \n",
      "646                             0                            0   \n",
      "647                             0                            1   \n",
      "\n",
      "     Credit card registration  Debt cancellation coverage  \\\n",
      "0                           0                           0   \n",
      "1                           1                           0   \n",
      "2                           0                           0   \n",
      "3                           0                           0   \n",
      "4                           0                           0   \n",
      "..                        ...                         ...   \n",
      "643                         0                           1   \n",
      "644                         0                           0   \n",
      "645                         0                           0   \n",
      "646                         0                           0   \n",
      "647                         0                           0   \n",
      "\n",
      "     Discounts on purchases of goods and services (non travel related)  \\\n",
      "0                                                    0                   \n",
      "1                                                    0                   \n",
      "2                                                    0                   \n",
      "3                                                    0                   \n",
      "4                                                    0                   \n",
      "..                                                 ...                   \n",
      "643                                                  0                   \n",
      "644                                                  0                   \n",
      "645                                                  0                   \n",
      "646                                                  0                   \n",
      "647                                                  0                   \n",
      "\n",
      "     Extension on manufacturer’s warranty  Other_services  No_Services  \n",
      "0                                       1               1            0  \n",
      "1                                       0               0            0  \n",
      "2                                       0               1            0  \n",
      "3                                       0               1            0  \n",
      "4                                       0               1            0  \n",
      "..                                    ...             ...          ...  \n",
      "643                                     0               0            0  \n",
      "644                                     0               1            0  \n",
      "645                                     0               0            1  \n",
      "646                                     0               0            1  \n",
      "647                                     1               1            0  \n",
      "\n",
      "[647 rows x 8 columns]\n"
     ]
    }
   ],
   "source": [
    "# This splits the Services column up into individual columns for each service and gives a binary 0 or 1 for if that row has the service or not\n",
    "# OTHER services and columns are once again ignored as they very too much between card providers to be analyzed as a group\n",
    "# Define the possible services\n",
    "services = [\n",
    "    'Access to Free Credit Scores',\n",
    "    'Automobile rental insurance',\n",
    "    'Credit card registration',\n",
    "    'Debt cancellation coverage',\n",
    "    'Discounts on purchases of goods and services (non travel related)',\n",
    "    'Extension on manufacturer’s warranty',\n",
    "    'Other_services',\n",
    "    'No_Services'\n",
    "]\n",
    "\n",
    "# Initialize binary columns for each service\n",
    "for service in services:\n",
    "    data[service] = 0\n",
    "\n",
    "# Populate the binary columns\n",
    "for index, row in data.iterrows():\n",
    "    services_list = row['Services']\n",
    "    if pd.notna(services_list):\n",
    "        for service in services:\n",
    "            if service in services_list:\n",
    "                data.at[index, service] = 1\n",
    "\n",
    "data.to_excel(updated_file_path, index=False)\n",
    "\n",
    "# check that it worked\n",
    "print(data[['Access to Free Credit Scores',\n",
    "    'Automobile rental insurance',\n",
    "    'Credit card registration',\n",
    "    'Debt cancellation coverage',\n",
    "    'Discounts on purchases of goods and services (non travel related)',\n",
    "    'Extension on manufacturer’s warranty',\n",
    "    'Other_services',\n",
    "    'No_Services']])"
   ]
  },
  {
   "cell_type": "markdown",
   "metadata": {
    "id": "lPwZV9eg88N_"
   },
   "source": [
    "# Rewards column data Cleaning/Engineering #"
   ]
  },
  {
   "cell_type": "code",
   "execution_count": 33,
   "metadata": {
    "colab": {
     "base_uri": "https://localhost:8080/"
    },
    "id": "K0hmHNXXGjI2",
    "outputId": "7fd7b790-b474-4783-c725-899128530b8c"
   },
   "outputs": [
    {
     "name": "stdout",
     "output_type": "stream",
     "text": [
      "Cashback rewards\n",
      "Other rewards\n",
      "Travel-related rewards\n"
     ]
    }
   ],
   "source": [
    "#lets look at all the possible card \"Rewards\"\n",
    "unique_features = set()\n",
    "for features in data['Rewards'].dropna():\n",
    "    for feature in features.split(';'):\n",
    "        unique_features.add(feature.strip())\n",
    "\n",
    "# Convert the set to a sorted list\n",
    "unique_features = sorted(unique_features)\n",
    "\n",
    "# Print all unique features\n",
    "for feature in unique_features:\n",
    "    print(feature)"
   ]
  },
  {
   "cell_type": "code",
   "execution_count": 34,
   "metadata": {
    "id": "7s8rHrPAJla8"
   },
   "outputs": [],
   "source": [
    "data['Rewards'].fillna('No_rewards', inplace=True)"
   ]
  },
  {
   "cell_type": "code",
   "execution_count": 35,
   "metadata": {
    "colab": {
     "base_uri": "https://localhost:8080/"
    },
    "id": "AmF1z_FoHIXQ",
    "outputId": "307a79ae-d77a-4bcb-a136-36e512e5e997"
   },
   "outputs": [
    {
     "name": "stdout",
     "output_type": "stream",
     "text": [
      "     Cashback rewards  Other rewards  Travel-related rewards  No_rewards\n",
      "0                   0              0                       0           1\n",
      "1                   1              0                       0           0\n",
      "2                   0              0                       0           1\n",
      "3                   0              0                       0           1\n",
      "4                   0              0                       0           1\n",
      "..                ...            ...                     ...         ...\n",
      "643                 1              0                       0           0\n",
      "644                 0              1                       1           0\n",
      "645                 0              0                       0           1\n",
      "646                 1              0                       1           0\n",
      "647                 1              0                       0           0\n",
      "\n",
      "[647 rows x 4 columns]\n"
     ]
    }
   ],
   "source": [
    "#This splits the Services column up into individual columns for each service and gives a binary 0 or 1 for if that row has the service or not\n",
    "# OTHER rewards and columns are once again ignored as they very too much between card providers to be analyzed as a group\n",
    "# Define the possible services\n",
    "rewards = [\n",
    "    'Cashback rewards',\n",
    "    'Other rewards',\n",
    "    'Travel-related rewards',\n",
    "    'No_rewards'\n",
    "]\n",
    "\n",
    "# Initialize binary columns for each service\n",
    "for reward in rewards:\n",
    "    data[reward] = 0\n",
    "\n",
    "# Populate the binary columns\n",
    "for index, row in data.iterrows():\n",
    "    rewards_list = row['Rewards']\n",
    "    if pd.notna(rewards_list):\n",
    "        for reward in rewards:\n",
    "            if reward in rewards_list:\n",
    "                data.at[index, reward] = 1\n",
    "\n",
    "data.to_excel(updated_file_path, index=False)\n",
    "\n",
    "print(data[['Cashback rewards',\n",
    "    'Other rewards',\n",
    "    'Travel-related rewards',\n",
    "    'No_rewards']])"
   ]
  },
  {
   "cell_type": "markdown",
   "metadata": {
    "id": "D6cRGtgivr1X"
   },
   "source": [
    "# Opening Requirements #"
   ]
  },
  {
   "cell_type": "code",
   "execution_count": 36,
   "metadata": {
    "colab": {
     "base_uri": "https://localhost:8080/"
    },
    "id": "EcLtvUEuXkWs",
    "outputId": "d5ae2f9b-81dc-4a72-e6e4-5383f6bc5576"
   },
   "outputs": [
    {
     "name": "stdout",
     "output_type": "stream",
     "text": [
      "Geographic Restrictions Beyond Place of Residence\n",
      "Other. Please Describe:\n",
      "Professional Affiliation\n"
     ]
    }
   ],
   "source": [
    "#lets look at all the possible card 'Requirements for Opening Types'\n",
    "unique_features = set()\n",
    "for features in data['Requirements for Opening Types'].dropna():\n",
    "    for feature in features.split(';'):\n",
    "        unique_features.add(feature.strip())\n",
    "\n",
    "# Convert the set to a sorted list\n",
    "unique_features = sorted(unique_features)\n",
    "\n",
    "# Print all unique features\n",
    "for feature in unique_features:\n",
    "    print(feature)"
   ]
  },
  {
   "cell_type": "code",
   "execution_count": 37,
   "metadata": {
    "id": "HkwtO1VRIU2J"
   },
   "outputs": [],
   "source": [
    "data['Requirements for Opening Types'].fillna('No_opening_requirements', inplace=True)"
   ]
  },
  {
   "cell_type": "code",
   "execution_count": 38,
   "metadata": {
    "colab": {
     "base_uri": "https://localhost:8080/"
    },
    "id": "-cET8p37ic8L",
    "outputId": "af049c1d-8c58-4515-8113-3fa4112ed9fb"
   },
   "outputs": [
    {
     "name": "stdout",
     "output_type": "stream",
     "text": [
      "   Geographic Restrictions Beyond Place of Residence  Other. Please Describe:  \\\n",
      "0                                                  0                        0   \n",
      "1                                                  0                        1   \n",
      "2                                                  0                        0   \n",
      "3                                                  0                        0   \n",
      "4                                                  0                        0   \n",
      "\n",
      "   Professional Affiliation  No_opening_requirements  \n",
      "0                         0                        1  \n",
      "1                         0                        0  \n",
      "2                         0                        1  \n",
      "3                         0                        1  \n",
      "4                         0                        1  \n"
     ]
    }
   ],
   "source": [
    "#this splits the opening requirements column up into individual columns for each service and gives a binary 0 or 1 for if that row has the service or not\n",
    "# there are many other specific requirements that would need to be encoded in a formal tool!!!!!\n",
    "# Define the possible opening requirement types\n",
    "opening_requirements = [\n",
    "    'Geographic Restrictions Beyond Place of Residence',\n",
    "    'Other. Please Describe:',\n",
    "    'Professional Affiliation',\n",
    "    'No_opening_requirements'\n",
    "]\n",
    "\n",
    "# Initialize binary columns for each opening requirement type\n",
    "for requirement in opening_requirements:\n",
    "    data[requirement] = 0\n",
    "\n",
    "# Populate the binary columns\n",
    "for index, row in data.iterrows():\n",
    "    requirements_list = row['Requirements for Opening Types']\n",
    "    if pd.notna(requirements_list):\n",
    "        for requirement in opening_requirements:\n",
    "            if requirement in requirements_list:\n",
    "                data.at[index, requirement] = 1\n",
    "\n",
    "# Save the updated dataset\n",
    "data.to_excel(updated_file_path, index=False)\n",
    "\n",
    "# Print the updated DataFrame to verify the changes\n",
    "print(data[['Geographic Restrictions Beyond Place of Residence',\n",
    "            'Other. Please Describe:',\n",
    "            'Professional Affiliation',\n",
    "            'No_opening_requirements']].head())"
   ]
  },
  {
   "cell_type": "markdown",
   "metadata": {
    "id": "Wwo37DSIjVVA"
   },
   "source": [
    "# Fee columns data cleaning"
   ]
  },
  {
   "cell_type": "code",
   "execution_count": 39,
   "metadata": {
    "colab": {
     "base_uri": "https://localhost:8080/"
    },
    "id": "LEvNUT_mfV1F",
    "outputId": "f1fc7009-eec3-4d79-9715-83efbb9d7932"
   },
   "outputs": [
    {
     "name": "stdout",
     "output_type": "stream",
     "text": [
      "0    Annual\n",
      "1      None\n",
      "2      None\n",
      "3      None\n",
      "4      None\n",
      "Name: Periodic Fee Type, dtype: object\n"
     ]
    }
   ],
   "source": [
    "#impute Periodic Fee Type column with 'none' string in place of NANs\n",
    " # Impute NaN values in the 'Periodic Fee Type' column with 'None'\n",
    "data['Periodic Fee Type'].fillna('None', inplace=True)\n",
    "\n",
    "# Save the updated dataset\n",
    "data.to_excel(updated_file_path, index=False)\n",
    "\n",
    "# Print the updated 'Periodic Fee Type' column to verify the changes\n",
    "print(data['Periodic Fee Type'].head())\n"
   ]
  },
  {
   "cell_type": "code",
   "execution_count": 40,
   "metadata": {
    "id": "RYaKco1RfV3i"
   },
   "outputs": [],
   "source": [
    "#Impute nans in 'Balance Transfer Fee (%)' and 'Minimum Balance Transfer Fee Amount' columns with 0 int\n",
    "data['Minimum Balance Transfer Fee Amount'].fillna(0, inplace=True)\n",
    "data['Balance Transfer Fee (%)'].fillna(0, inplace=True)\n",
    "\n",
    "# Save the updated dataset\n",
    "data.to_excel(updated_file_path, index=False)"
   ]
  },
  {
   "cell_type": "code",
   "execution_count": 41,
   "metadata": {
    "colab": {
     "base_uri": "https://localhost:8080/"
    },
    "id": "SU6CdPF-mqqu",
    "outputId": "8d192c3a-280a-4f53-89a4-d62b2e979f5c"
   },
   "outputs": [
    {
     "name": "stdout",
     "output_type": "stream",
     "text": [
      "   Cash Advance Fee ($)  Cash Advance Fee (%)  \\\n",
      "0                   3.0                  0.03   \n",
      "1                   0.0                  0.00   \n",
      "2                   0.0                  0.05   \n",
      "3                   0.0                  0.05   \n",
      "4                   0.0                  0.05   \n",
      "\n",
      "   Minimum Cash Advance Fee Amount  Foreign Transaction Fee (%)  Late Fee ($)  \\\n",
      "0                              3.0                         0.00          30.0   \n",
      "1                              0.0                         0.01          35.0   \n",
      "2                             10.0                         0.00          29.0   \n",
      "3                             10.0                         0.00          29.0   \n",
      "4                             10.0                         0.00          29.0   \n",
      "\n",
      "   Late Fee Six Month Billing Cycle  Over Limit Fee ($)  Annual Fee  \\\n",
      "0                              41.0                 0.0        25.0   \n",
      "1                               0.0                 0.0         0.0   \n",
      "2                              40.0                 0.0         0.0   \n",
      "3                              40.0                 0.0         0.0   \n",
      "4                              40.0                 0.0         0.0   \n",
      "\n",
      "   Monthly Fee  Weekly Fee  Balance Transfer Fee ($)  \\\n",
      "0          0.0         0.0                       3.0   \n",
      "1          0.0         0.0                       0.0   \n",
      "2          0.0         0.0                       0.0   \n",
      "3          0.0         0.0                       0.0   \n",
      "4          0.0         0.0                       0.0   \n",
      "\n",
      "   Balance Transfer Fee (%)  Cash Advance Fee ($)  Cash Advance Fee (%)  \\\n",
      "0                      0.03                   3.0                  0.03   \n",
      "1                      0.00                   0.0                  0.00   \n",
      "2                      0.00                   0.0                  0.05   \n",
      "3                      0.00                   0.0                  0.05   \n",
      "4                      0.04                   0.0                  0.05   \n",
      "\n",
      "   Minimum Cash Advance Fee Amount  Foreign Transaction Fee (%)  Late Fee ($)  \\\n",
      "0                              3.0                         0.00          30.0   \n",
      "1                              0.0                         0.01          35.0   \n",
      "2                             10.0                         0.00          29.0   \n",
      "3                             10.0                         0.00          29.0   \n",
      "4                             10.0                         0.00          29.0   \n",
      "\n",
      "   Minimum Balance Transfer Fee Amount  \n",
      "0                                  3.0  \n",
      "1                                  0.0  \n",
      "2                                  0.0  \n",
      "3                                  0.0  \n",
      "4                                  5.0  \n"
     ]
    }
   ],
   "source": [
    "# List of columns to fill NaNs with 0\n",
    "columns_to_fill = [\n",
    "    'Cash Advance Fee ($)',\n",
    "    'Cash Advance Fee (%)',\n",
    "    'Minimum Cash Advance Fee Amount',\n",
    "    'Foreign Transaction Fee (%)',\n",
    "    'Late Fee ($)',\n",
    "    'Late Fee Six Month Billing Cycle',\n",
    "    'Over Limit Fee ($)',\n",
    "    'Annual Fee',\n",
    "    'Monthly Fee',\n",
    "    'Weekly Fee',\n",
    "    'Balance Transfer Fee ($)',\n",
    "    'Balance Transfer Fee (%)',\n",
    "    'Cash Advance Fee ($)',\n",
    "    'Cash Advance Fee (%)',\n",
    "    'Minimum Cash Advance Fee Amount',\n",
    "    'Foreign Transaction Fee (%)',\n",
    "    'Late Fee ($)',\n",
    "    'Minimum Balance Transfer Fee Amount',\n",
    "]\n",
    "\n",
    "# Impute NaN values in the specified columns with 0\n",
    "for column in columns_to_fill:\n",
    "    data[column].fillna(0, inplace=True)\n",
    "\n",
    "# Save the updated dataset\n",
    "data.to_excel(updated_file_path, index=False)\n",
    "\n",
    "print(data[columns_to_fill].head())"
   ]
  },
  {
   "cell_type": "code",
   "execution_count": 42,
   "metadata": {
    "colab": {
     "base_uri": "https://localhost:8080/"
    },
    "id": "R66iiJE1GOOC",
    "outputId": "43f08140-760a-47c9-931b-ea6f8fcbe042"
   },
   "outputs": [
    {
     "name": "stdout",
     "output_type": "stream",
     "text": [
      "     Annual Fee  Monthly Fee  Weekly Fee  Cumulative Yearly Fee\n",
      "0          25.0          0.0         0.0                   25.0\n",
      "1           0.0          0.0         0.0                    0.0\n",
      "2           0.0          0.0         0.0                    0.0\n",
      "3           0.0          0.0         0.0                    0.0\n",
      "4           0.0          0.0         0.0                    0.0\n",
      "..          ...          ...         ...                    ...\n",
      "643         0.0          0.0         0.0                    0.0\n",
      "644         0.0          0.0         0.0                    0.0\n",
      "645         0.0          0.0         0.0                    0.0\n",
      "646         0.0          0.0         0.0                    0.0\n",
      "647         0.0          0.0         0.0                    0.0\n",
      "\n",
      "[647 rows x 4 columns]\n"
     ]
    }
   ],
   "source": [
    "# Create the new column 'Cumulative Yearly Fee'\n",
    "data['Cumulative Yearly Fee'] = 0\n",
    "\n",
    "# Define a function to calculate the cumulative yearly fee\n",
    "def calculate_cumulative_yearly_fee(row):\n",
    "    annual_fee = row['Annual Fee'] if pd.notna(row['Annual Fee']) else 0\n",
    "    monthly_fee = (row['Monthly Fee'] * 12) if pd.notna(row['Monthly Fee']) else 0\n",
    "    weekly_fee = (row['Weekly Fee'] * 52) if pd.notna(row['Weekly Fee']) else 0\n",
    "    return annual_fee + monthly_fee + weekly_fee\n",
    "\n",
    "# Apply the function to each row in the DataFrame\n",
    "data['Cumulative Yearly Fee'] = data.apply(calculate_cumulative_yearly_fee, axis=1)\n",
    "\n",
    "# Display the updated DataFrame\n",
    "print(data[['Annual Fee', 'Monthly Fee', 'Weekly Fee', 'Cumulative Yearly Fee']])"
   ]
  },
  {
   "cell_type": "code",
   "execution_count": 43,
   "metadata": {
    "colab": {
     "base_uri": "https://localhost:8080/"
    },
    "id": "6eaD-K9dHiPe",
    "outputId": "bdd4613c-2e37-4060-b411-8bf7660e1295"
   },
   "outputs": [
    {
     "name": "stdout",
     "output_type": "stream",
     "text": [
      "                             Product Name  Annual Fee  Monthly Fee  \\\n",
      "67  Fortiva MasterCard, Aspire MasterCard       175.0         12.5   \n",
      "\n",
      "    Weekly Fee  Cumulative Yearly Fee  \n",
      "67         0.0                  325.0  \n"
     ]
    }
   ],
   "source": [
    "# Print the columns for the row with \"Fortiva MasterCard, Aspire MasterCard\" in the Product Name column\n",
    "specific_row = data[data['Product Name'] == \"Fortiva MasterCard, Aspire MasterCard\"]\n",
    "print(specific_row[['Product Name', 'Annual Fee', 'Monthly Fee', 'Weekly Fee', 'Cumulative Yearly Fee']])\n"
   ]
  },
  {
   "cell_type": "code",
   "execution_count": 44,
   "metadata": {
    "colab": {
     "base_uri": "https://localhost:8080/"
    },
    "id": "raQvq_foOBW9",
    "outputId": "584829e5-be11-499c-e6a6-521a9346ae93"
   },
   "outputs": [
    {
     "name": "stdout",
     "output_type": "stream",
     "text": [
      "['No']\n"
     ]
    },
    {
     "data": {
      "text/plain": [
       "No    647\n",
       "Name: Purchase Transaction Fees, dtype: int64"
      ]
     },
     "execution_count": 44,
     "metadata": {},
     "output_type": "execute_result"
    }
   ],
   "source": [
    "valid_rewards = data['Purchase Transaction Fees'].unique()\n",
    "print(valid_rewards)\n",
    "\n",
    "data['Purchase Transaction Fees'].value_counts()"
   ]
  },
  {
   "cell_type": "code",
   "execution_count": 45,
   "metadata": {
    "id": "3Vf0RDwEPAIG"
   },
   "outputs": [],
   "source": [
    "# Define the columns to drop (they have no data so are just taking up space)\n",
    "columns_to_drop = [\n",
    "    'Purchase Transaction Fees',\n",
    "    'Purchase Transaction Fee Type',\n",
    "    'Purchase Transaction Fee ($)',\n",
    "    'Purchase Transaction Fee (%)',\n",
    "    'Minimum Purchase Transaction Fee Amount',\n",
    "    'Purchase Transaction Fee Calculation'\n",
    "]\n",
    "\n",
    "# Drop the specified columns\n",
    "data.drop(columns=columns_to_drop, inplace=True)"
   ]
  },
  {
   "cell_type": "code",
   "execution_count": 46,
   "metadata": {
    "id": "nK2Ee_x9feYd"
   },
   "outputs": [],
   "source": [
    "# Define the columns to drop (they have no data so are just taking up space)\n",
    "columns_to_drop = [\n",
    "    'Purchase APR Balance Tier 1',\n",
    "    'Purchase APR Tier 1 From Balance',\n",
    "    'Purchase APR Tier 1 to Balance',\n",
    "    'Purchase APR Balance Tier 2',\n",
    "    'Purchase APR Tier 2 From Balance',\n",
    "    'Purchase APR Tier 2 To Balance',\n",
    "    'Purchase APR Balance Tier 3',\n",
    "    'Purchase APR Tier 3 From Balance',\n",
    "    'Purchase APR Tier 3 To Balance',\n",
    "    'Purchase APR Balance Tier 4',\n",
    "    'Purchase APR Tier 4 From Balance',\n",
    "    'Purchase APR Tier 4 To Balance'\n",
    "]\n",
    "\n",
    "# Drop the specified columns\n",
    "data.drop(columns=columns_to_drop, inplace=True)"
   ]
  },
  {
   "cell_type": "code",
   "execution_count": 47,
   "metadata": {
    "colab": {
     "base_uri": "https://localhost:8080/"
    },
    "id": "53VAz_x4W0Vx",
    "outputId": "7bff5134-2ae5-4034-ad7d-72856649658f"
   },
   "outputs": [
    {
     "name": "stdout",
     "output_type": "stream",
     "text": [
      "0      Balance Transfer fee: 3.0$  ;  Percentage Bala...\n",
      "1      Balance Transfer fee: 0.0$  ;  Percentage Bala...\n",
      "2      Balance Transfer fee: 0.0$  ;  Percentage Bala...\n",
      "3      Balance Transfer fee: 0.0$  ;  Percentage Bala...\n",
      "4      Balance Transfer fee: 0.0$  ;  Percentage Bala...\n",
      "                             ...                        \n",
      "643    Balance Transfer fee: 0.0$  ;  Percentage Bala...\n",
      "644    Balance Transfer fee: 0.0$  ;  Percentage Bala...\n",
      "645    Balance Transfer fee: 0.0$  ;  Percentage Bala...\n",
      "646    Balance Transfer fee: 0.0$  ;  Percentage Bala...\n",
      "647    Balance Transfer fee: 0.0$  ;  Percentage Bala...\n",
      "Name: Balance Transfer Fees Cumulative, Length: 647, dtype: object\n"
     ]
    }
   ],
   "source": [
    "def combine_balance_transfer_fees(row):\n",
    "    parts = []\n",
    "\n",
    "    if pd.notna(row['Balance Transfer Fee ($)']):\n",
    "        parts.append(f\"Balance Transfer fee: {row['Balance Transfer Fee ($)']}$\")\n",
    "    if pd.notna(row['Balance Transfer Fee (%)']):\n",
    "        parts.append(f\"Percentage Balance Transfer fee: {row['Balance Transfer Fee (%)']}%\")\n",
    "    if pd.notna(row['Minimum Balance Transfer Fee Amount']):\n",
    "        parts.append(f\"Minimum Balance Transfer fee: {row['Minimum Balance Transfer Fee Amount']}$\")\n",
    "\n",
    "    return '  ;  '.join(parts) if parts else pd.NA\n",
    "\n",
    "# Apply the function to each row in the DataFrame\n",
    "data['Balance Transfer Fees Cumulative'] = data.apply(combine_balance_transfer_fees, axis=1)\n",
    "\n",
    "# Display the updated DataFrame with the new column\n",
    "print(data['Balance Transfer Fees Cumulative'])"
   ]
  },
  {
   "cell_type": "code",
   "execution_count": 48,
   "metadata": {
    "colab": {
     "base_uri": "https://localhost:8080/"
    },
    "id": "O7d6J7dFW0nb",
    "outputId": "0d335429-c646-4835-b3de-02134dba3440"
   },
   "outputs": [
    {
     "name": "stdout",
     "output_type": "stream",
     "text": [
      "0      Dollar Cash Advance fee: 3.0$  ;  Percentage C...\n",
      "1      Dollar Cash Advance fee: 0.0$  ;  Percentage C...\n",
      "2      Dollar Cash Advance fee: 0.0$  ;  Percentage C...\n",
      "3      Dollar Cash Advance fee: 0.0$  ;  Percentage C...\n",
      "4      Dollar Cash Advance fee: 0.0$  ;  Percentage C...\n",
      "                             ...                        \n",
      "643    Dollar Cash Advance fee: 0.0$  ;  Percentage C...\n",
      "644    Dollar Cash Advance fee: 10.0$  ;  Percentage ...\n",
      "645    Dollar Cash Advance fee: 0.0$  ;  Percentage C...\n",
      "646    Dollar Cash Advance fee: 0.0$  ;  Percentage C...\n",
      "647    Dollar Cash Advance fee: 0.0$  ;  Percentage C...\n",
      "Name: Cash Advance Fees Cumulative, Length: 647, dtype: object\n"
     ]
    }
   ],
   "source": [
    "def combine_cash_advance_fees(row):\n",
    "    parts = []\n",
    "\n",
    "    if pd.notna(row['Cash Advance Fee ($)']):\n",
    "        parts.append(f\"Dollar Cash Advance fee: {row['Cash Advance Fee ($)']}$\")\n",
    "    if pd.notna(row['Cash Advance Fee (%)']):\n",
    "        parts.append(f\"Percentage Cash Advance fee: {row['Cash Advance Fee (%)']}%\")\n",
    "    if pd.notna(row['Minimum Cash Advance Fee Amount']):\n",
    "        parts.append(f\"Minimum Cash Advance fee: {row['Minimum Cash Advance Fee Amount']}$\")\n",
    "\n",
    "    return '  ;  '.join(parts) if parts else pd.NA\n",
    "\n",
    "# Apply the function to each row in the DataFrame\n",
    "data['Cash Advance Fees Cumulative'] = data.apply(combine_cash_advance_fees, axis=1)\n",
    "\n",
    "# Display the updated DataFrame with the new column\n",
    "print(data[ 'Cash Advance Fees Cumulative'])"
   ]
  },
  {
   "cell_type": "code",
   "execution_count": 49,
   "metadata": {
    "colab": {
     "base_uri": "https://localhost:8080/"
    },
    "id": "Y1MJqzwMcTfN",
    "outputId": "839f549a-3fb1-4a5b-d6bf-25b4e209fd5f"
   },
   "outputs": [
    {
     "name": "stdout",
     "output_type": "stream",
     "text": [
      "0       Percentage Foreign Transaction Fee: 0.0%\n",
      "1      Percentage Foreign Transaction Fee: 0.01%\n",
      "2       Percentage Foreign Transaction Fee: 0.0%\n",
      "3       Percentage Foreign Transaction Fee: 0.0%\n",
      "4       Percentage Foreign Transaction Fee: 0.0%\n",
      "                         ...                    \n",
      "643    Percentage Foreign Transaction Fee: 0.01%\n",
      "644    Percentage Foreign Transaction Fee: 0.01%\n",
      "645     Percentage Foreign Transaction Fee: 0.0%\n",
      "646     Percentage Foreign Transaction Fee: 0.0%\n",
      "647     Percentage Foreign Transaction Fee: 0.0%\n",
      "Name: Foreign Transaction Fees Cumulative, Length: 647, dtype: object\n"
     ]
    }
   ],
   "source": [
    "def combine_foreign_transaction_fees(row):\n",
    "    parts = []\n",
    "\n",
    "    if pd.notna(row['Foreign Transaction Fee ($)']):\n",
    "        parts.append(f\"Foreign Transaction Fee: {row['Foreign Transaction Fee ($)']}$\")\n",
    "    if pd.notna(row['Foreign Transaction Fee (%)']):\n",
    "        parts.append(f\"Percentage Foreign Transaction Fee: {row['Foreign Transaction Fee (%)']}%\")\n",
    "    if pd.notna(row['Minimum Foreign Transaction Fee Amount']):\n",
    "        parts.append(f\"Minimum Foreign Transaction Fee: {row['Minimum Foreign Transaction Fee Amount']}$\")\n",
    "\n",
    "    return '  ;  '.join(parts) if parts else pd.NA\n",
    "\n",
    "# Apply the function to each row in the DataFrame\n",
    "data['Foreign Transaction Fees Cumulative'] = data.apply(combine_foreign_transaction_fees, axis=1)\n",
    "\n",
    "# Display the updated DataFrame with the new column\n",
    "print(data[ 'Foreign Transaction Fees Cumulative'])"
   ]
  },
  {
   "cell_type": "code",
   "execution_count": 50,
   "metadata": {
    "colab": {
     "base_uri": "https://localhost:8080/"
    },
    "id": "5PLnTNzyg7Ss",
    "outputId": "204d91c1-80e8-45f5-b415-0a55d47ed176"
   },
   "outputs": [
    {
     "name": "stdout",
     "output_type": "stream",
     "text": [
      "                                   Late Fee Cumulative\n",
      "0    First Late Fee Charge: 30.0$  ;  late fees cha...\n",
      "1    First Late Fee Charge: 35.0$  ;  late fees cha...\n",
      "2    First Late Fee Charge: 29.0$  ;  late fees cha...\n",
      "3    First Late Fee Charge: 29.0$  ;  late fees cha...\n",
      "4    First Late Fee Charge: 29.0$  ;  late fees cha...\n",
      "..                                                 ...\n",
      "643  First Late Fee Charge: 0.0$  ;  late fees char...\n",
      "644  First Late Fee Charge: 25.0$  ;  late fees cha...\n",
      "645  First Late Fee Charge: 25.0$  ;  late fees cha...\n",
      "646  First Late Fee Charge: 0.0$  ;  late fees char...\n",
      "647  First Late Fee Charge: 30.0$  ;  late fees cha...\n",
      "\n",
      "[647 rows x 1 columns]\n"
     ]
    }
   ],
   "source": [
    "def combine_foreign_transaction_fees(row):\n",
    "    parts = []\n",
    "    if pd.notna(row['Late Fee ($)']):\n",
    "        parts.append(f\"First Late Fee Charge: {row['Late Fee ($)']}$\")\n",
    "    if pd.notna(row['Late Fee Six Month Billing Cycle']):\n",
    "        parts.append(f\"late fees charged within six billing cycles of a previous late fee: {row['Late Fee Six Month Billing Cycle']}$\")\n",
    "    if pd.notna(row['Late Fee Policy Details']):\n",
    "        parts.append(f\"Other LAte Fee Policy: {row['Late Fee Policy Details']}\")\n",
    "    return '  ;  '.join(parts) if parts else pd.NA\n",
    "\n",
    "# Apply the function to each row in the DataFrame\n",
    "data['Late Fee Cumulative'] = data.apply(combine_foreign_transaction_fees, axis=1)\n",
    "\n",
    "# Display the updated DataFrame with the new column\n",
    "print(data[['Late Fee Cumulative']])"
   ]
  },
  {
   "cell_type": "code",
   "execution_count": 51,
   "metadata": {
    "colab": {
     "base_uri": "https://localhost:8080/"
    },
    "id": "B8LNVqxHji5t",
    "outputId": "a552500c-612f-47ee-c5e4-35d7a25adb2a"
   },
   "outputs": [
    {
     "name": "stdout",
     "output_type": "stream",
     "text": [
      "                             Over Limit Fee Cumulative\n",
      "0                             Over Limit Fee ($): 0.0$\n",
      "1                             Over Limit Fee ($): 0.0$\n",
      "2                             Over Limit Fee ($): 0.0$\n",
      "3                             Over Limit Fee ($): 0.0$\n",
      "4                             Over Limit Fee ($): 0.0$\n",
      "..                                                 ...\n",
      "643                           Over Limit Fee ($): 0.0$\n",
      "644                           Over Limit Fee ($): 0.0$\n",
      "645                           Over Limit Fee ($): 0.0$\n",
      "646  Type: 1. What is the amount of the overlimit f...\n",
      "647                           Over Limit Fee ($): 0.0$\n",
      "\n",
      "[647 rows x 1 columns]\n"
     ]
    }
   ],
   "source": [
    "def combine_over_limit_types(row):\n",
    "    parts = []\n",
    "    if pd.notna(row['Over Limit Fee Types']):\n",
    "        parts.append(f\"Type: {row['Over Limit Fee Types']}$\")\n",
    "    if pd.notna(row['Over Limit Fee ($)']):\n",
    "        parts.append(f\"Over Limit Fee ($): {row['Over Limit Fee ($)']}$\")\n",
    "    if pd.notna(row['Overlimit Fee Detail']):\n",
    "        parts.append(f\"Details: {row['Overlimit Fee Detail']}\")\n",
    "    return '  ;  '.join(parts) if parts else pd.NA\n",
    "\n",
    "# Apply the function to each row in the DataFrame\n",
    "data['Over Limit Fee Cumulative'] = data.apply(combine_over_limit_types, axis=1)\n",
    "\n",
    "# Display the updated DataFrame with the new column\n",
    "print(data[['Over Limit Fee Cumulative']])"
   ]
  },
  {
   "cell_type": "code",
   "execution_count": 52,
   "metadata": {
    "colab": {
     "base_uri": "https://localhost:8080/"
    },
    "id": "OMAmzE46l-G6",
    "outputId": "599d243c-d3a0-44dc-b4a5-749169abe009"
   },
   "outputs": [
    {
     "name": "stdout",
     "output_type": "stream",
     "text": [
      "                                  Other Fee Cumulative\n",
      "0    Other Fee name: Returned Payment Fee$  ;  Amou...\n",
      "1                                                 <NA>\n",
      "2                                                 <NA>\n",
      "3                                                 <NA>\n",
      "4                                                 <NA>\n",
      "..                                                 ...\n",
      "643  Other Fee name: Returned Payment Fee$  ;  Amou...\n",
      "644                                               <NA>\n",
      "645  Other Fee name: Returned payment$  ;  Amount (...\n",
      "646                                               <NA>\n",
      "647  Other Fee name: Return Payment Fee$  ;  Amount...\n",
      "\n",
      "[647 rows x 1 columns]\n"
     ]
    }
   ],
   "source": [
    "def combine_other_fee_types(row):\n",
    "    parts = []\n",
    "    if pd.notna(row['Other Fee Name']):\n",
    "        parts.append(f\"Other Fee name: {row['Other Fee Name']}$\")\n",
    "    if pd.notna(row['Other Fee Amount']):\n",
    "        parts.append(f\"Amount ($): {row['Other Fee Amount']}$\")\n",
    "    if pd.notna(row['Other Fee Explanation']):\n",
    "        parts.append(f\"Details: {row['Other Fee Explanation']}\")\n",
    "    return '  ;  '.join(parts) if parts else pd.NA\n",
    "\n",
    "# Apply the function to each row in the DataFrame\n",
    "data['Other Fee Cumulative'] = data.apply(combine_other_fee_types, axis=1)\n",
    "# Display the updated DataFrame with the new column\n",
    "print(data[['Other Fee Cumulative']])"
   ]
  },
  {
   "cell_type": "code",
   "execution_count": 53,
   "metadata": {
    "colab": {
     "base_uri": "https://localhost:8080/"
    },
    "id": "EvTCesNYm2WZ",
    "outputId": "b8e0f37c-02ad-4725-d1d7-25fda46c8da2"
   },
   "outputs": [
    {
     "name": "stdout",
     "output_type": "stream",
     "text": [
      "                                Other Fee Cumulative 2\n",
      "0    Other Fee 2: Replacement Card Fee$  ;  Amount ...\n",
      "1                                                 <NA>\n",
      "2                                                 <NA>\n",
      "3                                                 <NA>\n",
      "4                                                 <NA>\n",
      "..                                                 ...\n",
      "643                                               <NA>\n",
      "644                                               <NA>\n",
      "645                                               <NA>\n",
      "646                                               <NA>\n",
      "647                                               <NA>\n",
      "\n",
      "[647 rows x 1 columns]\n"
     ]
    }
   ],
   "source": [
    "def combine_other_fee2_types(row):\n",
    "    parts = []\n",
    "    if pd.notna(row['Other Fee Name 2']):\n",
    "        parts.append(f\"Other Fee 2: {row['Other Fee Name 2']}$\")\n",
    "    if pd.notna(row['Other Fee Amount 2']):\n",
    "        parts.append(f\"Amount ($): {row['Other Fee Amount 2']}$\")\n",
    "    if pd.notna(row['Other Fee Explanation 2']):\n",
    "        parts.append(f\"Details: {row['Other Fee Explanation 2']}\")\n",
    "    return '  ;  '.join(parts) if parts else pd.NA\n",
    "\n",
    "# Apply the function to each row in the DataFrame\n",
    "data['Other Fee Cumulative 2'] = data.apply(combine_other_fee2_types, axis=1)\n",
    "# Display the updated DataFrame with the new column\n",
    "print(data[['Other Fee Cumulative 2']])"
   ]
  },
  {
   "cell_type": "code",
   "execution_count": 54,
   "metadata": {
    "colab": {
     "base_uri": "https://localhost:8080/"
    },
    "id": "wzajfUSzoXtk",
    "outputId": "c0ceb4de-1b05-4ae8-d9bb-b2f837cc96c4"
   },
   "outputs": [
    {
     "name": "stdout",
     "output_type": "stream",
     "text": [
      "                                Other Fee Cumulative 3\n",
      "0    Other Fee 3: Copy Fee$  ;  Amount ($): 3.0$  ;...\n",
      "1                                                 <NA>\n",
      "2                                                 <NA>\n",
      "3                                                 <NA>\n",
      "4                                                 <NA>\n",
      "..                                                 ...\n",
      "643                                               <NA>\n",
      "644                                               <NA>\n",
      "645                                               <NA>\n",
      "646                                               <NA>\n",
      "647                                               <NA>\n",
      "\n",
      "[647 rows x 1 columns]\n"
     ]
    }
   ],
   "source": [
    "def combine_other_fee3_types(row):\n",
    "    parts = []\n",
    "    if pd.notna(row['Other Fee Name 3']):\n",
    "        parts.append(f\"Other Fee 3: {row['Other Fee Name 3']}$\")\n",
    "    if pd.notna(row['Other Fee Amount 3']):\n",
    "        parts.append(f\"Amount ($): {row['Other Fee Amount 3']}$\")\n",
    "    if pd.notna(row['Other Fee Explanation 3']):\n",
    "        parts.append(f\"Details: {row['Other Fee Explanation 3']}\")\n",
    "    return '  ;  '.join(parts) if parts else pd.NA\n",
    "\n",
    "# Apply the function to each row in the DataFrame\n",
    "data['Other Fee Cumulative 3'] = data.apply(combine_other_fee3_types, axis=1)\n",
    "# Display the updated DataFrame with the new column\n",
    "print(data[['Other Fee Cumulative 3']])"
   ]
  },
  {
   "cell_type": "code",
   "execution_count": 55,
   "metadata": {
    "colab": {
     "base_uri": "https://localhost:8080/"
    },
    "id": "Oid_t1KromKn",
    "outputId": "6c748c0c-4408-486c-8950-dc7167cd51e6"
   },
   "outputs": [
    {
     "name": "stdout",
     "output_type": "stream",
     "text": [
      "    Other Fee Cumulative 4\n",
      "0             Details: nan\n",
      "1                     <NA>\n",
      "2                     <NA>\n",
      "3                     <NA>\n",
      "4                     <NA>\n",
      "..                     ...\n",
      "643                   <NA>\n",
      "644                   <NA>\n",
      "645                   <NA>\n",
      "646                   <NA>\n",
      "647                   <NA>\n",
      "\n",
      "[647 rows x 1 columns]\n"
     ]
    }
   ],
   "source": [
    "def combine_other_fee4_types(row):\n",
    "    parts = []\n",
    "    if pd.notna(row['Other Fee Name 4']):\n",
    "        parts.append(f\"Other Fee 4: {row['Other Fee Name 4']}$\")\n",
    "    if pd.notna(row['Other Fee Amount 4']):\n",
    "        parts.append(f\"Amount ($): {row['Other Fee Amount 4']}$\")\n",
    "    if pd.notna(row['Other Fee Explanation 3']):\n",
    "        parts.append(f\"Details: {row['Other Fee Explanation 4']}\")\n",
    "    return '  ;  '.join(parts) if parts else pd.NA\n",
    "\n",
    "# Apply the function to each row in the DataFrame\n",
    "data['Other Fee Cumulative 4'] = data.apply(combine_other_fee4_types, axis=1)\n",
    "# Display the updated DataFrame with the new column\n",
    "print(data[['Other Fee Cumulative 4']])"
   ]
  },
  {
   "cell_type": "code",
   "execution_count": 56,
   "metadata": {
    "colab": {
     "base_uri": "https://localhost:8080/"
    },
    "id": "jWUNG1yCoxls",
    "outputId": "a34c91e7-b8e5-49b5-a205-69a4fea2528a"
   },
   "outputs": [
    {
     "name": "stdout",
     "output_type": "stream",
     "text": [
      "    Other Fee Cumulative 5\n",
      "0                     <NA>\n",
      "1                     <NA>\n",
      "2                     <NA>\n",
      "3                     <NA>\n",
      "4                     <NA>\n",
      "..                     ...\n",
      "643                   <NA>\n",
      "644                   <NA>\n",
      "645                   <NA>\n",
      "646                   <NA>\n",
      "647                   <NA>\n",
      "\n",
      "[647 rows x 1 columns]\n"
     ]
    }
   ],
   "source": [
    "def combine_other_fee5_types(row):\n",
    "    parts = []\n",
    "    if pd.notna(row['Other Fee Name 5']):\n",
    "        parts.append(f\"Other Fee 5: {row['Other Fee Name 5']}$\")\n",
    "    if pd.notna(row['Other Fee Amount 5']):\n",
    "        parts.append(f\"Amount ($): {row['Other Fee Amount 5']}$\")\n",
    "    if pd.notna(row['Other Fee Explanation 5']):\n",
    "        parts.append(f\"Details: {row['Other Fee Explanation 5']}\")\n",
    "    return '  ;  '.join(parts) if parts else pd.NA\n",
    "\n",
    "# Apply the function to each row in the DataFrame\n",
    "data['Other Fee Cumulative 5'] = data.apply(combine_other_fee5_types, axis=1)\n",
    "# Display the updated DataFrame with the new column\n",
    "print(data[['Other Fee Cumulative 5']])"
   ]
  },
  {
   "cell_type": "code",
   "execution_count": 57,
   "metadata": {
    "colab": {
     "base_uri": "https://localhost:8080/"
    },
    "id": "Wpv3wVu2MA3r",
    "outputId": "87e33b62-4490-4bc9-9ee9-bca5c80de55d"
   },
   "outputs": [
    {
     "name": "stdout",
     "output_type": "stream",
     "text": [
      "    Other Periodic Fee Name  Other Periodic Fee Amount  \\\n",
      "0                       NaN                        NaN   \n",
      "1                       NaN                        NaN   \n",
      "2                       NaN                        NaN   \n",
      "3                       NaN                        NaN   \n",
      "4                       NaN                        NaN   \n",
      "..                      ...                        ...   \n",
      "643                     NaN                        NaN   \n",
      "644                     NaN                        NaN   \n",
      "645                     NaN                        NaN   \n",
      "646                     NaN                        NaN   \n",
      "647                     NaN                        NaN   \n",
      "\n",
      "    Other Periodic Fee Frequency Other Periodic Fees Cumulative  \n",
      "0                            NaN                           <NA>  \n",
      "1                            NaN                           <NA>  \n",
      "2                            NaN                           <NA>  \n",
      "3                            NaN                           <NA>  \n",
      "4                            NaN                           <NA>  \n",
      "..                           ...                            ...  \n",
      "643                          NaN                           <NA>  \n",
      "644                          NaN                           <NA>  \n",
      "645                          NaN                           <NA>  \n",
      "646                          NaN                           <NA>  \n",
      "647                          NaN                           <NA>  \n",
      "\n",
      "[647 rows x 4 columns]\n"
     ]
    }
   ],
   "source": [
    "# Define the function to combine 'Other Periodic Fee Name', 'Other Periodic Fee Amount', 'Other Periodic Fee Frequency'\n",
    "def combine_other_periodic_fees(row):\n",
    "    if pd.notna(row['Other Periodic Fee Name']) and pd.notna(row['Other Periodic Fee Amount']) and pd.notna(row['Other Periodic Fee Frequency']):\n",
    "        return f\"{row['Other Periodic Fee Name']}: {row['Other Periodic Fee Amount']}: {row['Other Periodic Fee Frequency']}\"\n",
    "    else:\n",
    "        return pd.NA\n",
    "\n",
    "# Apply the function to each row in the DataFrame\n",
    "data['Other Periodic Fees Cumulative'] = data.apply(combine_other_periodic_fees, axis=1)\n",
    "\n",
    "# Display the updated DataFrame with the new column\n",
    "print(data[['Other Periodic Fee Name', 'Other Periodic Fee Amount', 'Other Periodic Fee Frequency', 'Other Periodic Fees Cumulative']])"
   ]
  },
  {
   "cell_type": "code",
   "execution_count": 58,
   "metadata": {
    "colab": {
     "base_uri": "https://localhost:8080/"
    },
    "id": "e_7GI4oRrvu8",
    "outputId": "abc06b22-992a-4954-f605-5ecc3e257761"
   },
   "outputs": [
    {
     "name": "stdout",
     "output_type": "stream",
     "text": [
      "     Purchase APR poor  Purchase APR good  Purchase APR great\n",
      "0                  NaN                NaN                 NaN\n",
      "1               0.2349             0.1674              0.1474\n",
      "2                  NaN                NaN                 NaN\n",
      "3               0.3024             0.3024              0.3024\n",
      "4               0.2824             0.2799              0.2099\n",
      "..                 ...                ...                 ...\n",
      "643             0.2025             0.1825              0.1625\n",
      "644                NaN                NaN                 NaN\n",
      "645                NaN                NaN                 NaN\n",
      "646                NaN                NaN                 NaN\n",
      "647             0.2888             0.2875              0.1700\n",
      "\n",
      "[647 rows x 3 columns]\n"
     ]
    }
   ],
   "source": [
    "def fill_purchase_apr(row):\n",
    "    poor, good, great = row['Purchase APR poor'], row['Purchase APR good'], row['Purchase APR great']\n",
    "\n",
    "    # Check if all three columns already have values\n",
    "    if pd.notna(poor) and pd.notna(good) and pd.notna(great):\n",
    "        return row\n",
    "\n",
    "    # If only one of the three columns has a value, fill the other 2 with the same value\n",
    "    if pd.notna(poor) and pd.isna(good) and pd.isna(great):\n",
    "        row['Purchase APR good'] = row['Purchase APR great'] = poor\n",
    "    elif pd.isna(poor) and pd.notna(good) and pd.isna(great):\n",
    "        row['Purchase APR poor'] = row['Purchase APR great'] = good\n",
    "    elif pd.isna(poor) and pd.isna(good) and pd.notna(great):\n",
    "        row['Purchase APR poor'] = row['Purchase APR good'] = great\n",
    "\n",
    "    # If two of the three columns have values, fill the missing column with the value to the right\n",
    "    elif pd.notna(poor) and pd.notna(good) and pd.isna(great):\n",
    "        row['Purchase APR great'] = good\n",
    "    elif pd.notna(poor) and pd.isna(good) and pd.notna(great):\n",
    "        row['Purchase APR good'] = great\n",
    "    elif pd.isna(poor) and pd.notna(good) and pd.notna(great):\n",
    "        row['Purchase APR poor'] = good\n",
    "\n",
    "    return row\n",
    "\n",
    "# Apply the function to each row in the DataFrame\n",
    "data = data.apply(fill_purchase_apr, axis=1)\n",
    "\n",
    "# Display the updated DataFrame to verify\n",
    "print(data[['Purchase APR poor', 'Purchase APR good', 'Purchase APR great']])"
   ]
  },
  {
   "cell_type": "code",
   "execution_count": 59,
   "metadata": {
    "colab": {
     "base_uri": "https://localhost:8080/"
    },
    "id": "S2Gd5HU7tyUr",
    "outputId": "e4611e83-91d2-48dc-cd39-488c3cf9de26"
   },
   "outputs": [
    {
     "name": "stdout",
     "output_type": "stream",
     "text": [
      "     Purchase APR min  Purchase APR median  Purchase APR max\n",
      "0              0.3415              0.34400            0.3465\n",
      "1              0.1374              0.18865            0.2399\n",
      "2              0.2999              0.30240            0.3124\n",
      "3              0.2799              0.30115            0.3224\n",
      "4              0.1799              0.24615            0.3124\n",
      "..                ...                  ...               ...\n",
      "643            0.1625              0.18250            0.2025\n",
      "644            0.1324              0.17240            0.2124\n",
      "645            0.1776              0.17760            0.1776\n",
      "646            0.1150              0.11500            0.1150\n",
      "647            0.1650              0.22750            0.2900\n",
      "\n",
      "[647 rows x 3 columns]\n"
     ]
    }
   ],
   "source": [
    "def fill_purchase_apr_range(row):\n",
    "    min_apr, median_apr, max_apr = row['Purchase APR min'], row['Purchase APR median'], row['Purchase APR max']\n",
    "\n",
    "    # Check if all three columns already have values\n",
    "    if pd.notna(min_apr) and pd.notna(median_apr) and pd.notna(max_apr):\n",
    "        return row\n",
    "\n",
    "    # If only one of the three columns has a value, fill the other 2 with the same value\n",
    "    if pd.notna(min_apr) and pd.isna(median_apr) and pd.isna(max_apr):\n",
    "        row['Purchase APR median'] = row['Purchase APR max'] = min_apr\n",
    "    elif pd.isna(min_apr) and pd.notna(median_apr) and pd.isna(max_apr):\n",
    "        row['Purchase APR min'] = row['Purchase APR max'] = median_apr\n",
    "    elif pd.isna(min_apr) and pd.isna(median_apr) and pd.notna(max_apr):\n",
    "        row['Purchase APR min'] = row['Purchase APR median'] = max_apr\n",
    "\n",
    "    # If two of the three columns have values, fill the missing column with the appropriate value\n",
    "    elif pd.notna(min_apr) and pd.notna(median_apr) and pd.isna(max_apr):\n",
    "        row['Purchase APR max'] = median_apr\n",
    "    elif pd.notna(min_apr) and pd.isna(median_apr) and pd.notna(max_apr):\n",
    "        row['Purchase APR median'] = (min_apr + max_apr) / 2\n",
    "    elif pd.isna(min_apr) and pd.notna(median_apr) and pd.notna(max_apr):\n",
    "        row['Purchase APR min'] = median_apr\n",
    "\n",
    "    return row\n",
    "\n",
    "# Apply the function to each row in the DataFrame\n",
    "data = data.apply(fill_purchase_apr_range, axis=1)\n",
    "\n",
    "# Display the updated DataFrame to verify\n",
    "print(data[['Purchase APR min', 'Purchase APR median', 'Purchase APR max']])"
   ]
  },
  {
   "cell_type": "code",
   "execution_count": 60,
   "metadata": {
    "colab": {
     "base_uri": "https://localhost:8080/"
    },
    "id": "EFjtMYCWwnie",
    "outputId": "69c64307-0eee-4034-a17e-e50b5bec79bb"
   },
   "outputs": [
    {
     "name": "stdout",
     "output_type": "stream",
     "text": [
      "   Intro APR poor  Intro APR good  Intro APR great\n",
      "0             NaN             NaN              NaN\n",
      "1             NaN             NaN              NaN\n",
      "2             NaN             NaN              NaN\n",
      "3             NaN             NaN              NaN\n",
      "4             NaN             NaN              NaN\n"
     ]
    }
   ],
   "source": [
    "# Function to fill in 'Intro APR poor', 'Intro APR good', and 'Intro APR great' columns\n",
    "def fill_intro_apr(row):\n",
    "    poor, good, great = row['Intro APR poor'], row['Intro APR good'], row['Intro APR great']\n",
    "\n",
    "    # Check if all three columns already have values\n",
    "    if pd.notna(poor) and pd.notna(good) and pd.notna(great):\n",
    "        return row\n",
    "\n",
    "    # If only one of the three columns has a value, fill the other 2 with the same value\n",
    "    if pd.notna(poor) and pd.isna(good) and pd.isna(great):\n",
    "        row['Intro APR good'] = row['Intro APR great'] = poor\n",
    "    elif pd.isna(poor) and pd.notna(good) and pd.isna(great):\n",
    "        row['Intro APR poor'] = row['Intro APR great'] = good\n",
    "    elif pd.isna(poor) and pd.isna(good) and pd.notna(great):\n",
    "        row['Intro APR poor'] = row['Intro APR good'] = great\n",
    "\n",
    "    # If two of the three columns have values, fill the missing column with the value to the right\n",
    "    elif pd.notna(poor) and pd.notna(good) and pd.isna(great):\n",
    "        row['Intro APR great'] = good\n",
    "    elif pd.notna(poor) and pd.isna(good) and pd.notna(great):\n",
    "        row['Intro APR good'] = great\n",
    "    elif pd.isna(poor) and pd.notna(good) and pd.notna(great):\n",
    "        row['Intro APR poor'] = good\n",
    "\n",
    "    return row\n",
    "\n",
    "# Apply the function to each row in the DataFrame\n",
    "data = data.apply(fill_intro_apr, axis=1)\n",
    "\n",
    "\n",
    "# Print the first few rows to verify\n",
    "print(data[['Intro APR poor', 'Intro APR good', 'Intro APR great']].head())\n"
   ]
  },
  {
   "cell_type": "code",
   "execution_count": 61,
   "metadata": {
    "colab": {
     "base_uri": "https://localhost:8080/"
    },
    "id": "3K0TO3T1xL3u",
    "outputId": "d63d2ddc-7358-4d06-80ca-0cb30b2a7c86"
   },
   "outputs": [
    {
     "name": "stdout",
     "output_type": "stream",
     "text": [
      "     Intro APR min  Intro APR median  Intro APR max\n",
      "0              0.0               0.0            0.0\n",
      "1              NaN               NaN            NaN\n",
      "2              NaN               NaN            NaN\n",
      "3              NaN               NaN            NaN\n",
      "4              0.0               0.0            0.0\n",
      "..             ...               ...            ...\n",
      "643            NaN               NaN            NaN\n",
      "644            0.0               0.0            0.0\n",
      "645            NaN               NaN            NaN\n",
      "646            NaN               NaN            NaN\n",
      "647            0.0               0.0            0.0\n",
      "\n",
      "[647 rows x 3 columns]\n"
     ]
    }
   ],
   "source": [
    "def fill_intro_apr_range(row):\n",
    "    min_apr, median_apr, max_apr = row['Intro APR min'], row['Intro APR median'], row['Intro APR max']\n",
    "\n",
    "    # Check if all three columns already have values\n",
    "    if pd.notna(min_apr) and pd.notna(median_apr) and pd.notna(max_apr):\n",
    "        return row\n",
    "\n",
    "    # If only one of the three columns has a value, fill the other 2 with the same value\n",
    "    if pd.notna(min_apr) and pd.isna(median_apr) and pd.isna(max_apr):\n",
    "        row['Intro APR median'] = row['Intro APR max'] = min_apr\n",
    "    elif pd.isna(min_apr) and pd.notna(median_apr) and pd.isna(max_apr):\n",
    "        row['Intro APR min'] = row['Intro APR max'] = median_apr\n",
    "    elif pd.isna(min_apr) and pd.isna(median_apr) and pd.notna(max_apr):\n",
    "        row['Intro APR min'] = row['Intro APR median'] = max_apr\n",
    "\n",
    "    # If two of the three columns have values, fill the missing column with the appropriate value\n",
    "    elif pd.notna(min_apr) and pd.notna(median_apr) and pd.isna(max_apr):\n",
    "        row['Intro APR max'] = median_apr\n",
    "    elif pd.notna(min_apr) and pd.isna(median_apr) and pd.notna(max_apr):\n",
    "        row['Intro APR median'] = (min_apr + max_apr) / 2\n",
    "    elif pd.isna(min_apr) and pd.notna(median_apr) and pd.notna(max_apr):\n",
    "        row['Intro APR min'] = median_apr\n",
    "\n",
    "    return row\n",
    "\n",
    "# Apply the function to each row in the DataFrame\n",
    "data = data.apply(fill_intro_apr_range, axis=1)\n",
    "\n",
    "# Display the updated DataFrame to verify\n",
    "print(data[['Intro APR min', 'Intro APR median', 'Intro APR max']])"
   ]
  },
  {
   "cell_type": "code",
   "execution_count": 62,
   "metadata": {
    "colab": {
     "base_uri": "https://localhost:8080/"
    },
    "id": "zID0c4xMxqDF",
    "outputId": "c55ce3da-723e-4e82-dc42-e4f19a5476fd"
   },
   "outputs": [
    {
     "name": "stdout",
     "output_type": "stream",
     "text": [
      "     Transfer APR poor  Transfer APR good  Transfer APR great\n",
      "0                  NaN                NaN                 NaN\n",
      "1                  NaN                NaN                 NaN\n",
      "2                  NaN                NaN                 NaN\n",
      "3                  NaN                NaN                 NaN\n",
      "4                  NaN                NaN                 NaN\n",
      "..                 ...                ...                 ...\n",
      "643                NaN                NaN                 NaN\n",
      "644                NaN                NaN                 NaN\n",
      "645                NaN                NaN                 NaN\n",
      "646                NaN                NaN                 NaN\n",
      "647                NaN                NaN                 NaN\n",
      "\n",
      "[647 rows x 3 columns]\n"
     ]
    }
   ],
   "source": [
    "# Function to fill in 'Transfer APR poor', 'Transfer APR good', and 'Transfer APR great' columns\n",
    "def fill_transfer_apr(row):\n",
    "    poor, good, great = row['Transfer APR poor'], row['Transfer APR good'], row['Transfer APR great']\n",
    "\n",
    "    # Check if all three columns already have values\n",
    "    if pd.notna(poor) and pd.notna(good) and pd.notna(great):\n",
    "        return row\n",
    "\n",
    "    # If only one of the three columns has a value, fill the other 2 with the same value\n",
    "    if pd.notna(poor) and pd.isna(good) and pd.isna(great):\n",
    "        row['Transfer APR good'] = row['Transfer APR great'] = poor\n",
    "    elif pd.isna(poor) and pd.notna(good) and pd.isna(great):\n",
    "        row['Transfer APR poor'] = row['Transfer APR great'] = good\n",
    "    elif pd.isna(poor) and pd.isna(good) and pd.notna(great):\n",
    "        row['Transfer APR poor'] = row['Transfer APR good'] = great\n",
    "\n",
    "    # If two of the three columns have values, fill the missing column with the value to the right\n",
    "    elif pd.notna(poor) and pd.notna(good) and pd.isna(great):\n",
    "        row['Transfer APR great'] = good\n",
    "    elif pd.notna(poor) and pd.isna(good) and pd.notna(great):\n",
    "        row['Transfer APR good'] = great\n",
    "    elif pd.isna(poor) and pd.notna(good) and pd.notna(great):\n",
    "        row['Transfer APR poor'] = good\n",
    "\n",
    "    return row\n",
    "\n",
    "# Apply the function to each row in the DataFrame\n",
    "data = data.apply(fill_transfer_apr, axis=1)\n",
    "\n",
    "# Display the updated DataFrame to verify\n",
    "print(data[['Transfer APR poor', 'Transfer APR good', 'Transfer APR great']])"
   ]
  },
  {
   "cell_type": "code",
   "execution_count": 63,
   "metadata": {
    "colab": {
     "base_uri": "https://localhost:8080/"
    },
    "id": "zKTIj0tNxqFa",
    "outputId": "5b866000-13f9-4e7c-b926-a3c99fdba812"
   },
   "outputs": [
    {
     "name": "stdout",
     "output_type": "stream",
     "text": [
      "   Transfer APR min  Transfer APR median  Transfer APR max\n",
      "0               NaN                  NaN               NaN\n",
      "1               NaN                  NaN               NaN\n",
      "2               NaN                  NaN               NaN\n",
      "3               NaN                  NaN               NaN\n",
      "4               0.0                  0.0               0.0\n"
     ]
    }
   ],
   "source": [
    "def fill_transfer_apr_range(row):\n",
    "    min_apr, median_apr, max_apr = row['Transfer APR min'], row['Transfer APR median'], row['Transfer APR max']\n",
    "\n",
    "    # Check if all three columns already have values\n",
    "    if pd.notna(min_apr) and pd.notna(median_apr) and pd.notna(max_apr):\n",
    "        return row\n",
    "\n",
    "    # If only one of the three columns has a value, fill the other 2 with the same value\n",
    "    if pd.notna(min_apr) and pd.isna(median_apr) and pd.isna(max_apr):\n",
    "        row['Transfer APR median'] = row['Transfer APR max'] = min_apr\n",
    "    elif pd.isna(min_apr) and pd.notna(median_apr) and pd.isna(max_apr):\n",
    "        row['Transfer APR min'] = row['Transfer APR max'] = median_apr\n",
    "    elif pd.isna(min_apr) and pd.isna(median_apr) and pd.notna(max_apr):\n",
    "        row['Transfer APR min'] = row['Transfer APR median'] = max_apr\n",
    "\n",
    "    # If two of the three columns have values, fill the missing column with the appropriate value\n",
    "    elif pd.notna(min_apr) and pd.notna(median_apr) and pd.isna(max_apr):\n",
    "        row['Transfer APR max'] = median_apr\n",
    "    elif pd.notna(min_apr) and pd.isna(median_apr) and pd.notna(max_apr):\n",
    "        row['Transfer APR median'] = (min_apr + max_apr) / 2\n",
    "    elif pd.isna(min_apr) and pd.notna(median_apr) and pd.notna(max_apr):\n",
    "        row['Transfer APR min'] = median_apr\n",
    "\n",
    "    return row\n",
    "\n",
    "# Apply the function to each row in the DataFrame\n",
    "data = data.apply(fill_transfer_apr_range, axis=1)\n",
    "\n",
    "# Print the first few rows to verify\n",
    "print(data[['Transfer APR min', 'Transfer APR median', 'Transfer APR max']].head())"
   ]
  },
  {
   "cell_type": "code",
   "execution_count": 64,
   "metadata": {
    "colab": {
     "base_uri": "https://localhost:8080/"
    },
    "id": "Cp7E1Uw_xqIC",
    "outputId": "eac7d98e-e6bc-4842-eabb-a3ee09239a8a"
   },
   "outputs": [
    {
     "name": "stdout",
     "output_type": "stream",
     "text": [
      "     Advance APR poor  Advance APR good  Advance APR great\n",
      "0                 NaN               NaN                NaN\n",
      "1              0.2349            0.1674             0.1474\n",
      "2                 NaN               NaN                NaN\n",
      "3              0.3024            0.3024             0.3024\n",
      "4              0.2824            0.2799             0.2099\n",
      "..                ...               ...                ...\n",
      "643               NaN               NaN                NaN\n",
      "644               NaN               NaN                NaN\n",
      "645               NaN               NaN                NaN\n",
      "646               NaN               NaN                NaN\n",
      "647            0.2988            0.3000             0.2600\n",
      "\n",
      "[647 rows x 3 columns]\n"
     ]
    }
   ],
   "source": [
    "def fill_advance_apr(row):\n",
    "    poor, good, great = row['Advance APR poor'], row['Advance APR good'], row['Advance APR great']\n",
    "\n",
    "    # Check if all three columns already have values\n",
    "    if pd.notna(poor) and pd.notna(good) and pd.notna(great):\n",
    "        return row\n",
    "\n",
    "    # If only one of the three columns has a value, fill the other 2 with the same value\n",
    "    if pd.notna(poor) and pd.isna(good) and pd.isna(great):\n",
    "        row['Advance APR good'] = row['Advance APR great'] = poor\n",
    "    elif pd.isna(poor) and pd.notna(good) and pd.isna(great):\n",
    "        row['Advance APR poor'] = row['Advance APR great'] = good\n",
    "    elif pd.isna(poor) and pd.isna(good) and pd.notna(great):\n",
    "        row['Advance APR poor'] = row['Advance APR good'] = great\n",
    "\n",
    "    # If two of the three columns have values, fill the missing column with the value to the right\n",
    "    elif pd.notna(poor) and pd.notna(good) and pd.isna(great):\n",
    "        row['Advance APR great'] = good\n",
    "    elif pd.notna(poor) and pd.isna(good) and pd.notna(great):\n",
    "        row['Advance APR good'] = great\n",
    "    elif pd.isna(poor) and pd.notna(good) and pd.notna(great):\n",
    "        row['Advance APR poor'] = good\n",
    "\n",
    "    return row\n",
    "\n",
    "# Apply the function to each row in the DataFrame\n",
    "data = data.apply(fill_advance_apr, axis=1)\n",
    "\n",
    "# Display the updated DataFrame to verify\n",
    "print(data[['Advance APR poor', 'Advance APR good', 'Advance APR great']])"
   ]
  },
  {
   "cell_type": "code",
   "execution_count": 65,
   "metadata": {
    "colab": {
     "base_uri": "https://localhost:8080/"
    },
    "id": "eNFdYxMtne1R",
    "outputId": "cf7cd3e0-d05a-4734-8a67-2872f26b1aa4"
   },
   "outputs": [
    {
     "name": "stdout",
     "output_type": "stream",
     "text": [
      "                       Product Name  Advance APR min  Advance APR median  \\\n",
      "78  Hawaiian World Elite Mastercard           0.2949              0.2974   \n",
      "\n",
      "    Advance APR max  Transfer APR min  Transfer APR median  Transfer APR max  \\\n",
      "78           0.2999               0.0                  0.0               0.0   \n",
      "\n",
      "    Purchase APR min  Purchase APR median  Purchase APR max  Intro APR min  \\\n",
      "78            0.2024              0.25115            0.2999            NaN   \n",
      "\n",
      "    Intro APR median  Intro APR max  \n",
      "78               NaN            NaN  \n"
     ]
    }
   ],
   "source": [
    "\n",
    "# Function to fill missing Advance APR values\n",
    "def fill_advance_apr_range(row):\n",
    "    min_apr, median_apr, max_apr = row['Advance APR min'], row['Advance APR median'], row['Advance APR max']\n",
    "\n",
    "    # Check if all three columns already have values\n",
    "    if pd.notna(min_apr) and pd.notna(median_apr) and pd.notna(max_apr):\n",
    "        return row\n",
    "\n",
    "    # If only one of the three columns has a value, fill the other 2 with the same value\n",
    "    if pd.notna(min_apr) and pd.isna(median_apr) and pd.isna(max_apr):\n",
    "        row['Advance APR median'] = row['Advance APR max'] = min_apr\n",
    "    elif pd.isna(min_apr) and pd.notna(median_apr) and pd.isna(max_apr):\n",
    "        row['Advance APR min'] = row['Advance APR max'] = median_apr\n",
    "    elif pd.isna(min_apr) and pd.isna(median_apr) and pd.notna(max_apr):\n",
    "        row['Advance APR min'] = row['Advance APR median'] = max_apr\n",
    "\n",
    "    # If two of the three columns have values, fill the missing column with the appropriate value\n",
    "    if pd.notna(min_apr) and pd.notna(median_apr) and pd.isna(max_apr):\n",
    "        row['Advance APR max'] = median_apr\n",
    "    elif pd.notna(min_apr) and pd.isna(median_apr) and pd.notna(max_apr):\n",
    "        row['Advance APR median'] = (min_apr + max_apr) / 2\n",
    "    elif pd.isna(min_apr) and pd.notna(median_apr) and pd.notna(max_apr):\n",
    "        row['Advance APR min'] = median_apr\n",
    "\n",
    "    return row\n",
    "\n",
    "# Apply the function to each row in the DataFrame\n",
    "data = data.apply(fill_advance_apr_range, axis=1)\n",
    "\n",
    "# Select the relevant columns\n",
    "apr_columns = [\n",
    "    'Advance APR min', 'Advance APR median', 'Advance APR max',\n",
    "    'Transfer APR min', 'Transfer APR median', 'Transfer APR max',\n",
    "    'Purchase APR min', 'Purchase APR median', 'Purchase APR max',\n",
    "    'Intro APR min', 'Intro APR median', 'Intro APR max'\n",
    "]\n",
    "\n",
    "# Filter the DataFrame for the specified product name\n",
    "hawaiian_card_data = data[data['Product Name'] == 'Hawaiian World Elite Mastercard']\n",
    "\n",
    "# Print the APR values\n",
    "print(hawaiian_card_data[['Product Name'] + apr_columns])"
   ]
  },
  {
   "cell_type": "code",
   "execution_count": 66,
   "metadata": {
    "colab": {
     "base_uri": "https://localhost:8080/",
     "height": 564
    },
    "id": "PN4xtWEYv4kG",
    "outputId": "000201d0-d25b-4f94-c1f6-d5c502ef276f"
   },
   "outputs": [
    {
     "data": {
      "image/png": "[encoded data removed]",
      "text/plain": [
       "<Figure size 720x432 with 1 Axes>"
      ]
     },
     "metadata": {
      "needs_background": "light"
     },
     "output_type": "display_data"
    }
   ],
   "source": [
    "import matplotlib.pyplot as plt\n",
    "import seaborn as sns\n",
    "# Dropping NaN values\n",
    "cleaned_data = data['Average Negative Sentiment'].dropna()\n",
    "\n",
    "# Plotting the distribution\n",
    "plt.figure(figsize=(10, 6))\n",
    "plt.hist(cleaned_data, bins=10, edgecolor='black', alpha=0.7)\n",
    "plt.title('Distribution of Average Negative Sentiment')\n",
    "plt.xlabel('Average Negative Sentiment')\n",
    "plt.ylabel('Frequency')\n",
    "plt.grid(True)\n",
    "plt.show()"
   ]
  },
  {
   "cell_type": "code",
   "execution_count": 67,
   "metadata": {
    "colab": {
     "base_uri": "https://localhost:8080/",
     "height": 478
    },
    "id": "Ce_KJBotPtia",
    "outputId": "e2c967a1-5a48-4fb8-a151-7cf61f3516cc"
   },
   "outputs": [
    {
     "data": {
      "text/html": [
       "<div>\n",
       "<style scoped>\n",
       "    .dataframe tbody tr th:only-of-type {\n",
       "        vertical-align: middle;\n",
       "    }\n",
       "\n",
       "    .dataframe tbody tr th {\n",
       "        vertical-align: top;\n",
       "    }\n",
       "\n",
       "    .dataframe thead th {\n",
       "        text-align: right;\n",
       "    }\n",
       "</style>\n",
       "<table border=\"1\" class=\"dataframe\">\n",
       "  <thead>\n",
       "    <tr style=\"text-align: right;\">\n",
       "      <th></th>\n",
       "      <th>Product Name</th>\n",
       "      <th>Average Negative Sentiment</th>\n",
       "      <th>Sentiment Star Rating</th>\n",
       "    </tr>\n",
       "  </thead>\n",
       "  <tbody>\n",
       "    <tr>\n",
       "      <th>0</th>\n",
       "      <td>1st Financial Bank USA credit card</td>\n",
       "      <td>0.046333</td>\n",
       "      <td>4.375</td>\n",
       "    </tr>\n",
       "    <tr>\n",
       "      <th>1</th>\n",
       "      <td>Signature Cashback Rewards Credit Card</td>\n",
       "      <td>NaN</td>\n",
       "      <td>no data</td>\n",
       "    </tr>\n",
       "    <tr>\n",
       "      <th>2</th>\n",
       "      <td>Platinum+ Mastercard</td>\n",
       "      <td>0.087349</td>\n",
       "      <td>1.894201</td>\n",
       "    </tr>\n",
       "    <tr>\n",
       "      <th>3</th>\n",
       "      <td>Ally Platinum Mastercard_1</td>\n",
       "      <td>0.087349</td>\n",
       "      <td>1.894201</td>\n",
       "    </tr>\n",
       "    <tr>\n",
       "      <th>4</th>\n",
       "      <td>Ally Platinum Mastercard_2</td>\n",
       "      <td>0.087349</td>\n",
       "      <td>1.894201</td>\n",
       "    </tr>\n",
       "    <tr>\n",
       "      <th>...</th>\n",
       "      <td>...</td>\n",
       "      <td>...</td>\n",
       "      <td>...</td>\n",
       "    </tr>\n",
       "    <tr>\n",
       "      <th>643</th>\n",
       "      <td>Visa Cash Rewards</td>\n",
       "      <td>NaN</td>\n",
       "      <td>no data</td>\n",
       "    </tr>\n",
       "    <tr>\n",
       "      <th>644</th>\n",
       "      <td>Platinum Visa</td>\n",
       "      <td>NaN</td>\n",
       "      <td>no data</td>\n",
       "    </tr>\n",
       "    <tr>\n",
       "      <th>645</th>\n",
       "      <td>Visa Unicorn Credit Card</td>\n",
       "      <td>0.054750</td>\n",
       "      <td>3.865927</td>\n",
       "    </tr>\n",
       "    <tr>\n",
       "      <th>646</th>\n",
       "      <td>Visa Credit Card Platinum</td>\n",
       "      <td>NaN</td>\n",
       "      <td>no data</td>\n",
       "    </tr>\n",
       "    <tr>\n",
       "      <th>647</th>\n",
       "      <td>Zions Bank Agility Cash Visa Credit Card</td>\n",
       "      <td>0.073267</td>\n",
       "      <td>2.745968</td>\n",
       "    </tr>\n",
       "  </tbody>\n",
       "</table>\n",
       "<p>647 rows × 3 columns</p>\n",
       "</div>"
      ],
      "text/plain": [
       "                                 Product Name  Average Negative Sentiment  \\\n",
       "0          1st Financial Bank USA credit card                    0.046333   \n",
       "1      Signature Cashback Rewards Credit Card                         NaN   \n",
       "2                        Platinum+ Mastercard                    0.087349   \n",
       "3                  Ally Platinum Mastercard_1                    0.087349   \n",
       "4                  Ally Platinum Mastercard_2                    0.087349   \n",
       "..                                        ...                         ...   \n",
       "643                         Visa Cash Rewards                         NaN   \n",
       "644                             Platinum Visa                         NaN   \n",
       "645                  Visa Unicorn Credit Card                    0.054750   \n",
       "646                 Visa Credit Card Platinum                         NaN   \n",
       "647  Zions Bank Agility Cash Visa Credit Card                    0.073267   \n",
       "\n",
       "    Sentiment Star Rating  \n",
       "0                   4.375  \n",
       "1                 no data  \n",
       "2                1.894201  \n",
       "3                1.894201  \n",
       "4                1.894201  \n",
       "..                    ...  \n",
       "643               no data  \n",
       "644               no data  \n",
       "645              3.865927  \n",
       "646               no data  \n",
       "647              2.745968  \n",
       "\n",
       "[647 rows x 3 columns]"
      ]
     },
     "metadata": {},
     "output_type": "display_data"
    }
   ],
   "source": [
    "\n",
    "# Function to normalize and invert 'Average Negative Sentiment'\n",
    "def normalize_and_invert_sentiment(df, column):\n",
    "    # Ignore NaN values for normalization\n",
    "    valid_values = df[column].dropna()\n",
    "\n",
    "    # Normalize the values to a 0-5 scale\n",
    "    min_val = valid_values.min()\n",
    "    max_val = valid_values.max()\n",
    "    normalized = 5 * (valid_values - min_val) / (max_val - min_val)\n",
    "\n",
    "    # Invert the values\n",
    "    inverted = 5 - normalized\n",
    "\n",
    "    # Assign the inverted values back to the DataFrame\n",
    "    df.loc[valid_values.index, 'Sentiment Star Rating'] = inverted\n",
    "\n",
    "    # Replace NaN values with \"no data\"\n",
    "    df['Sentiment Star Rating'].fillna(\"no data\", inplace=True)\n",
    "\n",
    "# Assuming your DataFrame is named 'data'\n",
    "normalize_and_invert_sentiment(data, 'Average Negative Sentiment')\n",
    "\n",
    "# Display the DataFrame to verify the changes\n",
    "display(data[['Product Name', 'Average Negative Sentiment', 'Sentiment Star Rating']])\n"
   ]
  },
  {
   "cell_type": "markdown",
   "metadata": {
    "id": "J0-HQm-DwmoM"
   },
   "source": [
    "# Filtering tool code begins here!#"
   ]
  },
  {
   "cell_type": "code",
   "execution_count": null,
   "metadata": {
    "id": "Qs5M4LJz_J9P"
   },
   "outputs": [],
   "source": []
  },
  {
   "cell_type": "code",
   "execution_count": 68,
   "metadata": {
    "colab": {
     "base_uri": "https://localhost:8080/",
     "height": 1000,
     "referenced_widgets": [
      "02fb9799b6ba428f8d37186592c572da",
      "0476a315a4df4bff911d81e6c036b531",
      "b412d3ddb59647298d30bf6247c22c03",
      "1d8df5cf4b9c4d7b8c32c7d6ae4121e7",
      "3c7c708bf4284adda4c9a19f336ad809",
      "5edea765369647d09e5d390c0dbcbbcd",
      "6a47d5cc661948db8d208928003ea634",
      "59df987273524786bd0f9380fe33aea8",
      "68d84e0f25a04e38a075cac7114a3cd3",
      "881b6158a8fa46f5b5d6ac8818fd8f8b",
      "313344bef87c402bb6bdacff0473e2dd",
      "5d999fa7a7214a3dad702661cf169b63",
      "82ad4068d15b4138ad6538832f6308f4",
      "83d67edfb73a43698d0f3206903bc5c5",
      "dcde1e59fae443c3bcb3eb204e8db6fa",
      "b6202b38f2e84cf4a4aeb24219be1dbf",
      "b687b966d9104605bedae5975587656f",
      "7f4f91cb64814e2d84e1ac7b5ac6cc45",
      "20d5bf93d8c642b2b2f0983a2eb1d20d",
      "6fdc1806dbcb4fa8a742d8a4a7690d55",
      "e4fd5d2169fa458588f50f49446ec54b",
      "a3c62a9bae1a44eb898e81c9328ecd60",
      "ae0f903f928b4eb886c16dda0adcbb6e",
      "06f3ccadf0224e4b9af759ad8dafa461",
      "091def407a0341d594fdd8457d630efc",
      "39ca9927c5fd48c1acad3733e8dbe884",
      "5a9d1328e48a4007abf3304799e5fdae",
      "f9af2d7d5f2a4f90a98f32b01acb98c4",
      "c6cb8227cdff40d2ae942433b837cac7",
      "30acda9169d84a559815bbd5958a7957",
      "3a1fd83e2f044fd18dc3d41bd583e8ae",
      "5d4fbba138de45dcaf6b291eff0f9a1f",
      "a3b29bb62b124ca0ad06019e3d46f3f3",
      "b3b7ffb6490d4f818c4032aaf7cda649",
      "b129f64ce845498fb30c2349599b39f0",
      "59b8cde84f1141d5ab60fadaef4c2ebf",
      "ee8872eef17d48549e0d7d5c718c96b3",
      "1c4f2d4773fe4e69a1577c2fe12f583e",
      "0f4bfcdaaa1f4663b23dd8b883595a61",
      "e4c1adb434154e10999b05b05722019a",
      "113ce0b16acb44619cef2e9179fb85ba",
      "a92a94c950b54d9e9f7e4f948c5ad7b9",
      "f96dfac46032449f8ccd1559cb79e7dc",
      "a41b8f93363c465c84cec36f0eac3593",
      "2fa69662816a4b0eae75baa25069f73a",
      "4e256b91f62f447eaab1a81e836b8400",
      "032b2685aa7a4836afbe85218bec13df"
     ]
    },
    "id": "0NNPTSEC9K2y",
    "outputId": "98d43481-e501-4f21-f3ca-13546bec121d"
   },
   "outputs": [
    {
     "data": {
      "application/vnd.jupyter.widget-view+json": {
       "model_id": "755035a6f6c143d7a4ab99556e1446dc",
       "version_major": 2,
       "version_minor": 0
      },
      "text/plain": [
       "VBox(children=(HBox(children=(Label(value='Your Credit Tier:', layout=Layout(width='200px')), Dropdown(layout=…"
      ]
     },
     "metadata": {},
     "output_type": "display_data"
    }
   ],
   "source": [
    "import ipywidgets as widgets\n",
    "from IPython.display import display, clear_output\n",
    "import pandas as pd\n",
    "\n",
    "# Assuming 'data' is already defined as your DataFrame\n",
    "\n",
    "# Global variable to store the filtered DataFrame\n",
    "filtered_data = data.copy()\n",
    "\n",
    "# Dropdown widget for credit tiers\n",
    "credit_tier_dropdown = widgets.Dropdown(\n",
    "    options=[\n",
    "        'No credit score',\n",
    "        'Credit score 619 or less',\n",
    "        'Credit scores from 620 to 719',\n",
    "        'Credit score of 720 or greater'\n",
    "    ],\n",
    "    value='No credit score',  # Default value\n",
    "    description='',  # Remove the description\n",
    "    disabled=False,\n",
    "    layout={'width': 'max-content'}\n",
    ")\n",
    "\n",
    "# List of all state abbreviations\n",
    "states = [\n",
    "    'AL', 'AK', 'AZ', 'AR', 'CA', 'CO', 'CT', 'DE', 'FL', 'GA', 'HI', 'ID', 'IL', 'IN', 'IA',\n",
    "    'KS', 'KY', 'LA', 'ME', 'MD', 'MA', 'MI', 'MN', 'MS', 'MO', 'MT', 'NE', 'NV', 'NH', 'NJ',\n",
    "    'NM', 'NY', 'NC', 'ND', 'OH', 'OK', 'OR', 'PA', 'RI', 'SC', 'SD', 'TN', 'TX', 'UT', 'VT',\n",
    "    'VA', 'WA', 'WV', 'WI', 'WY'\n",
    "]\n",
    "\n",
    "# Dropdown widget for available states\n",
    "states_dropdown = widgets.Dropdown(\n",
    "    options=states,\n",
    "    value='AL',  # Default value\n",
    "    description='',  # Remove the description\n",
    "    disabled=False,\n",
    "    layout={'width': 'max-content'}\n",
    ")\n",
    "\n",
    "# List of possible card features\n",
    "card_features = [\n",
    "    'Chip card',\n",
    "    'Contactless Payments',\n",
    "    'Fee-free foreign transactions',\n",
    "    'Mobile wallet provisioning (for example, Apple Pay)',\n",
    "    'Other_features',\n",
    "    'No_features'\n",
    "]\n",
    "\n",
    "# SelectMultiple widget for card features\n",
    "features_dropdown = widgets.SelectMultiple(\n",
    "    options=card_features,\n",
    "    value=[],  # Default value\n",
    "    description='',  # Remove the description\n",
    "    disabled=False,\n",
    "    layout={'width': 'max-content'}\n",
    ")\n",
    "\n",
    "# List of possible services\n",
    "services = [\n",
    "    'Access to Free Credit Scores',\n",
    "    'Automobile rental insurance',\n",
    "    'Credit card registration',\n",
    "    'Debt cancellation coverage',\n",
    "    'Discounts on purchases of goods and services (non travel related)',\n",
    "    'Extension on manufacturer’s warranty',\n",
    "    'Other_services',\n",
    "    'No_Services'\n",
    "]\n",
    "\n",
    "# SelectMultiple widget for services\n",
    "services_dropdown = widgets.SelectMultiple(\n",
    "    options=services,\n",
    "    value=[],  # Default value\n",
    "    description='',  # Remove the description\n",
    "    disabled=False,\n",
    "    layout={'width': 'max-content'}\n",
    ")\n",
    "\n",
    "# List of possible rewards\n",
    "rewards = [\n",
    "    'Cashback rewards',\n",
    "    'Other rewards',\n",
    "    'Travel-related rewards',\n",
    "    'No_rewards'\n",
    "]\n",
    "\n",
    "# SelectMultiple widget for rewards\n",
    "rewards_dropdown = widgets.SelectMultiple(\n",
    "    options=rewards,\n",
    "    value=[],  # Default value\n",
    "    description='',  # Remove the description\n",
    "    disabled=False,\n",
    "    layout={'width': 'max-content'}\n",
    ")\n",
    "\n",
    "# Output widget to display the filtered dataframe\n",
    "output_filtered_data = widgets.Output()\n",
    "\n",
    "# Label widget to display the number of rows in the filtered dataset\n",
    "row_count_label = widgets.Label(value=\"Number of rows in the filtered dataset: 0\")\n",
    "\n",
    "# Global variable to store the final filtered dataset\n",
    "final_filtered_data = pd.DataFrame()\n",
    "\n",
    "# Function to filter the dataframe based on credit tier selection\n",
    "def filter_by_credit_tier(change):\n",
    "    global filtered_data, final_filtered_data\n",
    "    if change['type'] == 'change' and change['name'] == 'value':\n",
    "        with output_filtered_data:\n",
    "            clear_output(wait=True)  # Clear the previous output\n",
    "            selected_tier = credit_tier_dropdown.value\n",
    "            filtered_data = data[data[selected_tier] == 1]\n",
    "            # Update the final filtered data\n",
    "            final_filtered_data = filtered_data.copy()\n",
    "            # Display the filtered DataFrame\n",
    "            display(filtered_data.head())\n",
    "            # Update the row count label\n",
    "            row_count_label.value = f\"Number of rows in the filtered dataset: {len(filtered_data)}\"\n",
    "\n",
    "# Function to filter the dataframe based on selected state\n",
    "def filter_by_state(change):\n",
    "    global filtered_data, final_filtered_data\n",
    "    if change['type'] == 'change' and change['name'] == 'value':\n",
    "        with output_filtered_data:\n",
    "            clear_output(wait=True)  # Clear the previous output\n",
    "            selected_state = states_dropdown.value\n",
    "            filtered_data = filtered_data[filtered_data['Available States'].apply(lambda x: selected_state in x)]\n",
    "            # Update the final filtered data\n",
    "            final_filtered_data = filtered_data.copy()\n",
    "            # Display the filtered DataFrame\n",
    "            display(filtered_data.head())\n",
    "            # Update the row count label\n",
    "            row_count_label.value = f\"Number of rows in the filtered dataset: {len(filtered_data)}\"\n",
    "\n",
    "# Function to filter the dataframe based on selected features\n",
    "def filter_by_features(change):\n",
    "    global filtered_data, final_filtered_data\n",
    "    if change['type'] == 'change' and change['name'] == 'value':\n",
    "        with output_filtered_data:\n",
    "            clear_output(wait=True)  # Clear the previous output\n",
    "            selected_features = features_dropdown.value\n",
    "            for feature in selected_features:\n",
    "                filtered_data = filtered_data[filtered_data[feature] == 1]\n",
    "            # Update the final filtered data\n",
    "            final_filtered_data = filtered_data.copy()\n",
    "            # Display the filtered DataFrame\n",
    "            display(filtered_data.head())\n",
    "            # Update the row count label\n",
    "            row_count_label.value = f\"Number of rows in the filtered dataset: {len(filtered_data)}\"\n",
    "\n",
    "# Function to filter the dataframe based on selected services\n",
    "def filter_by_services(change):\n",
    "    global filtered_data, final_filtered_data\n",
    "    if change['type'] == 'change' and change['name'] == 'value':\n",
    "        with output_filtered_data:\n",
    "            clear_output(wait=True)  # Clear the previous output\n",
    "            selected_services = services_dropdown.value\n",
    "            for service in selected_services:\n",
    "                filtered_data = filtered_data[filtered_data[service] == 1]\n",
    "            # Update the final filtered data\n",
    "            final_filtered_data = filtered_data.copy()\n",
    "            # Display the filtered DataFrame\n",
    "            display(filtered_data.head())\n",
    "            # Update the row count label\n",
    "            row_count_label.value = f\"Number of rows in the filtered dataset: {len(filtered_data)}\"\n",
    "\n",
    "# Function to filter the dataframe based on selected rewards\n",
    "def filter_by_rewards(change):\n",
    "    global filtered_data, final_filtered_data\n",
    "    if change['type'] == 'change' and change['name'] == 'value':\n",
    "        with output_filtered_data:\n",
    "            clear_output(wait=True)  # Clear the previous output\n",
    "            selected_rewards = rewards_dropdown.value\n",
    "            for reward in selected_rewards:\n",
    "                filtered_data = filtered_data[filtered_data[reward] == 1]\n",
    "            # Update the final filtered data\n",
    "            final_filtered_data = filtered_data.copy()\n",
    "            # Display the filtered DataFrame\n",
    "            display(filtered_data.head())\n",
    "            # Update the row count label\n",
    "            row_count_label.value = f\"Number of cards in the filtered dataset: {len(filtered_data)}\"\n",
    "\n",
    "# Watch for changes in the dropdown menus\n",
    "credit_tier_dropdown.observe(filter_by_credit_tier, names='value')\n",
    "states_dropdown.observe(filter_by_state, names='value')\n",
    "features_dropdown.observe(filter_by_features, names='value')\n",
    "services_dropdown.observe(filter_by_services, names='value')\n",
    "rewards_dropdown.observe(filter_by_rewards, names='value')\n",
    "\n",
    "# Arrange the dropdowns in a vertical box with labels properly displayed\n",
    "ui = widgets.VBox([\n",
    "    widgets.HBox([widgets.Label(\"Your Credit Tier:\", layout={'width': '200px'}), credit_tier_dropdown]),\n",
    "    widgets.HBox([widgets.Label(\"Your State:\", layout={'width': '200px'}), states_dropdown]),\n",
    "    widgets.HBox([widgets.Label(\"Card Features Requested:\", layout={'width': '200px'}), features_dropdown]),\n",
    "    widgets.HBox([widgets.Label(\"Card Services Requested:\", layout={'width': '200px'}), services_dropdown]),\n",
    "    widgets.HBox([widgets.Label(\"Card Rewards Requested:\", layout={'width': '200px'}), rewards_dropdown]),\n",
    "    row_count_label,\n",
    "    output_filtered_data\n",
    "])\n",
    "\n",
    "# Display the UI\n",
    "display(ui)\n"
   ]
  },
  {
   "cell_type": "markdown",
   "metadata": {
    "id": "mvfZrTgXeXJ9"
   },
   "source": [
    ".\n",
    "\n",
    "\n",
    "\n",
    "\n",
    "\n",
    "\n",
    "\n",
    "\n",
    "\n",
    "\n",
    "\n",
    "\n",
    "\n",
    "\n",
    "\n",
    "\n",
    "\n",
    "\n",
    "\n",
    "\n",
    "\n",
    "\n",
    "\n",
    "\n",
    "."
   ]
  },
  {
   "cell_type": "markdown",
   "metadata": {
    "id": "NTZpxFG_eXMo"
   },
   "source": [
    ".\n",
    "\n",
    "\n",
    "\n",
    "."
   ]
  },
  {
   "cell_type": "markdown",
   "metadata": {
    "id": "KLgegcEIeXPd"
   },
   "source": [
    ".\n",
    "\n",
    "\n",
    "."
   ]
  },
  {
   "cell_type": "markdown",
   "metadata": {
    "id": "rmAgKh9teXSO"
   },
   "source": [
    ".\n",
    "\n",
    "\n",
    "."
   ]
  },
  {
   "cell_type": "markdown",
   "metadata": {
    "id": "B6Fy5IMOeXUy"
   },
   "source": []
  },
  {
   "cell_type": "markdown",
   "metadata": {
    "id": "O4uyQd_4eXXC"
   },
   "source": []
  },
  {
   "cell_type": "code",
   "execution_count": 73,
   "metadata": {
    "colab": {
     "base_uri": "https://localhost:8080/",
     "height": 708,
     "referenced_widgets": [
      "cfc2f739802146a39d8008716bc1810f",
      "31c1164a35164c9fbc4a4ffc1da107fa",
      "e1a81e1dd4ff468b8b8d259c92112d2c",
      "fd7740491237443791f1defb69caa5ea",
      "021f133610d840d7ae8061d56f7570ee"
     ]
    },
    "id": "ll78l6EPPHYq",
    "outputId": "3d8cc2ca-f14d-4089-cfd9-59b9873f0835"
   },
   "outputs": [
    {
     "data": {
      "application/vnd.jupyter.widget-view+json": {
       "model_id": "514693e9e4544aabb9f6badc9e04a173",
       "version_major": 2,
       "version_minor": 0
      },
      "text/plain": [
       "Button(description='Plot APR Distributions', icon='bar-chart', style=ButtonStyle(), tooltip='Click to plot APR…"
      ]
     },
     "metadata": {},
     "output_type": "display_data"
    },
    {
     "data": {
      "application/vnd.jupyter.widget-view+json": {
       "model_id": "537b79e9d3f24aae8e10283c076d8cf1",
       "version_major": 2,
       "version_minor": 0
      },
      "text/plain": [
       "Output()"
      ]
     },
     "metadata": {},
     "output_type": "display_data"
    }
   ],
   "source": [
    "import matplotlib.pyplot as plt\n",
    "import seaborn as sns\n",
    "import ipywidgets as widgets\n",
    "from IPython.display import display, clear_output\n",
    "\n",
    "# Output widget to display the graphs\n",
    "output_graphs = widgets.Output()\n",
    "\n",
    "# Function to create histograms for various APR values based on credit tier selection\n",
    "def plot_apr_distributions(change):\n",
    "    selected_tier = credit_tier_dropdown.value\n",
    "\n",
    "    with output_graphs:\n",
    "        clear_output(wait=True)  # Clear the previous output\n",
    "\n",
    "        # Check if there is any data to plot\n",
    "        if len(final_filtered_data) == 0:\n",
    "            print(\"No data to display\")\n",
    "            return\n",
    "\n",
    "        # Define APR columns based on credit tier selection\n",
    "        if selected_tier in ['No credit score', 'Credit score 619 or less']:\n",
    "            apr_columns = [\n",
    "                ('Purchase APR min', 'Advance APR min')\n",
    "            ]\n",
    "        elif selected_tier == 'Credit scores from 620 to 719':\n",
    "            apr_columns = [\n",
    "                ('Purchase APR median', 'Advance APR median')\n",
    "            ]\n",
    "        elif selected_tier == 'Credit score of 720 or greater':\n",
    "            apr_columns = [\n",
    "                ('Purchase APR max', 'Advance APR max')\n",
    "            ]\n",
    "        else:\n",
    "            print(\"Invalid selection\")\n",
    "            return\n",
    "\n",
    "        fig, axs = plt.subplots(1, 2, figsize=(12, 6))\n",
    "\n",
    "        for i, (col_purchase, col_advance) in enumerate(apr_columns):\n",
    "            # Determine common x-axis limits for Purchase APR\n",
    "            x_min_purchase = final_filtered_data[col_purchase].min()\n",
    "            x_max_purchase = final_filtered_data[col_purchase].max()\n",
    "\n",
    "            # Plot for Purchase APR\n",
    "            sns.histplot(final_filtered_data[col_purchase], bins=30, ax=axs[0], kde=True, palette='viridis' )\n",
    "            axs[0].set_title(f'Distribution of {col_purchase}')\n",
    "            axs[0].set_xlabel('APR')\n",
    "            axs[0].set_ylabel('Frequency')\n",
    "            axs[0].set_xlim(x_min_purchase, x_max_purchase)\n",
    "\n",
    "            # Determine common x-axis limits for Advance APR\n",
    "            x_min_advance = final_filtered_data[col_advance].min()\n",
    "            x_max_advance = final_filtered_data[col_advance].max()\n",
    "\n",
    "            # Plot for Advance APR\n",
    "            sns.histplot(final_filtered_data[col_advance], bins=30, ax=axs[1], kde=True, palette='BuPu')\n",
    "            axs[1].set_title(f'Distribution of {col_advance}')\n",
    "            axs[1].set_xlabel('APR')\n",
    "            axs[1].set_ylabel('Frequency')\n",
    "            axs[1].set_xlim(x_min_advance, x_max_advance)\n",
    "\n",
    "        plt.tight_layout()\n",
    "        plt.show()\n",
    "\n",
    "# Display the plot button\n",
    "plot_button = widgets.Button(description=\"Plot APR Distributions\", disabled=False, button_style='', tooltip='Click to plot APR distributions', icon='bar-chart')\n",
    "\n",
    "# Function to call the plot function on button click\n",
    "def on_plot_button_click(b):\n",
    "    plot_apr_distributions(None)\n",
    "\n",
    "plot_button.on_click(on_plot_button_click)\n",
    "\n",
    "# Display the plot button and output widget for graphs\n",
    "display(plot_button, output_graphs)\n",
    "\n",
    "# Watch for changes in the credit tier dropdown menu\n",
    "credit_tier_dropdown.observe(plot_apr_distributions, names='value')\n"
   ]
  },
  {
   "cell_type": "code",
   "execution_count": 74,
   "metadata": {
    "colab": {
     "base_uri": "https://localhost:8080/",
     "height": 901,
     "referenced_widgets": [
      "7e993f7e431c40f79e37071ee11fadc0",
      "0a843b37936c4a78a80d76a7faa672d7",
      "c935329daff740789f76a418fd28a07a",
      "59df987273524786bd0f9380fe33aea8",
      "032b2685aa7a4836afbe85218bec13df"
     ]
    },
    "id": "7lwshe7y6m2S",
    "outputId": "2c6f0ec1-f369-4b8e-8826-ea6c3207d1f5"
   },
   "outputs": [
    {
     "data": {
      "application/vnd.jupyter.widget-view+json": {
       "model_id": "5a3279b97998460dac645838679b92c9",
       "version_major": 2,
       "version_minor": 0
      },
      "text/plain": [
       "Button(description='Plot Fee Distributions', icon='bar-chart', style=ButtonStyle(), tooltip='Click to plot fee…"
      ]
     },
     "metadata": {},
     "output_type": "display_data"
    },
    {
     "data": {
      "application/vnd.jupyter.widget-view+json": {
       "model_id": "b2993ca1541a4dc4beddc77a733225f9",
       "version_major": 2,
       "version_minor": 0
      },
      "text/plain": [
       "Output(outputs=({'output_type': 'display_data', 'data': {'text/plain': '  Institution Name                    …"
      ]
     },
     "metadata": {},
     "output_type": "display_data"
    }
   ],
   "source": [
    "import matplotlib.pyplot as plt\n",
    "import seaborn as sns\n",
    "import ipywidgets as widgets\n",
    "from IPython.display import display, clear_output\n",
    "\n",
    "# Function to create subplots for Cumulative Yearly Fee, Balance Transfer Fee ($), and Balance Transfer Fee (%)\n",
    "def plot_fee_distributions():\n",
    "    with output_filtered_data:\n",
    "        clear_output(wait=True)  # Clear the previous output\n",
    "\n",
    "        # Exclude cards with a Cumulative Yearly Fee of 0\n",
    "        yearly_fee_data = final_filtered_data[final_filtered_data['Cumulative Yearly Fee'] > 0]\n",
    "\n",
    "        # Define the bins for Cumulative Yearly Fee\n",
    "        bins = list(range(0, 100, 20)) + [100, 500]\n",
    "        labels = ['1-20', '21-40', '41-60', '61-80', '81-100', '101-500']\n",
    "        yearly_fee_data['Fee Bin'] = pd.cut(yearly_fee_data['Cumulative Yearly Fee'], bins=bins, labels=labels, right=False)\n",
    "\n",
    "        # Exclude cards with a Balance Transfer Fee of 0$\n",
    "        transfer_fee_dollar_data = final_filtered_data[final_filtered_data['Balance Transfer Fee ($)'] > 0]\n",
    "\n",
    "        # Exclude cards with a Balance Transfer Fee of 0%\n",
    "        transfer_fee_percentage_data = final_filtered_data[final_filtered_data['Balance Transfer Fee (%)'] > 0]\n",
    "\n",
    "        # Create subplots\n",
    "        fig, axs = plt.subplots(1, 3, figsize=(18, 6))\n",
    "\n",
    "        # Plot for Cumulative Yearly Fee\n",
    "        sns.countplot(data=yearly_fee_data, x='Fee Bin', palette='viridis', ax=axs[0])\n",
    "        axs[0].set_title('Distribution of Cumulative Yearly Fee')\n",
    "        axs[0].set_xlabel('Cumulative Yearly Fee Bins')\n",
    "        axs[0].set_ylabel('Number of Cards')\n",
    "        zero_fee_count = final_filtered_data['Cumulative Yearly Fee'].value_counts().get(0.0, 0)\n",
    "        axs[0].annotate(f\"{round(zero_fee_count/len(final_filtered_data)*100, 2)}% cards have no yearly fee.\", xy=(0.5, -0.15), xycoords='axes fraction', ha='center', fontsize=12)\n",
    "\n",
    "        # Plot for Balance Transfer Fee ($)\n",
    "        sns.countplot(data=transfer_fee_dollar_data, x='Balance Transfer Fee ($)', order=sorted(transfer_fee_dollar_data['Balance Transfer Fee ($)'].unique()), palette='viridis', ax=axs[1])\n",
    "        axs[1].set_title('Distribution of Balance Transfer Fee ($)')\n",
    "        axs[1].set_xlabel('Balance Transfer Fee ($)')\n",
    "        axs[1].set_ylabel('Number of Cards')\n",
    "        zero_fee_dollar_count = final_filtered_data['Balance Transfer Fee ($)'].value_counts().get(0.0, 0)\n",
    "        axs[1].annotate(f\"{round(zero_fee_dollar_count/len(final_filtered_data)*100,2)}% cards have a $0 balance transfer fee.\", xy=(0.5, -0.15), xycoords='axes fraction', ha='center', fontsize=12)\n",
    "\n",
    "        # Plot for Balance Transfer Fee (%)\n",
    "        sns.countplot(data=transfer_fee_percentage_data, x='Balance Transfer Fee (%)', order=sorted(transfer_fee_percentage_data['Balance Transfer Fee (%)'].unique()), palette='viridis', ax=axs[2])\n",
    "        axs[2].set_title('Distribution of Balance Transfer Fee (%)')\n",
    "        axs[2].set_xlabel('Balance Transfer Fee (%)')\n",
    "        axs[2].set_ylabel('Number of Cards')\n",
    "        zero_fee_percentage_count = final_filtered_data['Balance Transfer Fee (%)'].value_counts().get(0.00, 0)\n",
    "        axs[2].annotate(f\"{round(zero_fee_percentage_count/len(final_filtered_data)*100, 2)}% cards have a 0% balance transfer fee.\", xy=(0.5, -0.15), xycoords='axes fraction', ha='center', fontsize=12)\n",
    "\n",
    "        plt.tight_layout()\n",
    "        plt.show()\n",
    "\n",
    "# Display the plot button\n",
    "plot_button = widgets.Button(description=\"Plot Fee Distributions\", disabled=False, button_style='', tooltip='Click to plot fee distributions', icon='bar-chart')\n",
    "\n",
    "# Function to call the plot function on button click\n",
    "def on_plot_button_click(b):\n",
    "    plot_fee_distributions()\n",
    "\n",
    "plot_button.on_click(on_plot_button_click)\n",
    "\n",
    "# Display the plot button\n",
    "display(plot_button, output_filtered_data)"
   ]
  },
  {
   "cell_type": "code",
   "execution_count": 75,
   "metadata": {
    "colab": {
     "base_uri": "https://localhost:8080/",
     "height": 1000,
     "referenced_widgets": [
      "54a461b6ad884215a4a426a096eb7b37",
      "8fe4520dde374b5c983bdde0052256a5",
      "aba30ffc650049b9b02160f76150df86",
      "dfb2dd10eb4d4a3c9ee9337b003ad049",
      "9e78e5174300432a9b50b592ae210783",
      "7eacb46f592a4222a56fbfaef0fd095e",
      "88bf82037eb04ece8e4092259780dd35",
      "5a2918831dc94787aad9cd8a7f461f01",
      "6fd010206762419494ee2be85a0df916",
      "13bf16f5d9674d94a7ad5d85c819bc19"
     ]
    },
    "id": "dr_8cZNxMdmV",
    "outputId": "28c0bc63-3893-4b52-ec76-b546d7bee547"
   },
   "outputs": [
    {
     "data": {
      "application/vnd.jupyter.widget-view+json": {
       "model_id": "366988e9c0454db8a9ff77fc6cb836e1",
       "version_major": 2,
       "version_minor": 0
      },
      "text/plain": [
       "HBox(children=(Label(value='Sort by (low -> high):'), Dropdown(layout=Layout(width='200px'), options=('None', …"
      ]
     },
     "metadata": {},
     "output_type": "display_data"
    },
    {
     "data": {
      "application/vnd.jupyter.widget-view+json": {
       "model_id": "9d755170c75f4a4a8f1c364559eb3d96",
       "version_major": 2,
       "version_minor": 0
      },
      "text/plain": [
       "Output()"
      ]
     },
     "metadata": {},
     "output_type": "display_data"
    }
   ],
   "source": [
    "import ipywidgets as widgets\n",
    "from IPython.display import display, clear_output\n",
    "import pandas as pd\n",
    "\n",
    "# Dropdown widget for sorting options\n",
    "sorting_dropdown1 = widgets.Dropdown(\n",
    "    options=['None'] + [\n",
    "        'Advance APR median',\n",
    "        'Purchase APR median',\n",
    "        'Intro APR median',\n",
    "        'Cumulative Yearly Fee'\n",
    "    ],\n",
    "    value='None',  # Default value\n",
    "    description='',\n",
    "    disabled=False,\n",
    "    layout={'width': '200px'}  # Adjust the width of the dropdown itself\n",
    ")\n",
    "\n",
    "# Custom label for the dropdown\n",
    "sorting_label = widgets.Label(\"Sort by (low -> high):\")\n",
    "\n",
    "# Output widget to display the sorted dataframe\n",
    "output_top = widgets.Output()\n",
    "\n",
    "# Global variable to store the sorted DataFrame\n",
    "sorted_data = pd.DataFrame()\n",
    "\n",
    "# Function to sort the dataframe based on the selected metric\n",
    "def sort_dataframe(change):\n",
    "    global final_filtered_data, sorted_data\n",
    "    selected_metric1 = sorting_dropdown1.value\n",
    "    with output_top:\n",
    "        clear_output(wait=True)  # Clear the previous output\n",
    "        if selected_metric1 != 'None':\n",
    "            sorted_data = final_filtered_data.sort_values(by=selected_metric1)\n",
    "        else:\n",
    "            sorted_data = final_filtered_data.copy()\n",
    "\n",
    "        # Replace final_filtered_data with the sorted dataframe\n",
    "        final_filtered_data = sorted_data.copy()\n",
    "\n",
    "        display(final_filtered_data[['Institution Name', 'Product Name', 'Advance APR median', 'Purchase APR median', 'Intro APR median',\n",
    "                                     'Cumulative Yearly Fee', 'Other Periodic Fees Cumulative', 'Fee Explanation',\n",
    "                                     'Balance Transfer Fees Cumulative', 'Cash Advance Fees Cumulative',\n",
    "                                     'Foreign Transaction Fees Cumulative', 'Late Fee Cumulative',\n",
    "                                     'Over Limit Fee Cumulative', 'Website for Consumer']])\n",
    "\n",
    "# Watch for changes in the dropdown menu\n",
    "sorting_dropdown1.observe(sort_dataframe, names='value')\n",
    "\n",
    "# Display the dropdown menu and output widget\n",
    "display(widgets.HBox([sorting_label, sorting_dropdown1]), output_top)\n"
   ]
  },
  {
   "cell_type": "markdown",
   "metadata": {
    "id": "C4YZJ8tAkCPv"
   },
   "source": [
    ".\n",
    "\n",
    "\n",
    "\n",
    ".\n"
   ]
  },
  {
   "cell_type": "markdown",
   "metadata": {
    "id": "s7K4u0BJkCGh"
   },
   "source": [
    ".\n",
    "\n",
    "\n",
    "."
   ]
  },
  {
   "cell_type": "markdown",
   "metadata": {
    "id": "uCB5Ai33kB_C"
   },
   "source": [
    ".\n",
    "\n",
    "\n",
    "."
   ]
  },
  {
   "cell_type": "markdown",
   "metadata": {
    "id": "J92BJ0mtkB3A"
   },
   "source": [
    ".\n",
    "\n",
    "\n",
    "\n",
    "."
   ]
  },
  {
   "cell_type": "markdown",
   "metadata": {
    "id": "QHDtLZk1kM7D"
   },
   "source": [
    ".\n",
    "\n",
    "\n",
    ".\n"
   ]
  },
  {
   "cell_type": "markdown",
   "metadata": {
    "id": "LtsNVQNKkM1M"
   },
   "source": [
    ".\n",
    "\n",
    "\n",
    "\n",
    "\n",
    "."
   ]
  },
  {
   "cell_type": "markdown",
   "metadata": {
    "id": "SzzLX2FvkMp3"
   },
   "source": [
    ".\n",
    "\n",
    "\n",
    "\n",
    "\n",
    "."
   ]
  },
  {
   "cell_type": "code",
   "execution_count": 76,
   "metadata": {
    "colab": {
     "base_uri": "https://localhost:8080/",
     "height": 798,
     "referenced_widgets": [
      "7bbb89667be34b07bdcd2bce2bdfac91",
      "6654ae256c5046efa45688383cc22bd6",
      "22a7ecdc654d4f9199e2b070ae8d2ace",
      "59183f48bbd94309b85c82ae33d97eed",
      "4e0deee3f6ca487b9df6f1b65afdab7b"
     ]
    },
    "id": "HLvF_5LdYMBa",
    "outputId": "f59ee3d3-ebfe-4799-e7a9-df60a322cdd5"
   },
   "outputs": [
    {
     "data": {
      "application/vnd.jupyter.widget-view+json": {
       "model_id": "9ece7b4cedd64359903b2bf92e7d23fd",
       "version_major": 2,
       "version_minor": 0
      },
      "text/plain": [
       "Button(description='Show Top Card Info', icon='info', layout=Layout(width='250px'), style=ButtonStyle(), toolt…"
      ]
     },
     "metadata": {},
     "output_type": "display_data"
    },
    {
     "data": {
      "application/vnd.jupyter.widget-view+json": {
       "model_id": "33946b33b0924eb28db5360739cb4133",
       "version_major": 2,
       "version_minor": 0
      },
      "text/plain": [
       "Output()"
      ]
     },
     "metadata": {},
     "output_type": "display_data"
    }
   ],
   "source": [
    "import ipywidgets as widgets\n",
    "from IPython.display import display, clear_output, HTML\n",
    "import pandas as pd\n",
    "\n",
    "# Function to convert numeric score to star symbols\n",
    "def convert_to_stars(score):\n",
    "    if isinstance(score, (int, float)):\n",
    "        full_stars = int(score)\n",
    "        half_star = (score - full_stars) >= 0.5\n",
    "        stars = '★' * full_stars + ('½' if half_star else '')\n",
    "        return stars\n",
    "    return \"no data\"\n",
    "\n",
    "# Function to display detailed information about the top card\n",
    "def display_top_card_info():\n",
    "    with output_top:\n",
    "        clear_output(wait=True)\n",
    "        if len(final_filtered_data) == 0:\n",
    "            print(\"No data available\")\n",
    "            return\n",
    "\n",
    "        top_card = final_filtered_data.iloc[0]\n",
    "\n",
    "        def get_value(column):\n",
    "            return top_card[column] if pd.notna(top_card[column]) else \"no data\"\n",
    "\n",
    "        sentiment_stars = convert_to_stars(top_card['Sentiment Star Rating'])\n",
    "\n",
    "        display(HTML(f\"\"\"\n",
    "        <h1>{get_value('Institution Name')}</h1>\n",
    "        <h2>{get_value('Product Name')}</h2>\n",
    "        <p><b>Advance APR median:</b> {get_value('Advance APR median')}</p>\n",
    "        <ul><li>The median annual percentage rate (APR) charged on cash advances taken with a credit card, indicating the typical interest rate applied to these transactions.</li></ul>\n",
    "        <p><b>Purchase APR median:</b> {get_value('Purchase APR median')}</p>\n",
    "        <ul><li>The median annual percentage rate (APR) applied to purchases made with a credit card, representing the standard interest rate most cardholders experience for their purchases.</li></ul>\n",
    "        <p><b>Intro APR median:</b> {get_value('Intro APR median')}</p>\n",
    "        <ul><li>The median introductory annual percentage rate (APR) offered to new credit cardholders for a limited time, often lower than the regular APR to attract new customers.</li></ul>\n",
    "        <hr>\n",
    "        <p><b>Cumulative Yearly Fee:</b> {get_value('Cumulative Yearly Fee')}</p>\n",
    "        <ul><li>The total annual fee charged by a credit card issuer, which may include membership fees or other recurring charges applicable over the course of a year.</li></ul>\n",
    "        <p><b>Other Periodic Fees Cumulative:</b> {get_value('Other Periodic Fees Cumulative')}</p>\n",
    "        <ul><li>The total amount of various recurring fees other than the annual fee, such as monthly service charges or account maintenance fees, accumulated over a specified period.</li></ul>\n",
    "        <p><b>Fee Explanation:</b> {get_value('Fee Explanation')}</p>\n",
    "        <hr>\n",
    "        <p><b>Balance Transfer Fees Cumulative:</b> {get_value('Balance Transfer Fees Cumulative')}</p>\n",
    "        <ul><li>The total fees incurred when transferring a balance from one credit card to another, accumulated over a certain period.</li></ul>\n",
    "        <p><b>Cash Advance Fees Cumulative:</b> {get_value('Cash Advance Fees Cumulative')}</p>\n",
    "        <ul><li>The total fees charged for taking cash advances using a credit card, accumulated over a specific timeframe.</li></ul>\n",
    "        <p><b>Foreign Transaction Fees Cumulative:</b> {get_value('Foreign Transaction Fees Cumulative')}</p>\n",
    "        <ul><li>The total fees charged for making purchases in foreign currencies or with foreign merchants, accumulated over a certain period.</li></ul>\n",
    "        <p><b>Late Fee Cumulative:</b> {get_value('Late Fee Cumulative')}</p>\n",
    "        <ul><li>The total fees charged for making late payments on a credit card, accumulated over a specified timeframe.</li></ul>\n",
    "        <p><b>Over Limit Fee Cumulative:</b> {get_value('Over Limit Fee Cumulative')}</p>\n",
    "        <ul><li>The total fees charged for exceeding the credit limit on a credit card, accumulated over a certain period.</li></ul>\n",
    "        <hr>\n",
    "        <p><b>Sentiment Star Rating:</b> {sentiment_stars}</p>\n",
    "        <ul><li>This 0-5 star rating reflects the average customer sentiment towards this card provided based on current customer complaints submitted to the CFPB.</li></ul>\n",
    "        <p><b>Issue Summary:</b> {get_value('Issue Summary')}</p>\n",
    "        <ul><li>These phrases indicate the most common issues customers raised to the CFPB about the card in question</li></ul>\n",
    "        <hr>\n",
    "        <p><b>Website for Consumer:</b> <a href=\"{get_value('Website for Consumer')}\" target=\"_blank\">{get_value('Website for Consumer')}</a></p>\n",
    "        \"\"\"))\n",
    "\n",
    "# Output widget to display the card information\n",
    "output_top = widgets.Output()\n",
    "\n",
    "# Display the button to show the top card information\n",
    "top_card_button = widgets.Button(\n",
    "    description=\"Show Top Card Info\",\n",
    "    disabled=False,\n",
    "    button_style='',\n",
    "    tooltip='Click to display top card information',\n",
    "    icon='info',\n",
    "    layout=widgets.Layout(width='250px')  # Adjust the width as needed\n",
    ")\n",
    "\n",
    "# Function to call the display function on button click\n",
    "def on_top_card_button_click(b):\n",
    "    display_top_card_info()\n",
    "\n",
    "top_card_button.on_click(on_top_card_button_click)\n",
    "\n",
    "# Display the button and output widget\n",
    "display(top_card_button, output_top)\n"
   ]
  }
 ],
 "metadata": {
  "colab": {
   "provenance": []
  },
  "kernelspec": {
   "display_name": "Python 3 (ipykernel)",
   "language": "python",
   "name": "python3"
  },
  "language_info": {
   "codemirror_mode": {
    "name": "ipython",
    "version": 3
   },
   "file_extension": ".py",
   "mimetype": "text/x-python",
   "name": "python",
   "nbconvert_exporter": "python",
   "pygments_lexer": "ipython3",
   "version": "3.9.12"
  },
  "widgets": {
   "application/vnd.jupyter.widget-state+json": {
    "021f133610d840d7ae8061d56f7570ee": {
     "model_module": "@jupyter-widgets/base",
     "model_module_version": "1.2.0",
     "model_name": "LayoutModel",
     "state": {
      "_model_module": "@jupyter-widgets/base",
      "_model_module_version": "1.2.0",
      "_model_name": "LayoutModel",
      "_view_count": null,
      "_view_module": "@jupyter-widgets/base",
      "_view_module_version": "1.2.0",
      "_view_name": "LayoutView",
      "align_content": null,
      "align_items": null,
      "align_self": null,
      "border": null,
      "bottom": null,
      "display": null,
      "flex": null,
      "flex_flow": null,
      "grid_area": null,
      "grid_auto_columns": null,
      "grid_auto_flow": null,
      "grid_auto_rows": null,
      "grid_column": null,
      "grid_gap": null,
      "grid_row": null,
      "grid_template_areas": null,
      "grid_template_columns": null,
      "grid_template_rows": null,
      "height": null,
      "justify_content": null,
      "justify_items": null,
      "left": null,
      "margin": null,
      "max_height": null,
      "max_width": null,
      "min_height": null,
      "min_width": null,
      "object_fit": null,
      "object_position": null,
      "order": null,
      "overflow": null,
      "overflow_x": null,
      "overflow_y": null,
      "padding": null,
      "right": null,
      "top": null,
      "visibility": null,
      "width": null
     }
    },
    "02fb9799b6ba428f8d37186592c572da": {
     "model_module": "@jupyter-widgets/controls",
     "model_module_version": "1.5.0",
     "model_name": "VBoxModel",
     "state": {
      "_dom_classes": [],
      "_model_module": "@jupyter-widgets/controls",
      "_model_module_version": "1.5.0",
      "_model_name": "VBoxModel",
      "_view_count": null,
      "_view_module": "@jupyter-widgets/controls",
      "_view_module_version": "1.5.0",
      "_view_name": "VBoxView",
      "box_style": "",
      "children": [
       "IPY_MODEL_0476a315a4df4bff911d81e6c036b531",
       "IPY_MODEL_b412d3ddb59647298d30bf6247c22c03",
       "IPY_MODEL_1d8df5cf4b9c4d7b8c32c7d6ae4121e7",
       "IPY_MODEL_3c7c708bf4284adda4c9a19f336ad809",
       "IPY_MODEL_5edea765369647d09e5d390c0dbcbbcd",
       "IPY_MODEL_6a47d5cc661948db8d208928003ea634",
       "IPY_MODEL_59df987273524786bd0f9380fe33aea8"
      ],
      "layout": "IPY_MODEL_68d84e0f25a04e38a075cac7114a3cd3"
     }
    },
    "032b2685aa7a4836afbe85218bec13df": {
     "model_module": "@jupyter-widgets/base",
     "model_module_version": "1.2.0",
     "model_name": "LayoutModel",
     "state": {
      "_model_module": "@jupyter-widgets/base",
      "_model_module_version": "1.2.0",
      "_model_name": "LayoutModel",
      "_view_count": null,
      "_view_module": "@jupyter-widgets/base",
      "_view_module_version": "1.2.0",
      "_view_name": "LayoutView",
      "align_content": null,
      "align_items": null,
      "align_self": null,
      "border": null,
      "bottom": null,
      "display": null,
      "flex": null,
      "flex_flow": null,
      "grid_area": null,
      "grid_auto_columns": null,
      "grid_auto_flow": null,
      "grid_auto_rows": null,
      "grid_column": null,
      "grid_gap": null,
      "grid_row": null,
      "grid_template_areas": null,
      "grid_template_columns": null,
      "grid_template_rows": null,
      "height": null,
      "justify_content": null,
      "justify_items": null,
      "left": null,
      "margin": null,
      "max_height": null,
      "max_width": null,
      "min_height": null,
      "min_width": null,
      "object_fit": null,
      "object_position": null,
      "order": null,
      "overflow": null,
      "overflow_x": null,
      "overflow_y": null,
      "padding": null,
      "right": null,
      "top": null,
      "visibility": null,
      "width": null
     }
    },
    "0476a315a4df4bff911d81e6c036b531": {
     "model_module": "@jupyter-widgets/controls",
     "model_module_version": "1.5.0",
     "model_name": "HBoxModel",
     "state": {
      "_dom_classes": [],
      "_model_module": "@jupyter-widgets/controls",
      "_model_module_version": "1.5.0",
      "_model_name": "HBoxModel",
      "_view_count": null,
      "_view_module": "@jupyter-widgets/controls",
      "_view_module_version": "1.5.0",
      "_view_name": "HBoxView",
      "box_style": "",
      "children": [
       "IPY_MODEL_881b6158a8fa46f5b5d6ac8818fd8f8b",
       "IPY_MODEL_313344bef87c402bb6bdacff0473e2dd"
      ],
      "layout": "IPY_MODEL_5d999fa7a7214a3dad702661cf169b63"
     }
    },
    "06f3ccadf0224e4b9af759ad8dafa461": {
     "model_module": "@jupyter-widgets/base",
     "model_module_version": "1.2.0",
     "model_name": "LayoutModel",
     "state": {
      "_model_module": "@jupyter-widgets/base",
      "_model_module_version": "1.2.0",
      "_model_name": "LayoutModel",
      "_view_count": null,
      "_view_module": "@jupyter-widgets/base",
      "_view_module_version": "1.2.0",
      "_view_name": "LayoutView",
      "align_content": null,
      "align_items": null,
      "align_self": null,
      "border": null,
      "bottom": null,
      "display": null,
      "flex": null,
      "flex_flow": null,
      "grid_area": null,
      "grid_auto_columns": null,
      "grid_auto_flow": null,
      "grid_auto_rows": null,
      "grid_column": null,
      "grid_gap": null,
      "grid_row": null,
      "grid_template_areas": null,
      "grid_template_columns": null,
      "grid_template_rows": null,
      "height": null,
      "justify_content": null,
      "justify_items": null,
      "left": null,
      "margin": null,
      "max_height": null,
      "max_width": null,
      "min_height": null,
      "min_width": null,
      "object_fit": null,
      "object_position": null,
      "order": null,
      "overflow": null,
      "overflow_x": null,
      "overflow_y": null,
      "padding": null,
      "right": null,
      "top": null,
      "visibility": null,
      "width": null
     }
    },
    "091def407a0341d594fdd8457d630efc": {
     "model_module": "@jupyter-widgets/base",
     "model_module_version": "1.2.0",
     "model_name": "LayoutModel",
     "state": {
      "_model_module": "@jupyter-widgets/base",
      "_model_module_version": "1.2.0",
      "_model_name": "LayoutModel",
      "_view_count": null,
      "_view_module": "@jupyter-widgets/base",
      "_view_module_version": "1.2.0",
      "_view_name": "LayoutView",
      "align_content": null,
      "align_items": null,
      "align_self": null,
      "border": null,
      "bottom": null,
      "display": null,
      "flex": null,
      "flex_flow": null,
      "grid_area": null,
      "grid_auto_columns": null,
      "grid_auto_flow": null,
      "grid_auto_rows": null,
      "grid_column": null,
      "grid_gap": null,
      "grid_row": null,
      "grid_template_areas": null,
      "grid_template_columns": null,
      "grid_template_rows": null,
      "height": null,
      "justify_content": null,
      "justify_items": null,
      "left": null,
      "margin": null,
      "max_height": null,
      "max_width": null,
      "min_height": null,
      "min_width": null,
      "object_fit": null,
      "object_position": null,
      "order": null,
      "overflow": null,
      "overflow_x": null,
      "overflow_y": null,
      "padding": null,
      "right": null,
      "top": null,
      "visibility": null,
      "width": null
     }
    },
    "0a843b37936c4a78a80d76a7faa672d7": {
     "model_module": "@jupyter-widgets/base",
     "model_module_version": "1.2.0",
     "model_name": "LayoutModel",
     "state": {
      "_model_module": "@jupyter-widgets/base",
      "_model_module_version": "1.2.0",
      "_model_name": "LayoutModel",
      "_view_count": null,
      "_view_module": "@jupyter-widgets/base",
      "_view_module_version": "1.2.0",
      "_view_name": "LayoutView",
      "align_content": null,
      "align_items": null,
      "align_self": null,
      "border": null,
      "bottom": null,
      "display": null,
      "flex": null,
      "flex_flow": null,
      "grid_area": null,
      "grid_auto_columns": null,
      "grid_auto_flow": null,
      "grid_auto_rows": null,
      "grid_column": null,
      "grid_gap": null,
      "grid_row": null,
      "grid_template_areas": null,
      "grid_template_columns": null,
      "grid_template_rows": null,
      "height": null,
      "justify_content": null,
      "justify_items": null,
      "left": null,
      "margin": null,
      "max_height": null,
      "max_width": null,
      "min_height": null,
      "min_width": null,
      "object_fit": null,
      "object_position": null,
      "order": null,
      "overflow": null,
      "overflow_x": null,
      "overflow_y": null,
      "padding": null,
      "right": null,
      "top": null,
      "visibility": null,
      "width": null
     }
    },
    "0f4bfcdaaa1f4663b23dd8b883595a61": {
     "model_module": "@jupyter-widgets/base",
     "model_module_version": "1.2.0",
     "model_name": "LayoutModel",
     "state": {
      "_model_module": "@jupyter-widgets/base",
      "_model_module_version": "1.2.0",
      "_model_name": "LayoutModel",
      "_view_count": null,
      "_view_module": "@jupyter-widgets/base",
      "_view_module_version": "1.2.0",
      "_view_name": "LayoutView",
      "align_content": null,
      "align_items": null,
      "align_self": null,
      "border": null,
      "bottom": null,
      "display": null,
      "flex": null,
      "flex_flow": null,
      "grid_area": null,
      "grid_auto_columns": null,
      "grid_auto_flow": null,
      "grid_auto_rows": null,
      "grid_column": null,
      "grid_gap": null,
      "grid_row": null,
      "grid_template_areas": null,
      "grid_template_columns": null,
      "grid_template_rows": null,
      "height": null,
      "justify_content": null,
      "justify_items": null,
      "left": null,
      "margin": null,
      "max_height": null,
      "max_width": null,
      "min_height": null,
      "min_width": null,
      "object_fit": null,
      "object_position": null,
      "order": null,
      "overflow": null,
      "overflow_x": null,
      "overflow_y": null,
      "padding": null,
      "right": null,
      "top": null,
      "visibility": null,
      "width": "200px"
     }
    },
    "113ce0b16acb44619cef2e9179fb85ba": {
     "model_module": "@jupyter-widgets/base",
     "model_module_version": "1.2.0",
     "model_name": "LayoutModel",
     "state": {
      "_model_module": "@jupyter-widgets/base",
      "_model_module_version": "1.2.0",
      "_model_name": "LayoutModel",
      "_view_count": null,
      "_view_module": "@jupyter-widgets/base",
      "_view_module_version": "1.2.0",
      "_view_name": "LayoutView",
      "align_content": null,
      "align_items": null,
      "align_self": null,
      "border": null,
      "bottom": null,
      "display": null,
      "flex": null,
      "flex_flow": null,
      "grid_area": null,
      "grid_auto_columns": null,
      "grid_auto_flow": null,
      "grid_auto_rows": null,
      "grid_column": null,
      "grid_gap": null,
      "grid_row": null,
      "grid_template_areas": null,
      "grid_template_columns": null,
      "grid_template_rows": null,
      "height": null,
      "justify_content": null,
      "justify_items": null,
      "left": null,
      "margin": null,
      "max_height": null,
      "max_width": null,
      "min_height": null,
      "min_width": null,
      "object_fit": null,
      "object_position": null,
      "order": null,
      "overflow": null,
      "overflow_x": null,
      "overflow_y": null,
      "padding": null,
      "right": null,
      "top": null,
      "visibility": null,
      "width": "max-content"
     }
    },
    "13bf16f5d9674d94a7ad5d85c819bc19": {
     "model_module": "@jupyter-widgets/base",
     "model_module_version": "1.2.0",
     "model_name": "LayoutModel",
     "state": {
      "_model_module": "@jupyter-widgets/base",
      "_model_module_version": "1.2.0",
      "_model_name": "LayoutModel",
      "_view_count": null,
      "_view_module": "@jupyter-widgets/base",
      "_view_module_version": "1.2.0",
      "_view_name": "LayoutView",
      "align_content": null,
      "align_items": null,
      "align_self": null,
      "border": null,
      "bottom": null,
      "display": null,
      "flex": null,
      "flex_flow": null,
      "grid_area": null,
      "grid_auto_columns": null,
      "grid_auto_flow": null,
      "grid_auto_rows": null,
      "grid_column": null,
      "grid_gap": null,
      "grid_row": null,
      "grid_template_areas": null,
      "grid_template_columns": null,
      "grid_template_rows": null,
      "height": null,
      "justify_content": null,
      "justify_items": null,
      "left": null,
      "margin": null,
      "max_height": null,
      "max_width": null,
      "min_height": null,
      "min_width": null,
      "object_fit": null,
      "object_position": null,
      "order": null,
      "overflow": null,
      "overflow_x": null,
      "overflow_y": null,
      "padding": null,
      "right": null,
      "top": null,
      "visibility": null,
      "width": null
     }
    },
    "1c4f2d4773fe4e69a1577c2fe12f583e": {
     "model_module": "@jupyter-widgets/controls",
     "model_module_version": "1.5.0",
     "model_name": "DescriptionStyleModel",
     "state": {
      "_model_module": "@jupyter-widgets/controls",
      "_model_module_version": "1.5.0",
      "_model_name": "DescriptionStyleModel",
      "_view_count": null,
      "_view_module": "@jupyter-widgets/base",
      "_view_module_version": "1.2.0",
      "_view_name": "StyleView",
      "description_width": ""
     }
    },
    "1d8df5cf4b9c4d7b8c32c7d6ae4121e7": {
     "model_module": "@jupyter-widgets/controls",
     "model_module_version": "1.5.0",
     "model_name": "HBoxModel",
     "state": {
      "_dom_classes": [],
      "_model_module": "@jupyter-widgets/controls",
      "_model_module_version": "1.5.0",
      "_model_name": "HBoxModel",
      "_view_count": null,
      "_view_module": "@jupyter-widgets/controls",
      "_view_module_version": "1.5.0",
      "_view_name": "HBoxView",
      "box_style": "",
      "children": [
       "IPY_MODEL_b6202b38f2e84cf4a4aeb24219be1dbf",
       "IPY_MODEL_b687b966d9104605bedae5975587656f"
      ],
      "layout": "IPY_MODEL_7f4f91cb64814e2d84e1ac7b5ac6cc45"
     }
    },
    "20d5bf93d8c642b2b2f0983a2eb1d20d": {
     "model_module": "@jupyter-widgets/controls",
     "model_module_version": "1.5.0",
     "model_name": "LabelModel",
     "state": {
      "_dom_classes": [],
      "_model_module": "@jupyter-widgets/controls",
      "_model_module_version": "1.5.0",
      "_model_name": "LabelModel",
      "_view_count": null,
      "_view_module": "@jupyter-widgets/controls",
      "_view_module_version": "1.5.0",
      "_view_name": "LabelView",
      "description": "",
      "description_tooltip": null,
      "layout": "IPY_MODEL_0f4bfcdaaa1f4663b23dd8b883595a61",
      "placeholder": "​",
      "style": "IPY_MODEL_e4c1adb434154e10999b05b05722019a",
      "value": "Card Services Requested:"
     }
    },
    "22a7ecdc654d4f9199e2b070ae8d2ace": {
     "model_module": "@jupyter-widgets/controls",
     "model_module_version": "1.5.0",
     "model_name": "ButtonStyleModel",
     "state": {
      "_model_module": "@jupyter-widgets/controls",
      "_model_module_version": "1.5.0",
      "_model_name": "ButtonStyleModel",
      "_view_count": null,
      "_view_module": "@jupyter-widgets/base",
      "_view_module_version": "1.2.0",
      "_view_name": "StyleView",
      "button_color": null,
      "font_weight": ""
     }
    },
    "2fa69662816a4b0eae75baa25069f73a": {
     "model_module": "@jupyter-widgets/base",
     "model_module_version": "1.2.0",
     "model_name": "LayoutModel",
     "state": {
      "_model_module": "@jupyter-widgets/base",
      "_model_module_version": "1.2.0",
      "_model_name": "LayoutModel",
      "_view_count": null,
      "_view_module": "@jupyter-widgets/base",
      "_view_module_version": "1.2.0",
      "_view_name": "LayoutView",
      "align_content": null,
      "align_items": null,
      "align_self": null,
      "border": null,
      "bottom": null,
      "display": null,
      "flex": null,
      "flex_flow": null,
      "grid_area": null,
      "grid_auto_columns": null,
      "grid_auto_flow": null,
      "grid_auto_rows": null,
      "grid_column": null,
      "grid_gap": null,
      "grid_row": null,
      "grid_template_areas": null,
      "grid_template_columns": null,
      "grid_template_rows": null,
      "height": null,
      "justify_content": null,
      "justify_items": null,
      "left": null,
      "margin": null,
      "max_height": null,
      "max_width": null,
      "min_height": null,
      "min_width": null,
      "object_fit": null,
      "object_position": null,
      "order": null,
      "overflow": null,
      "overflow_x": null,
      "overflow_y": null,
      "padding": null,
      "right": null,
      "top": null,
      "visibility": null,
      "width": "max-content"
     }
    },
    "30acda9169d84a559815bbd5958a7957": {
     "model_module": "@jupyter-widgets/controls",
     "model_module_version": "1.5.0",
     "model_name": "DescriptionStyleModel",
     "state": {
      "_model_module": "@jupyter-widgets/controls",
      "_model_module_version": "1.5.0",
      "_model_name": "DescriptionStyleModel",
      "_view_count": null,
      "_view_module": "@jupyter-widgets/base",
      "_view_module_version": "1.2.0",
      "_view_name": "StyleView",
      "description_width": ""
     }
    },
    "313344bef87c402bb6bdacff0473e2dd": {
     "model_module": "@jupyter-widgets/controls",
     "model_module_version": "1.5.0",
     "model_name": "DropdownModel",
     "state": {
      "_dom_classes": [],
      "_model_module": "@jupyter-widgets/controls",
      "_model_module_version": "1.5.0",
      "_model_name": "DropdownModel",
      "_options_labels": [
       "No credit score",
       "Credit score 619 or less",
       "Credit scores from 620 to 719",
       "Credit score of 720 or greater"
      ],
      "_view_count": null,
      "_view_module": "@jupyter-widgets/controls",
      "_view_module_version": "1.5.0",
      "_view_name": "DropdownView",
      "description": "",
      "description_tooltip": null,
      "disabled": false,
      "index": 2,
      "layout": "IPY_MODEL_c6cb8227cdff40d2ae942433b837cac7",
      "style": "IPY_MODEL_30acda9169d84a559815bbd5958a7957"
     }
    },
    "31c1164a35164c9fbc4a4ffc1da107fa": {
     "model_module": "@jupyter-widgets/base",
     "model_module_version": "1.2.0",
     "model_name": "LayoutModel",
     "state": {
      "_model_module": "@jupyter-widgets/base",
      "_model_module_version": "1.2.0",
      "_model_name": "LayoutModel",
      "_view_count": null,
      "_view_module": "@jupyter-widgets/base",
      "_view_module_version": "1.2.0",
      "_view_name": "LayoutView",
      "align_content": null,
      "align_items": null,
      "align_self": null,
      "border": null,
      "bottom": null,
      "display": null,
      "flex": null,
      "flex_flow": null,
      "grid_area": null,
      "grid_auto_columns": null,
      "grid_auto_flow": null,
      "grid_auto_rows": null,
      "grid_column": null,
      "grid_gap": null,
      "grid_row": null,
      "grid_template_areas": null,
      "grid_template_columns": null,
      "grid_template_rows": null,
      "height": null,
      "justify_content": null,
      "justify_items": null,
      "left": null,
      "margin": null,
      "max_height": null,
      "max_width": null,
      "min_height": null,
      "min_width": null,
      "object_fit": null,
      "object_position": null,
      "order": null,
      "overflow": null,
      "overflow_x": null,
      "overflow_y": null,
      "padding": null,
      "right": null,
      "top": null,
      "visibility": null,
      "width": null
     }
    },
    "39ca9927c5fd48c1acad3733e8dbe884": {
     "model_module": "@jupyter-widgets/controls",
     "model_module_version": "1.5.0",
     "model_name": "DescriptionStyleModel",
     "state": {
      "_model_module": "@jupyter-widgets/controls",
      "_model_module_version": "1.5.0",
      "_model_name": "DescriptionStyleModel",
      "_view_count": null,
      "_view_module": "@jupyter-widgets/base",
      "_view_module_version": "1.2.0",
      "_view_name": "StyleView",
      "description_width": ""
     }
    },
    "3a1fd83e2f044fd18dc3d41bd583e8ae": {
     "model_module": "@jupyter-widgets/base",
     "model_module_version": "1.2.0",
     "model_name": "LayoutModel",
     "state": {
      "_model_module": "@jupyter-widgets/base",
      "_model_module_version": "1.2.0",
      "_model_name": "LayoutModel",
      "_view_count": null,
      "_view_module": "@jupyter-widgets/base",
      "_view_module_version": "1.2.0",
      "_view_name": "LayoutView",
      "align_content": null,
      "align_items": null,
      "align_self": null,
      "border": null,
      "bottom": null,
      "display": null,
      "flex": null,
      "flex_flow": null,
      "grid_area": null,
      "grid_auto_columns": null,
      "grid_auto_flow": null,
      "grid_auto_rows": null,
      "grid_column": null,
      "grid_gap": null,
      "grid_row": null,
      "grid_template_areas": null,
      "grid_template_columns": null,
      "grid_template_rows": null,
      "height": null,
      "justify_content": null,
      "justify_items": null,
      "left": null,
      "margin": null,
      "max_height": null,
      "max_width": null,
      "min_height": null,
      "min_width": null,
      "object_fit": null,
      "object_position": null,
      "order": null,
      "overflow": null,
      "overflow_x": null,
      "overflow_y": null,
      "padding": null,
      "right": null,
      "top": null,
      "visibility": null,
      "width": "200px"
     }
    },
    "3c7c708bf4284adda4c9a19f336ad809": {
     "model_module": "@jupyter-widgets/controls",
     "model_module_version": "1.5.0",
     "model_name": "HBoxModel",
     "state": {
      "_dom_classes": [],
      "_model_module": "@jupyter-widgets/controls",
      "_model_module_version": "1.5.0",
      "_model_name": "HBoxModel",
      "_view_count": null,
      "_view_module": "@jupyter-widgets/controls",
      "_view_module_version": "1.5.0",
      "_view_name": "HBoxView",
      "box_style": "",
      "children": [
       "IPY_MODEL_20d5bf93d8c642b2b2f0983a2eb1d20d",
       "IPY_MODEL_6fdc1806dbcb4fa8a742d8a4a7690d55"
      ],
      "layout": "IPY_MODEL_e4fd5d2169fa458588f50f49446ec54b"
     }
    },
    "4e0deee3f6ca487b9df6f1b65afdab7b": {
     "model_module": "@jupyter-widgets/base",
     "model_module_version": "1.2.0",
     "model_name": "LayoutModel",
     "state": {
      "_model_module": "@jupyter-widgets/base",
      "_model_module_version": "1.2.0",
      "_model_name": "LayoutModel",
      "_view_count": null,
      "_view_module": "@jupyter-widgets/base",
      "_view_module_version": "1.2.0",
      "_view_name": "LayoutView",
      "align_content": null,
      "align_items": null,
      "align_self": null,
      "border": null,
      "bottom": null,
      "display": null,
      "flex": null,
      "flex_flow": null,
      "grid_area": null,
      "grid_auto_columns": null,
      "grid_auto_flow": null,
      "grid_auto_rows": null,
      "grid_column": null,
      "grid_gap": null,
      "grid_row": null,
      "grid_template_areas": null,
      "grid_template_columns": null,
      "grid_template_rows": null,
      "height": null,
      "justify_content": null,
      "justify_items": null,
      "left": null,
      "margin": null,
      "max_height": null,
      "max_width": null,
      "min_height": null,
      "min_width": null,
      "object_fit": null,
      "object_position": null,
      "order": null,
      "overflow": null,
      "overflow_x": null,
      "overflow_y": null,
      "padding": null,
      "right": null,
      "top": null,
      "visibility": null,
      "width": null
     }
    },
    "4e256b91f62f447eaab1a81e836b8400": {
     "model_module": "@jupyter-widgets/controls",
     "model_module_version": "1.5.0",
     "model_name": "DescriptionStyleModel",
     "state": {
      "_model_module": "@jupyter-widgets/controls",
      "_model_module_version": "1.5.0",
      "_model_name": "DescriptionStyleModel",
      "_view_count": null,
      "_view_module": "@jupyter-widgets/base",
      "_view_module_version": "1.2.0",
      "_view_name": "StyleView",
      "description_width": ""
     }
    },
    "54a461b6ad884215a4a426a096eb7b37": {
     "model_module": "@jupyter-widgets/controls",
     "model_module_version": "1.5.0",
     "model_name": "HBoxModel",
     "state": {
      "_dom_classes": [],
      "_model_module": "@jupyter-widgets/controls",
      "_model_module_version": "1.5.0",
      "_model_name": "HBoxModel",
      "_view_count": null,
      "_view_module": "@jupyter-widgets/controls",
      "_view_module_version": "1.5.0",
      "_view_name": "HBoxView",
      "box_style": "",
      "children": [
       "IPY_MODEL_8fe4520dde374b5c983bdde0052256a5",
       "IPY_MODEL_aba30ffc650049b9b02160f76150df86"
      ],
      "layout": "IPY_MODEL_dfb2dd10eb4d4a3c9ee9337b003ad049"
     }
    },
    "59183f48bbd94309b85c82ae33d97eed": {
     "model_module": "@jupyter-widgets/output",
     "model_module_version": "1.0.0",
     "model_name": "OutputModel",
     "state": {
      "_dom_classes": [],
      "_model_module": "@jupyter-widgets/output",
      "_model_module_version": "1.0.0",
      "_model_name": "OutputModel",
      "_view_count": null,
      "_view_module": "@jupyter-widgets/output",
      "_view_module_version": "1.0.0",
      "_view_name": "OutputView",
      "layout": "IPY_MODEL_4e0deee3f6ca487b9df6f1b65afdab7b",
      "msg_id": "",
      "outputs": [
       {
        "data": {
         "text/html": "\n        <h1>BANNER BANK</h1>\n        <h2>Banner Bank TruRewards Mastercard</h2>\n        <p><b>Advance APR median:</b> 0.18</p>\n        <ul><li>The median annual percentage rate (APR) charged on cash advances taken with a credit card, indicating the typical interest rate applied to these transactions.</li></ul>\n        <p><b>Purchase APR median:</b> 0.1199</p>\n        <ul><li>The median annual percentage rate (APR) applied to purchases made with a credit card, representing the standard interest rate most cardholders experience for their purchases.</li></ul>\n        <p><b>Intro APR median:</b> no data</p>\n        <ul><li>The median introductory annual percentage rate (APR) offered to new credit cardholders for a limited time, often lower than the regular APR to attract new customers.</li></ul>\n        <hr>\n        <p><b>Cumulative Yearly Fee:</b> 0.0</p>\n        <ul><li>The total annual fee charged by a credit card issuer, which may include membership fees or other recurring charges applicable over the course of a year.</li></ul>\n        <p><b>Other Periodic Fees Cumulative:</b> no data</p>\n        <ul><li>The total amount of various recurring fees other than the annual fee, such as monthly service charges or account maintenance fees, accumulated over a specified period.</li></ul>\n        <p><b>Fee Explanation:</b> no data</p>\n        <hr>\n        <p><b>Balance Transfer Fees Cumulative:</b> Balance Transfer fee: 0.0$  ;  Percentage Balance Transfer fee: 0.0%  ;  Minimum Balance Transfer fee: 0.0$</p>\n        <ul><li>The total fees incurred when transferring a balance from one credit card to another, accumulated over a certain period.</li></ul>\n        <p><b>Cash Advance Fees Cumulative:</b> Dollar Cash Advance fee: 0.0$  ;  Percentage Cash Advance fee: 0.0%  ;  Minimum Cash Advance fee: 0.0$</p>\n        <ul><li>The total fees charged for taking cash advances using a credit card, accumulated over a specific timeframe.</li></ul>\n        <p><b>Foreign Transaction Fees Cumulative:</b> Percentage Foreign Transaction Fee: 0.011%</p>\n        <ul><li>The total fees charged for making purchases in foreign currencies or with foreign merchants, accumulated over a certain period.</li></ul>\n        <p><b>Late Fee Cumulative:</b> First Late Fee Charge: 0.0$  ;  late fees charged within six billing cycles of a previous late fee: 0.0$  ;  Other LAte Fee Policy: $20 or equal to the balance, if less than $20</p>\n        <ul><li>The total fees charged for making late payments on a credit card, accumulated over a specified timeframe.</li></ul>\n        <p><b>Over Limit Fee Cumulative:</b> Over Limit Fee ($): 0.0$</p>\n        <ul><li>The total fees charged for exceeding the credit limit on a credit card, accumulated over a certain period.</li></ul>\n        <hr>\n        <p><b>Sentiment Star Rating:</b> ★½</p>\n        <ul><li>This 0-5 star rating reflects the average customer sentiment towards this card provided based on current customer complaints submitted to the CFPB.</li></ul>\n        <p><b>Issue Summary:</b> \"Getting a credit card\": 1, \"Problem when making payments\": 1</p>\n        <ul><li>These phrases indicate the most common issues customers raised to the CFPB about the card in question</li></ul>\n        <hr>\n        <p><b>Website for Consumer:</b> <a href=\"https://www.bannerbank.com\" target=\"_blank\">https://www.bannerbank.com</a></p>\n        ",
         "text/plain": "<IPython.core.display.HTML object>"
        },
        "metadata": {},
        "output_type": "display_data"
       }
      ]
     }
    },
    "59b8cde84f1141d5ab60fadaef4c2ebf": {
     "model_module": "@jupyter-widgets/controls",
     "model_module_version": "1.5.0",
     "model_name": "DescriptionStyleModel",
     "state": {
      "_model_module": "@jupyter-widgets/controls",
      "_model_module_version": "1.5.0",
      "_model_name": "DescriptionStyleModel",
      "_view_count": null,
      "_view_module": "@jupyter-widgets/base",
      "_view_module_version": "1.2.0",
      "_view_name": "StyleView",
      "description_width": ""
     }
    },
    "59df987273524786bd0f9380fe33aea8": {
     "model_module": "@jupyter-widgets/output",
     "model_module_version": "1.0.0",
     "model_name": "OutputModel",
     "state": {
      "_dom_classes": [],
      "_model_module": "@jupyter-widgets/output",
      "_model_module_version": "1.0.0",
      "_model_name": "OutputModel",
      "_view_count": null,
      "_view_module": "@jupyter-widgets/output",
      "_view_module_version": "1.0.0",
      "_view_name": "OutputView",
      "layout": "IPY_MODEL_032b2685aa7a4836afbe85218bec13df",
      "msg_id": "",
      "outputs": [
       {
        "name": "stderr",
        "output_type": "stream",
        "text": [
         "<ipython-input-60-233387826236>:17: SettingWithCopyWarning: \n",
         "A value is trying to be set on a copy of a slice from a DataFrame.\n",
         "Try using .loc[row_indexer,col_indexer] = value instead\n",
         "\n",
         "See the caveats in the documentation: https://pandas.pydata.org/pandas-docs/stable/user_guide/indexing.html#returning-a-view-versus-a-copy\n",
         "  yearly_fee_data['Fee Bin'] = pd.cut(yearly_fee_data['Cumulative Yearly Fee'], bins=bins, labels=labels, right=False)\n",
         "<ipython-input-60-233387826236>:29: FutureWarning: \n",
         "\n",
         "Passing `palette` without assigning `hue` is deprecated and will be removed in v0.14.0. Assign the `x` variable to `hue` and set `legend=False` for the same effect.\n",
         "\n",
         "  sns.countplot(data=yearly_fee_data, x='Fee Bin', palette='viridis', ax=axs[0])\n",
         "<ipython-input-60-233387826236>:37: FutureWarning: \n",
         "\n",
         "Passing `palette` without assigning `hue` is deprecated and will be removed in v0.14.0. Assign the `x` variable to `hue` and set `legend=False` for the same effect.\n",
         "\n",
         "  sns.countplot(data=transfer_fee_dollar_data, x='Balance Transfer Fee ($)', order=sorted(transfer_fee_dollar_data['Balance Transfer Fee ($)'].unique()), palette='viridis', ax=axs[1])\n"
        ]
       },
       {
        "name": "stderr",
        "output_type": "stream",
        "text": [
         "<ipython-input-60-233387826236>:45: FutureWarning: \n",
         "\n",
         "Passing `palette` without assigning `hue` is deprecated and will be removed in v0.14.0. Assign the `x` variable to `hue` and set `legend=False` for the same effect.\n",
         "\n",
         "  sns.countplot(data=transfer_fee_percentage_data, x='Balance Transfer Fee (%)', order=sorted(transfer_fee_percentage_data['Balance Transfer Fee (%)'].unique()), palette='viridis', ax=axs[2])\n"
        ]
       },
       {
        "data": {
         "image/png": "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\n",
         "text/plain": "<Figure size 1800x600 with 3 Axes>"
        },
        "metadata": {},
        "output_type": "display_data"
       }
      ]
     }
    },
    "5a2918831dc94787aad9cd8a7f461f01": {
     "model_module": "@jupyter-widgets/controls",
     "model_module_version": "1.5.0",
     "model_name": "DescriptionStyleModel",
     "state": {
      "_model_module": "@jupyter-widgets/controls",
      "_model_module_version": "1.5.0",
      "_model_name": "DescriptionStyleModel",
      "_view_count": null,
      "_view_module": "@jupyter-widgets/base",
      "_view_module_version": "1.2.0",
      "_view_name": "StyleView",
      "description_width": ""
     }
    },
    "5a9d1328e48a4007abf3304799e5fdae": {
     "model_module": "@jupyter-widgets/base",
     "model_module_version": "1.2.0",
     "model_name": "LayoutModel",
     "state": {
      "_model_module": "@jupyter-widgets/base",
      "_model_module_version": "1.2.0",
      "_model_name": "LayoutModel",
      "_view_count": null,
      "_view_module": "@jupyter-widgets/base",
      "_view_module_version": "1.2.0",
      "_view_name": "LayoutView",
      "align_content": null,
      "align_items": null,
      "align_self": null,
      "border": null,
      "bottom": null,
      "display": null,
      "flex": null,
      "flex_flow": null,
      "grid_area": null,
      "grid_auto_columns": null,
      "grid_auto_flow": null,
      "grid_auto_rows": null,
      "grid_column": null,
      "grid_gap": null,
      "grid_row": null,
      "grid_template_areas": null,
      "grid_template_columns": null,
      "grid_template_rows": null,
      "height": null,
      "justify_content": null,
      "justify_items": null,
      "left": null,
      "margin": null,
      "max_height": null,
      "max_width": null,
      "min_height": null,
      "min_width": null,
      "object_fit": null,
      "object_position": null,
      "order": null,
      "overflow": null,
      "overflow_x": null,
      "overflow_y": null,
      "padding": null,
      "right": null,
      "top": null,
      "visibility": null,
      "width": "200px"
     }
    },
    "5d4fbba138de45dcaf6b291eff0f9a1f": {
     "model_module": "@jupyter-widgets/controls",
     "model_module_version": "1.5.0",
     "model_name": "DescriptionStyleModel",
     "state": {
      "_model_module": "@jupyter-widgets/controls",
      "_model_module_version": "1.5.0",
      "_model_name": "DescriptionStyleModel",
      "_view_count": null,
      "_view_module": "@jupyter-widgets/base",
      "_view_module_version": "1.2.0",
      "_view_name": "StyleView",
      "description_width": ""
     }
    },
    "5d999fa7a7214a3dad702661cf169b63": {
     "model_module": "@jupyter-widgets/base",
     "model_module_version": "1.2.0",
     "model_name": "LayoutModel",
     "state": {
      "_model_module": "@jupyter-widgets/base",
      "_model_module_version": "1.2.0",
      "_model_name": "LayoutModel",
      "_view_count": null,
      "_view_module": "@jupyter-widgets/base",
      "_view_module_version": "1.2.0",
      "_view_name": "LayoutView",
      "align_content": null,
      "align_items": null,
      "align_self": null,
      "border": null,
      "bottom": null,
      "display": null,
      "flex": null,
      "flex_flow": null,
      "grid_area": null,
      "grid_auto_columns": null,
      "grid_auto_flow": null,
      "grid_auto_rows": null,
      "grid_column": null,
      "grid_gap": null,
      "grid_row": null,
      "grid_template_areas": null,
      "grid_template_columns": null,
      "grid_template_rows": null,
      "height": null,
      "justify_content": null,
      "justify_items": null,
      "left": null,
      "margin": null,
      "max_height": null,
      "max_width": null,
      "min_height": null,
      "min_width": null,
      "object_fit": null,
      "object_position": null,
      "order": null,
      "overflow": null,
      "overflow_x": null,
      "overflow_y": null,
      "padding": null,
      "right": null,
      "top": null,
      "visibility": null,
      "width": null
     }
    },
    "5edea765369647d09e5d390c0dbcbbcd": {
     "model_module": "@jupyter-widgets/controls",
     "model_module_version": "1.5.0",
     "model_name": "HBoxModel",
     "state": {
      "_dom_classes": [],
      "_model_module": "@jupyter-widgets/controls",
      "_model_module_version": "1.5.0",
      "_model_name": "HBoxModel",
      "_view_count": null,
      "_view_module": "@jupyter-widgets/controls",
      "_view_module_version": "1.5.0",
      "_view_name": "HBoxView",
      "box_style": "",
      "children": [
       "IPY_MODEL_a3c62a9bae1a44eb898e81c9328ecd60",
       "IPY_MODEL_ae0f903f928b4eb886c16dda0adcbb6e"
      ],
      "layout": "IPY_MODEL_06f3ccadf0224e4b9af759ad8dafa461"
     }
    },
    "6654ae256c5046efa45688383cc22bd6": {
     "model_module": "@jupyter-widgets/base",
     "model_module_version": "1.2.0",
     "model_name": "LayoutModel",
     "state": {
      "_model_module": "@jupyter-widgets/base",
      "_model_module_version": "1.2.0",
      "_model_name": "LayoutModel",
      "_view_count": null,
      "_view_module": "@jupyter-widgets/base",
      "_view_module_version": "1.2.0",
      "_view_name": "LayoutView",
      "align_content": null,
      "align_items": null,
      "align_self": null,
      "border": null,
      "bottom": null,
      "display": null,
      "flex": null,
      "flex_flow": null,
      "grid_area": null,
      "grid_auto_columns": null,
      "grid_auto_flow": null,
      "grid_auto_rows": null,
      "grid_column": null,
      "grid_gap": null,
      "grid_row": null,
      "grid_template_areas": null,
      "grid_template_columns": null,
      "grid_template_rows": null,
      "height": null,
      "justify_content": null,
      "justify_items": null,
      "left": null,
      "margin": null,
      "max_height": null,
      "max_width": null,
      "min_height": null,
      "min_width": null,
      "object_fit": null,
      "object_position": null,
      "order": null,
      "overflow": null,
      "overflow_x": null,
      "overflow_y": null,
      "padding": null,
      "right": null,
      "top": null,
      "visibility": null,
      "width": "250px"
     }
    },
    "68d84e0f25a04e38a075cac7114a3cd3": {
     "model_module": "@jupyter-widgets/base",
     "model_module_version": "1.2.0",
     "model_name": "LayoutModel",
     "state": {
      "_model_module": "@jupyter-widgets/base",
      "_model_module_version": "1.2.0",
      "_model_name": "LayoutModel",
      "_view_count": null,
      "_view_module": "@jupyter-widgets/base",
      "_view_module_version": "1.2.0",
      "_view_name": "LayoutView",
      "align_content": null,
      "align_items": null,
      "align_self": null,
      "border": null,
      "bottom": null,
      "display": null,
      "flex": null,
      "flex_flow": null,
      "grid_area": null,
      "grid_auto_columns": null,
      "grid_auto_flow": null,
      "grid_auto_rows": null,
      "grid_column": null,
      "grid_gap": null,
      "grid_row": null,
      "grid_template_areas": null,
      "grid_template_columns": null,
      "grid_template_rows": null,
      "height": null,
      "justify_content": null,
      "justify_items": null,
      "left": null,
      "margin": null,
      "max_height": null,
      "max_width": null,
      "min_height": null,
      "min_width": null,
      "object_fit": null,
      "object_position": null,
      "order": null,
      "overflow": null,
      "overflow_x": null,
      "overflow_y": null,
      "padding": null,
      "right": null,
      "top": null,
      "visibility": null,
      "width": null
     }
    },
    "6a47d5cc661948db8d208928003ea634": {
     "model_module": "@jupyter-widgets/controls",
     "model_module_version": "1.5.0",
     "model_name": "LabelModel",
     "state": {
      "_dom_classes": [],
      "_model_module": "@jupyter-widgets/controls",
      "_model_module_version": "1.5.0",
      "_model_name": "LabelModel",
      "_view_count": null,
      "_view_module": "@jupyter-widgets/controls",
      "_view_module_version": "1.5.0",
      "_view_name": "LabelView",
      "description": "",
      "description_tooltip": null,
      "layout": "IPY_MODEL_091def407a0341d594fdd8457d630efc",
      "placeholder": "​",
      "style": "IPY_MODEL_39ca9927c5fd48c1acad3733e8dbe884",
      "value": "Number of rows in the filtered dataset: 154"
     }
    },
    "6fd010206762419494ee2be85a0df916": {
     "model_module": "@jupyter-widgets/output",
     "model_module_version": "1.0.0",
     "model_name": "OutputModel",
     "state": {
      "_dom_classes": [],
      "_model_module": "@jupyter-widgets/output",
      "_model_module_version": "1.0.0",
      "_model_name": "OutputModel",
      "_view_count": null,
      "_view_module": "@jupyter-widgets/output",
      "_view_module_version": "1.0.0",
      "_view_name": "OutputView",
      "layout": "IPY_MODEL_13bf16f5d9674d94a7ad5d85c819bc19",
      "msg_id": "",
      "outputs": [
       {
        "data": {
         "application/vnd.google.colaboratory.intrinsic+json": {
          "repr_error": "0",
          "type": "dataframe"
         },
         "text/html": "\n  <div id=\"df-09cf477c-b9ad-4cf4-8035-5d0b938da5c0\" class=\"colab-df-container\">\n    <div>\n<style scoped>\n    .dataframe tbody tr th:only-of-type {\n        vertical-align: middle;\n    }\n\n    .dataframe tbody tr th {\n        vertical-align: top;\n    }\n\n    .dataframe thead th {\n        text-align: right;\n    }\n</style>\n<table border=\"1\" class=\"dataframe\">\n  <thead>\n    <tr style=\"text-align: right;\">\n      <th></th>\n      <th>Institution Name</th>\n      <th>Product Name</th>\n      <th>Advance APR median</th>\n      <th>Purchase APR median</th>\n      <th>Intro APR median</th>\n      <th>Cumulative Yearly Fee</th>\n      <th>Other Periodic Fees Cumulative</th>\n      <th>Fee Explanation</th>\n      <th>Balance Transfer Fees Cumulative</th>\n      <th>Cash Advance Fees Cumulative</th>\n      <th>Foreign Transaction Fees Cumulative</th>\n      <th>Late Fee Cumulative</th>\n      <th>Over Limit Fee Cumulative</th>\n      <th>Website for Consumer</th>\n    </tr>\n  </thead>\n  <tbody>\n    <tr>\n      <th>69</th>\n      <td>BANNER BANK</td>\n      <td>Banner Bank TruRewards Mastercard</td>\n      <td>0.18000</td>\n      <td>0.11990</td>\n      <td>NaN</td>\n      <td>0.0</td>\n      <td>&lt;NA&gt;</td>\n      <td>NaN</td>\n      <td>Balance Transfer fee: 0.0$  ;  Percentage Bala...</td>\n      <td>Dollar Cash Advance fee: 0.0$  ;  Percentage C...</td>\n      <td>Percentage Foreign Transaction Fee: 0.011%</td>\n      <td>First Late Fee Charge: 0.0$  ;  late fees char...</td>\n      <td>Over Limit Fee ($): 0.0$</td>\n      <td>https://www.bannerbank.com</td>\n    </tr>\n    <tr>\n      <th>540</th>\n      <td>PARTNERS FEDERAL CREDIT UNION</td>\n      <td>Partners Visa Platinum Credit Card</td>\n      <td>0.12990</td>\n      <td>0.12990</td>\n      <td>0.0</td>\n      <td>0.0</td>\n      <td>&lt;NA&gt;</td>\n      <td>NaN</td>\n      <td>Balance Transfer fee: 0.0$  ;  Percentage Bala...</td>\n      <td>Dollar Cash Advance fee: 0.0$  ;  Percentage C...</td>\n      <td>Percentage Foreign Transaction Fee: 0.01%</td>\n      <td>First Late Fee Charge: 25.0$  ;  late fees cha...</td>\n      <td>Over Limit Fee ($): 0.0$</td>\n      <td>https://www.partnersfcu.org/credit-cards--loan...</td>\n    </tr>\n    <tr>\n      <th>523</th>\n      <td>MICHIGAN STATE UNIVERSITY FEDERAL CREDIT UNION</td>\n      <td>Platinum Visa Credit Card</td>\n      <td>0.13900</td>\n      <td>0.13900</td>\n      <td>NaN</td>\n      <td>0.0</td>\n      <td>&lt;NA&gt;</td>\n      <td>NaN</td>\n      <td>Balance Transfer fee: 0.0$  ;  Percentage Bala...</td>\n      <td>Dollar Cash Advance fee: 0.0$  ;  Percentage C...</td>\n      <td>Percentage Foreign Transaction Fee: 0.03%</td>\n      <td>First Late Fee Charge: 0.0$  ;  late fees char...</td>\n      <td>Over Limit Fee ($): 0.0$</td>\n      <td>https://www.msufcu.org/rates/credit_cards</td>\n    </tr>\n    <tr>\n      <th>510</th>\n      <td>KNOXVILLE TVA EMPLOYEES CREDIT UNION</td>\n      <td>Visa Platinum</td>\n      <td>0.13995</td>\n      <td>0.13995</td>\n      <td>NaN</td>\n      <td>0.0</td>\n      <td>&lt;NA&gt;</td>\n      <td>NaN</td>\n      <td>Balance Transfer fee: 0.0$  ;  Percentage Bala...</td>\n      <td>Dollar Cash Advance fee: 0.0$  ;  Percentage C...</td>\n      <td>Percentage Foreign Transaction Fee: 0.01%</td>\n      <td>First Late Fee Charge: 30.0$  ;  late fees cha...</td>\n      <td>Over Limit Fee ($): 0.0$</td>\n      <td>https://www.tvacreditunion.com</td>\n    </tr>\n    <tr>\n      <th>629</th>\n      <td>UTAH COMMUNITY FEDERAL CREDIT UNION</td>\n      <td>Low-rate Visa credit card</td>\n      <td>0.18000</td>\n      <td>0.14250</td>\n      <td>NaN</td>\n      <td>0.0</td>\n      <td>&lt;NA&gt;</td>\n      <td>NaN</td>\n      <td>Balance Transfer fee: 0.0$  ;  Percentage Bala...</td>\n      <td>Dollar Cash Advance fee: 0.0$  ;  Percentage C...</td>\n      <td>Percentage Foreign Transaction Fee: 0.02%</td>\n      <td>First Late Fee Charge: 25.0$  ;  late fees cha...</td>\n      <td>Over Limit Fee ($): 0.0$</td>\n      <td>https://www.uccu.com</td>\n    </tr>\n    <tr>\n      <th>...</th>\n      <td>...</td>\n      <td>...</td>\n      <td>...</td>\n      <td>...</td>\n      <td>...</td>\n      <td>...</td>\n      <td>...</td>\n      <td>...</td>\n      <td>...</td>\n      <td>...</td>\n      <td>...</td>\n      <td>...</td>\n      <td>...</td>\n      <td>...</td>\n    </tr>\n    <tr>\n      <th>589</th>\n      <td>SYNCHRONY FINANCIAL</td>\n      <td>At Home Insider Perks Mastercard</td>\n      <td>0.31370</td>\n      <td>0.31530</td>\n      <td>NaN</td>\n      <td>0.0</td>\n      <td>&lt;NA&gt;</td>\n      <td>NaN</td>\n      <td>Balance Transfer fee: 0.0$  ;  Percentage Bala...</td>\n      <td>Dollar Cash Advance fee: 0.0$  ;  Percentage C...</td>\n      <td>Percentage Foreign Transaction Fee: 0.03%</td>\n      <td>First Late Fee Charge: 30.0$  ;  late fees cha...</td>\n      <td>Over Limit Fee ($): 0.0$</td>\n      <td>https://www.athome.com/creditcard.html</td>\n    </tr>\n    <tr>\n      <th>572</th>\n      <td>SYNCHRONY FINANCIAL</td>\n      <td>TJX Rewards Platinum Mastercard</td>\n      <td>0.29990</td>\n      <td>0.31530</td>\n      <td>NaN</td>\n      <td>0.0</td>\n      <td>&lt;NA&gt;</td>\n      <td>NaN</td>\n      <td>Balance Transfer fee: 0.0$  ;  Percentage Bala...</td>\n      <td>Dollar Cash Advance fee: 0.0$  ;  Percentage C...</td>\n      <td>Percentage Foreign Transaction Fee: 0.0%</td>\n      <td>First Late Fee Charge: 27.0$  ;  late fees cha...</td>\n      <td>Over Limit Fee ($): 0.0$</td>\n      <td>ttps://apply.syf.com/cs/groups/public/document...</td>\n    </tr>\n    <tr>\n      <th>180</th>\n      <td>CITIBANK, N.A.</td>\n      <td>Citi Secured Mastercard</td>\n      <td>0.29990</td>\n      <td>NaN</td>\n      <td>NaN</td>\n      <td>0.0</td>\n      <td>&lt;NA&gt;</td>\n      <td>NaN</td>\n      <td>Balance Transfer fee: 5.0$  ;  Percentage Bala...</td>\n      <td>Dollar Cash Advance fee: 10.0$  ;  Percentage ...</td>\n      <td>Percentage Foreign Transaction Fee: 0.03%</td>\n      <td>First Late Fee Charge: 41.0$  ;  late fees cha...</td>\n      <td>Over Limit Fee ($): 0.0$</td>\n      <td>https://www.citi.com</td>\n    </tr>\n    <tr>\n      <th>181</th>\n      <td>CITIBANK, N.A.</td>\n      <td>Citi Secured Mastercard</td>\n      <td>0.29990</td>\n      <td>NaN</td>\n      <td>NaN</td>\n      <td>0.0</td>\n      <td>&lt;NA&gt;</td>\n      <td>NaN</td>\n      <td>Balance Transfer fee: 5.0$  ;  Percentage Bala...</td>\n      <td>Dollar Cash Advance fee: 10.0$  ;  Percentage ...</td>\n      <td>Percentage Foreign Transaction Fee: 0.03%</td>\n      <td>First Late Fee Charge: 41.0$  ;  late fees cha...</td>\n      <td>Over Limit Fee ($): 0.0$</td>\n      <td>https://www.citi.com</td>\n    </tr>\n    <tr>\n      <th>469</th>\n      <td>HAWAIIUSA FEDERAL CREDIT UNION</td>\n      <td>Life Matters Cash Back Visa Credit Card</td>\n      <td>0.13690</td>\n      <td>NaN</td>\n      <td>NaN</td>\n      <td>50.0</td>\n      <td>&lt;NA&gt;</td>\n      <td>Fee only applies to one product which is our S...</td>\n      <td>Balance Transfer fee: 0.0$  ;  Percentage Bala...</td>\n      <td>Dollar Cash Advance fee: 0.0$  ;  Percentage C...</td>\n      <td>Percentage Foreign Transaction Fee: 0.0%</td>\n      <td>First Late Fee Charge: 0.0$  ;  late fees char...</td>\n      <td>Over Limit Fee ($): 0.0$</td>\n      <td>https://www.hawaiiusafcu.com/Loans/Personal/Cr...</td>\n    </tr>\n  </tbody>\n</table>\n<p>154 rows × 14 columns</p>\n</div>\n    <div class=\"colab-df-buttons\">\n\n  <div class=\"colab-df-container\">\n    <button class=\"colab-df-convert\" onclick=\"convertToInteractive('df-09cf477c-b9ad-4cf4-8035-5d0b938da5c0')\"\n            title=\"Convert this dataframe to an interactive table.\"\n            style=\"display:none;\">\n\n  <svg xmlns=\"http://www.w3.org/2000/svg\" height=\"24px\" viewBox=\"0 -960 960 960\">\n    <path d=\"M120-120v-720h720v720H120Zm60-500h600v-160H180v160Zm220 220h160v-160H400v160Zm0 220h160v-160H400v160ZM180-400h160v-160H180v160Zm440 0h160v-160H620v160ZM180-180h160v-160H180v160Zm440 0h160v-160H620v160Z\"/>\n  </svg>\n    </button>\n\n  <style>\n    .colab-df-container {\n      display:flex;\n      gap: 12px;\n    }\n\n    .colab-df-convert {\n      background-color: #E8F0FE;\n      border: none;\n      border-radius: 50%;\n      cursor: pointer;\n      display: none;\n      fill: #1967D2;\n      height: 32px;\n      padding: 0 0 0 0;\n      width: 32px;\n    }\n\n    .colab-df-convert:hover {\n      background-color: #E2EBFA;\n      box-shadow: 0px 1px 2px rgba(60, 64, 67, 0.3), 0px 1px 3px 1px rgba(60, 64, 67, 0.15);\n      fill: #174EA6;\n    }\n\n    .colab-df-buttons div {\n      margin-bottom: 4px;\n    }\n\n    [theme=dark] .colab-df-convert {\n      background-color: #3B4455;\n      fill: #D2E3FC;\n    }\n\n    [theme=dark] .colab-df-convert:hover {\n      background-color: #434B5C;\n      box-shadow: 0px 1px 3px 1px rgba(0, 0, 0, 0.15);\n      filter: drop-shadow(0px 1px 2px rgba(0, 0, 0, 0.3));\n      fill: #FFFFFF;\n    }\n  </style>\n\n    <script>\n      const buttonEl =\n        document.querySelector('#df-09cf477c-b9ad-4cf4-8035-5d0b938da5c0 button.colab-df-convert');\n      buttonEl.style.display =\n        google.colab.kernel.accessAllowed ? 'block' : 'none';\n\n      async function convertToInteractive(key) {\n        const element = document.querySelector('#df-09cf477c-b9ad-4cf4-8035-5d0b938da5c0');\n        const dataTable =\n          await google.colab.kernel.invokeFunction('convertToInteractive',\n                                                    [key], {});\n        if (!dataTable) return;\n\n        const docLinkHtml = 'Like what you see? Visit the ' +\n          '<a target=\"_blank\" href=https://colab.research.google.com/notebooks/data_table.ipynb>data table notebook</a>'\n          + ' to learn more about interactive tables.';\n        element.innerHTML = '';\n        dataTable['output_type'] = 'display_data';\n        await google.colab.output.renderOutput(dataTable, element);\n        const docLink = document.createElement('div');\n        docLink.innerHTML = docLinkHtml;\n        element.appendChild(docLink);\n      }\n    </script>\n  </div>\n\n\n<div id=\"df-218bd22a-2d27-4655-9a80-c3f456dd3b96\">\n  <button class=\"colab-df-quickchart\" onclick=\"quickchart('df-218bd22a-2d27-4655-9a80-c3f456dd3b96')\"\n            title=\"Suggest charts\"\n            style=\"display:none;\">\n\n<svg xmlns=\"http://www.w3.org/2000/svg\" height=\"24px\"viewBox=\"0 0 24 24\"\n     width=\"24px\">\n    <g>\n        <path d=\"M19 3H5c-1.1 0-2 .9-2 2v14c0 1.1.9 2 2 2h14c1.1 0 2-.9 2-2V5c0-1.1-.9-2-2-2zM9 17H7v-7h2v7zm4 0h-2V7h2v10zm4 0h-2v-4h2v4z\"/>\n    </g>\n</svg>\n  </button>\n\n<style>\n  .colab-df-quickchart {\n      --bg-color: #E8F0FE;\n      --fill-color: #1967D2;\n      --hover-bg-color: #E2EBFA;\n      --hover-fill-color: #174EA6;\n      --disabled-fill-color: #AAA;\n      --disabled-bg-color: #DDD;\n  }\n\n  [theme=dark] .colab-df-quickchart {\n      --bg-color: #3B4455;\n      --fill-color: #D2E3FC;\n      --hover-bg-color: #434B5C;\n      --hover-fill-color: #FFFFFF;\n      --disabled-bg-color: #3B4455;\n      --disabled-fill-color: #666;\n  }\n\n  .colab-df-quickchart {\n    background-color: var(--bg-color);\n    border: none;\n    border-radius: 50%;\n    cursor: pointer;\n    display: none;\n    fill: var(--fill-color);\n    height: 32px;\n    padding: 0;\n    width: 32px;\n  }\n\n  .colab-df-quickchart:hover {\n    background-color: var(--hover-bg-color);\n    box-shadow: 0 1px 2px rgba(60, 64, 67, 0.3), 0 1px 3px 1px rgba(60, 64, 67, 0.15);\n    fill: var(--button-hover-fill-color);\n  }\n\n  .colab-df-quickchart-complete:disabled,\n  .colab-df-quickchart-complete:disabled:hover {\n    background-color: var(--disabled-bg-color);\n    fill: var(--disabled-fill-color);\n    box-shadow: none;\n  }\n\n  .colab-df-spinner {\n    border: 2px solid var(--fill-color);\n    border-color: transparent;\n    border-bottom-color: var(--fill-color);\n    animation:\n      spin 1s steps(1) infinite;\n  }\n\n  @keyframes spin {\n    0% {\n      border-color: transparent;\n      border-bottom-color: var(--fill-color);\n      border-left-color: var(--fill-color);\n    }\n    20% {\n      border-color: transparent;\n      border-left-color: var(--fill-color);\n      border-top-color: var(--fill-color);\n    }\n    30% {\n      border-color: transparent;\n      border-left-color: var(--fill-color);\n      border-top-color: var(--fill-color);\n      border-right-color: var(--fill-color);\n    }\n    40% {\n      border-color: transparent;\n      border-right-color: var(--fill-color);\n      border-top-color: var(--fill-color);\n    }\n    60% {\n      border-color: transparent;\n      border-right-color: var(--fill-color);\n    }\n    80% {\n      border-color: transparent;\n      border-right-color: var(--fill-color);\n      border-bottom-color: var(--fill-color);\n    }\n    90% {\n      border-color: transparent;\n      border-bottom-color: var(--fill-color);\n    }\n  }\n</style>\n\n  <script>\n    async function quickchart(key) {\n      const quickchartButtonEl =\n        document.querySelector('#' + key + ' button');\n      quickchartButtonEl.disabled = true;  // To prevent multiple clicks.\n      quickchartButtonEl.classList.add('colab-df-spinner');\n      try {\n        const charts = await google.colab.kernel.invokeFunction(\n            'suggestCharts', [key], {});\n      } catch (error) {\n        console.error('Error during call to suggestCharts:', error);\n      }\n      quickchartButtonEl.classList.remove('colab-df-spinner');\n      quickchartButtonEl.classList.add('colab-df-quickchart-complete');\n    }\n    (() => {\n      let quickchartButtonEl =\n        document.querySelector('#df-218bd22a-2d27-4655-9a80-c3f456dd3b96 button');\n      quickchartButtonEl.style.display =\n        google.colab.kernel.accessAllowed ? 'block' : 'none';\n    })();\n  </script>\n</div>\n\n    </div>\n  </div>\n",
         "text/plain": "                                   Institution Name  \\\n69                                      BANNER BANK   \n540                   PARTNERS FEDERAL CREDIT UNION   \n523  MICHIGAN STATE UNIVERSITY FEDERAL CREDIT UNION   \n510            KNOXVILLE TVA EMPLOYEES CREDIT UNION   \n629             UTAH COMMUNITY FEDERAL CREDIT UNION   \n..                                              ...   \n589                             SYNCHRONY FINANCIAL   \n572                             SYNCHRONY FINANCIAL   \n180                                  CITIBANK, N.A.   \n181                                  CITIBANK, N.A.   \n469                  HAWAIIUSA FEDERAL CREDIT UNION   \n\n                                Product Name  Advance APR median  \\\n69         Banner Bank TruRewards Mastercard             0.18000   \n540       Partners Visa Platinum Credit Card             0.12990   \n523                Platinum Visa Credit Card             0.13900   \n510                            Visa Platinum             0.13995   \n629                Low-rate Visa credit card             0.18000   \n..                                       ...                 ...   \n589         At Home Insider Perks Mastercard             0.31370   \n572          TJX Rewards Platinum Mastercard             0.29990   \n180                  Citi Secured Mastercard             0.29990   \n181                  Citi Secured Mastercard             0.29990   \n469  Life Matters Cash Back Visa Credit Card             0.13690   \n\n     Purchase APR median  Intro APR median  Cumulative Yearly Fee  \\\n69               0.11990               NaN                    0.0   \n540              0.12990               0.0                    0.0   \n523              0.13900               NaN                    0.0   \n510              0.13995               NaN                    0.0   \n629              0.14250               NaN                    0.0   \n..                   ...               ...                    ...   \n589              0.31530               NaN                    0.0   \n572              0.31530               NaN                    0.0   \n180                  NaN               NaN                    0.0   \n181                  NaN               NaN                    0.0   \n469                  NaN               NaN                   50.0   \n\n    Other Periodic Fees Cumulative  \\\n69                            <NA>   \n540                           <NA>   \n523                           <NA>   \n510                           <NA>   \n629                           <NA>   \n..                             ...   \n589                           <NA>   \n572                           <NA>   \n180                           <NA>   \n181                           <NA>   \n469                           <NA>   \n\n                                       Fee Explanation  \\\n69                                                 NaN   \n540                                                NaN   \n523                                                NaN   \n510                                                NaN   \n629                                                NaN   \n..                                                 ...   \n589                                                NaN   \n572                                                NaN   \n180                                                NaN   \n181                                                NaN   \n469  Fee only applies to one product which is our S...   \n\n                      Balance Transfer Fees Cumulative  \\\n69   Balance Transfer fee: 0.0$  ;  Percentage Bala...   \n540  Balance Transfer fee: 0.0$  ;  Percentage Bala...   \n523  Balance Transfer fee: 0.0$  ;  Percentage Bala...   \n510  Balance Transfer fee: 0.0$  ;  Percentage Bala...   \n629  Balance Transfer fee: 0.0$  ;  Percentage Bala...   \n..                                                 ...   \n589  Balance Transfer fee: 0.0$  ;  Percentage Bala...   \n572  Balance Transfer fee: 0.0$  ;  Percentage Bala...   \n180  Balance Transfer fee: 5.0$  ;  Percentage Bala...   \n181  Balance Transfer fee: 5.0$  ;  Percentage Bala...   \n469  Balance Transfer fee: 0.0$  ;  Percentage Bala...   \n\n                          Cash Advance Fees Cumulative  \\\n69   Dollar Cash Advance fee: 0.0$  ;  Percentage C...   \n540  Dollar Cash Advance fee: 0.0$  ;  Percentage C...   \n523  Dollar Cash Advance fee: 0.0$  ;  Percentage C...   \n510  Dollar Cash Advance fee: 0.0$  ;  Percentage C...   \n629  Dollar Cash Advance fee: 0.0$  ;  Percentage C...   \n..                                                 ...   \n589  Dollar Cash Advance fee: 0.0$  ;  Percentage C...   \n572  Dollar Cash Advance fee: 0.0$  ;  Percentage C...   \n180  Dollar Cash Advance fee: 10.0$  ;  Percentage ...   \n181  Dollar Cash Advance fee: 10.0$  ;  Percentage ...   \n469  Dollar Cash Advance fee: 0.0$  ;  Percentage C...   \n\n            Foreign Transaction Fees Cumulative  \\\n69   Percentage Foreign Transaction Fee: 0.011%   \n540   Percentage Foreign Transaction Fee: 0.01%   \n523   Percentage Foreign Transaction Fee: 0.03%   \n510   Percentage Foreign Transaction Fee: 0.01%   \n629   Percentage Foreign Transaction Fee: 0.02%   \n..                                          ...   \n589   Percentage Foreign Transaction Fee: 0.03%   \n572    Percentage Foreign Transaction Fee: 0.0%   \n180   Percentage Foreign Transaction Fee: 0.03%   \n181   Percentage Foreign Transaction Fee: 0.03%   \n469    Percentage Foreign Transaction Fee: 0.0%   \n\n                                   Late Fee Cumulative  \\\n69   First Late Fee Charge: 0.0$  ;  late fees char...   \n540  First Late Fee Charge: 25.0$  ;  late fees cha...   \n523  First Late Fee Charge: 0.0$  ;  late fees char...   \n510  First Late Fee Charge: 30.0$  ;  late fees cha...   \n629  First Late Fee Charge: 25.0$  ;  late fees cha...   \n..                                                 ...   \n589  First Late Fee Charge: 30.0$  ;  late fees cha...   \n572  First Late Fee Charge: 27.0$  ;  late fees cha...   \n180  First Late Fee Charge: 41.0$  ;  late fees cha...   \n181  First Late Fee Charge: 41.0$  ;  late fees cha...   \n469  First Late Fee Charge: 0.0$  ;  late fees char...   \n\n    Over Limit Fee Cumulative  \\\n69   Over Limit Fee ($): 0.0$   \n540  Over Limit Fee ($): 0.0$   \n523  Over Limit Fee ($): 0.0$   \n510  Over Limit Fee ($): 0.0$   \n629  Over Limit Fee ($): 0.0$   \n..                        ...   \n589  Over Limit Fee ($): 0.0$   \n572  Over Limit Fee ($): 0.0$   \n180  Over Limit Fee ($): 0.0$   \n181  Over Limit Fee ($): 0.0$   \n469  Over Limit Fee ($): 0.0$   \n\n                                  Website for Consumer  \n69                          https://www.bannerbank.com  \n540  https://www.partnersfcu.org/credit-cards--loan...  \n523          https://www.msufcu.org/rates/credit_cards  \n510                     https://www.tvacreditunion.com  \n629                               https://www.uccu.com  \n..                                                 ...  \n589             https://www.athome.com/creditcard.html  \n572  ttps://apply.syf.com/cs/groups/public/document...  \n180                               https://www.citi.com  \n181                               https://www.citi.com  \n469  https://www.hawaiiusafcu.com/Loans/Personal/Cr...  \n\n[154 rows x 14 columns]"
        },
        "metadata": {},
        "output_type": "display_data"
       }
      ]
     }
    },
    "6fdc1806dbcb4fa8a742d8a4a7690d55": {
     "model_module": "@jupyter-widgets/controls",
     "model_module_version": "1.5.0",
     "model_name": "SelectMultipleModel",
     "state": {
      "_dom_classes": [],
      "_model_module": "@jupyter-widgets/controls",
      "_model_module_version": "1.5.0",
      "_model_name": "SelectMultipleModel",
      "_options_labels": [
       "Access to Free Credit Scores",
       "Automobile rental insurance",
       "Credit card registration",
       "Debt cancellation coverage",
       "Discounts on purchases of goods and services (non travel related)",
       "Extension on manufacturer’s warranty",
       "Other_services",
       "No_Services"
      ],
      "_view_count": null,
      "_view_module": "@jupyter-widgets/controls",
      "_view_module_version": "1.5.0",
      "_view_name": "SelectMultipleView",
      "description": "",
      "description_tooltip": null,
      "disabled": false,
      "index": [
       0
      ],
      "layout": "IPY_MODEL_113ce0b16acb44619cef2e9179fb85ba",
      "rows": 5,
      "style": "IPY_MODEL_a92a94c950b54d9e9f7e4f948c5ad7b9"
     }
    },
    "7bbb89667be34b07bdcd2bce2bdfac91": {
     "model_module": "@jupyter-widgets/controls",
     "model_module_version": "1.5.0",
     "model_name": "ButtonModel",
     "state": {
      "_dom_classes": [],
      "_model_module": "@jupyter-widgets/controls",
      "_model_module_version": "1.5.0",
      "_model_name": "ButtonModel",
      "_view_count": null,
      "_view_module": "@jupyter-widgets/controls",
      "_view_module_version": "1.5.0",
      "_view_name": "ButtonView",
      "button_style": "",
      "description": "Show Top Card Info",
      "disabled": false,
      "icon": "info",
      "layout": "IPY_MODEL_6654ae256c5046efa45688383cc22bd6",
      "style": "IPY_MODEL_22a7ecdc654d4f9199e2b070ae8d2ace",
      "tooltip": "Click to display top card information"
     }
    },
    "7e993f7e431c40f79e37071ee11fadc0": {
     "model_module": "@jupyter-widgets/controls",
     "model_module_version": "1.5.0",
     "model_name": "ButtonModel",
     "state": {
      "_dom_classes": [],
      "_model_module": "@jupyter-widgets/controls",
      "_model_module_version": "1.5.0",
      "_model_name": "ButtonModel",
      "_view_count": null,
      "_view_module": "@jupyter-widgets/controls",
      "_view_module_version": "1.5.0",
      "_view_name": "ButtonView",
      "button_style": "",
      "description": "Plot Fee Distributions",
      "disabled": false,
      "icon": "bar-chart",
      "layout": "IPY_MODEL_0a843b37936c4a78a80d76a7faa672d7",
      "style": "IPY_MODEL_c935329daff740789f76a418fd28a07a",
      "tooltip": "Click to plot fee distributions"
     }
    },
    "7eacb46f592a4222a56fbfaef0fd095e": {
     "model_module": "@jupyter-widgets/controls",
     "model_module_version": "1.5.0",
     "model_name": "DescriptionStyleModel",
     "state": {
      "_model_module": "@jupyter-widgets/controls",
      "_model_module_version": "1.5.0",
      "_model_name": "DescriptionStyleModel",
      "_view_count": null,
      "_view_module": "@jupyter-widgets/base",
      "_view_module_version": "1.2.0",
      "_view_name": "StyleView",
      "description_width": ""
     }
    },
    "7f4f91cb64814e2d84e1ac7b5ac6cc45": {
     "model_module": "@jupyter-widgets/base",
     "model_module_version": "1.2.0",
     "model_name": "LayoutModel",
     "state": {
      "_model_module": "@jupyter-widgets/base",
      "_model_module_version": "1.2.0",
      "_model_name": "LayoutModel",
      "_view_count": null,
      "_view_module": "@jupyter-widgets/base",
      "_view_module_version": "1.2.0",
      "_view_name": "LayoutView",
      "align_content": null,
      "align_items": null,
      "align_self": null,
      "border": null,
      "bottom": null,
      "display": null,
      "flex": null,
      "flex_flow": null,
      "grid_area": null,
      "grid_auto_columns": null,
      "grid_auto_flow": null,
      "grid_auto_rows": null,
      "grid_column": null,
      "grid_gap": null,
      "grid_row": null,
      "grid_template_areas": null,
      "grid_template_columns": null,
      "grid_template_rows": null,
      "height": null,
      "justify_content": null,
      "justify_items": null,
      "left": null,
      "margin": null,
      "max_height": null,
      "max_width": null,
      "min_height": null,
      "min_width": null,
      "object_fit": null,
      "object_position": null,
      "order": null,
      "overflow": null,
      "overflow_x": null,
      "overflow_y": null,
      "padding": null,
      "right": null,
      "top": null,
      "visibility": null,
      "width": null
     }
    },
    "82ad4068d15b4138ad6538832f6308f4": {
     "model_module": "@jupyter-widgets/controls",
     "model_module_version": "1.5.0",
     "model_name": "LabelModel",
     "state": {
      "_dom_classes": [],
      "_model_module": "@jupyter-widgets/controls",
      "_model_module_version": "1.5.0",
      "_model_name": "LabelModel",
      "_view_count": null,
      "_view_module": "@jupyter-widgets/controls",
      "_view_module_version": "1.5.0",
      "_view_name": "LabelView",
      "description": "",
      "description_tooltip": null,
      "layout": "IPY_MODEL_3a1fd83e2f044fd18dc3d41bd583e8ae",
      "placeholder": "​",
      "style": "IPY_MODEL_5d4fbba138de45dcaf6b291eff0f9a1f",
      "value": "Your State:"
     }
    },
    "83d67edfb73a43698d0f3206903bc5c5": {
     "model_module": "@jupyter-widgets/controls",
     "model_module_version": "1.5.0",
     "model_name": "DropdownModel",
     "state": {
      "_dom_classes": [],
      "_model_module": "@jupyter-widgets/controls",
      "_model_module_version": "1.5.0",
      "_model_name": "DropdownModel",
      "_options_labels": [
       "AL",
       "AK",
       "AZ",
       "AR",
       "CA",
       "CO",
       "CT",
       "DE",
       "FL",
       "GA",
       "HI",
       "ID",
       "IL",
       "IN",
       "IA",
       "KS",
       "KY",
       "LA",
       "ME",
       "MD",
       "MA",
       "MI",
       "MN",
       "MS",
       "MO",
       "MT",
       "NE",
       "NV",
       "NH",
       "NJ",
       "NM",
       "NY",
       "NC",
       "ND",
       "OH",
       "OK",
       "OR",
       "PA",
       "RI",
       "SC",
       "SD",
       "TN",
       "TX",
       "UT",
       "VT",
       "VA",
       "WA",
       "WV",
       "WI",
       "WY"
      ],
      "_view_count": null,
      "_view_module": "@jupyter-widgets/controls",
      "_view_module_version": "1.5.0",
      "_view_name": "DropdownView",
      "description": "",
      "description_tooltip": null,
      "disabled": false,
      "index": 4,
      "layout": "IPY_MODEL_a3b29bb62b124ca0ad06019e3d46f3f3",
      "style": "IPY_MODEL_b3b7ffb6490d4f818c4032aaf7cda649"
     }
    },
    "881b6158a8fa46f5b5d6ac8818fd8f8b": {
     "model_module": "@jupyter-widgets/controls",
     "model_module_version": "1.5.0",
     "model_name": "LabelModel",
     "state": {
      "_dom_classes": [],
      "_model_module": "@jupyter-widgets/controls",
      "_model_module_version": "1.5.0",
      "_model_name": "LabelModel",
      "_view_count": null,
      "_view_module": "@jupyter-widgets/controls",
      "_view_module_version": "1.5.0",
      "_view_name": "LabelView",
      "description": "",
      "description_tooltip": null,
      "layout": "IPY_MODEL_5a9d1328e48a4007abf3304799e5fdae",
      "placeholder": "​",
      "style": "IPY_MODEL_f9af2d7d5f2a4f90a98f32b01acb98c4",
      "value": "Your Credit Tier:"
     }
    },
    "88bf82037eb04ece8e4092259780dd35": {
     "model_module": "@jupyter-widgets/base",
     "model_module_version": "1.2.0",
     "model_name": "LayoutModel",
     "state": {
      "_model_module": "@jupyter-widgets/base",
      "_model_module_version": "1.2.0",
      "_model_name": "LayoutModel",
      "_view_count": null,
      "_view_module": "@jupyter-widgets/base",
      "_view_module_version": "1.2.0",
      "_view_name": "LayoutView",
      "align_content": null,
      "align_items": null,
      "align_self": null,
      "border": null,
      "bottom": null,
      "display": null,
      "flex": null,
      "flex_flow": null,
      "grid_area": null,
      "grid_auto_columns": null,
      "grid_auto_flow": null,
      "grid_auto_rows": null,
      "grid_column": null,
      "grid_gap": null,
      "grid_row": null,
      "grid_template_areas": null,
      "grid_template_columns": null,
      "grid_template_rows": null,
      "height": null,
      "justify_content": null,
      "justify_items": null,
      "left": null,
      "margin": null,
      "max_height": null,
      "max_width": null,
      "min_height": null,
      "min_width": null,
      "object_fit": null,
      "object_position": null,
      "order": null,
      "overflow": null,
      "overflow_x": null,
      "overflow_y": null,
      "padding": null,
      "right": null,
      "top": null,
      "visibility": null,
      "width": "200px"
     }
    },
    "8fe4520dde374b5c983bdde0052256a5": {
     "model_module": "@jupyter-widgets/controls",
     "model_module_version": "1.5.0",
     "model_name": "LabelModel",
     "state": {
      "_dom_classes": [],
      "_model_module": "@jupyter-widgets/controls",
      "_model_module_version": "1.5.0",
      "_model_name": "LabelModel",
      "_view_count": null,
      "_view_module": "@jupyter-widgets/controls",
      "_view_module_version": "1.5.0",
      "_view_name": "LabelView",
      "description": "",
      "description_tooltip": null,
      "layout": "IPY_MODEL_9e78e5174300432a9b50b592ae210783",
      "placeholder": "​",
      "style": "IPY_MODEL_7eacb46f592a4222a56fbfaef0fd095e",
      "value": "Sort by (low -> high):"
     }
    },
    "9e78e5174300432a9b50b592ae210783": {
     "model_module": "@jupyter-widgets/base",
     "model_module_version": "1.2.0",
     "model_name": "LayoutModel",
     "state": {
      "_model_module": "@jupyter-widgets/base",
      "_model_module_version": "1.2.0",
      "_model_name": "LayoutModel",
      "_view_count": null,
      "_view_module": "@jupyter-widgets/base",
      "_view_module_version": "1.2.0",
      "_view_name": "LayoutView",
      "align_content": null,
      "align_items": null,
      "align_self": null,
      "border": null,
      "bottom": null,
      "display": null,
      "flex": null,
      "flex_flow": null,
      "grid_area": null,
      "grid_auto_columns": null,
      "grid_auto_flow": null,
      "grid_auto_rows": null,
      "grid_column": null,
      "grid_gap": null,
      "grid_row": null,
      "grid_template_areas": null,
      "grid_template_columns": null,
      "grid_template_rows": null,
      "height": null,
      "justify_content": null,
      "justify_items": null,
      "left": null,
      "margin": null,
      "max_height": null,
      "max_width": null,
      "min_height": null,
      "min_width": null,
      "object_fit": null,
      "object_position": null,
      "order": null,
      "overflow": null,
      "overflow_x": null,
      "overflow_y": null,
      "padding": null,
      "right": null,
      "top": null,
      "visibility": null,
      "width": null
     }
    },
    "a3b29bb62b124ca0ad06019e3d46f3f3": {
     "model_module": "@jupyter-widgets/base",
     "model_module_version": "1.2.0",
     "model_name": "LayoutModel",
     "state": {
      "_model_module": "@jupyter-widgets/base",
      "_model_module_version": "1.2.0",
      "_model_name": "LayoutModel",
      "_view_count": null,
      "_view_module": "@jupyter-widgets/base",
      "_view_module_version": "1.2.0",
      "_view_name": "LayoutView",
      "align_content": null,
      "align_items": null,
      "align_self": null,
      "border": null,
      "bottom": null,
      "display": null,
      "flex": null,
      "flex_flow": null,
      "grid_area": null,
      "grid_auto_columns": null,
      "grid_auto_flow": null,
      "grid_auto_rows": null,
      "grid_column": null,
      "grid_gap": null,
      "grid_row": null,
      "grid_template_areas": null,
      "grid_template_columns": null,
      "grid_template_rows": null,
      "height": null,
      "justify_content": null,
      "justify_items": null,
      "left": null,
      "margin": null,
      "max_height": null,
      "max_width": null,
      "min_height": null,
      "min_width": null,
      "object_fit": null,
      "object_position": null,
      "order": null,
      "overflow": null,
      "overflow_x": null,
      "overflow_y": null,
      "padding": null,
      "right": null,
      "top": null,
      "visibility": null,
      "width": "max-content"
     }
    },
    "a3c62a9bae1a44eb898e81c9328ecd60": {
     "model_module": "@jupyter-widgets/controls",
     "model_module_version": "1.5.0",
     "model_name": "LabelModel",
     "state": {
      "_dom_classes": [],
      "_model_module": "@jupyter-widgets/controls",
      "_model_module_version": "1.5.0",
      "_model_name": "LabelModel",
      "_view_count": null,
      "_view_module": "@jupyter-widgets/controls",
      "_view_module_version": "1.5.0",
      "_view_name": "LabelView",
      "description": "",
      "description_tooltip": null,
      "layout": "IPY_MODEL_f96dfac46032449f8ccd1559cb79e7dc",
      "placeholder": "​",
      "style": "IPY_MODEL_a41b8f93363c465c84cec36f0eac3593",
      "value": "Card Rewards Requested:"
     }
    },
    "a41b8f93363c465c84cec36f0eac3593": {
     "model_module": "@jupyter-widgets/controls",
     "model_module_version": "1.5.0",
     "model_name": "DescriptionStyleModel",
     "state": {
      "_model_module": "@jupyter-widgets/controls",
      "_model_module_version": "1.5.0",
      "_model_name": "DescriptionStyleModel",
      "_view_count": null,
      "_view_module": "@jupyter-widgets/base",
      "_view_module_version": "1.2.0",
      "_view_name": "StyleView",
      "description_width": ""
     }
    },
    "a92a94c950b54d9e9f7e4f948c5ad7b9": {
     "model_module": "@jupyter-widgets/controls",
     "model_module_version": "1.5.0",
     "model_name": "DescriptionStyleModel",
     "state": {
      "_model_module": "@jupyter-widgets/controls",
      "_model_module_version": "1.5.0",
      "_model_name": "DescriptionStyleModel",
      "_view_count": null,
      "_view_module": "@jupyter-widgets/base",
      "_view_module_version": "1.2.0",
      "_view_name": "StyleView",
      "description_width": ""
     }
    },
    "aba30ffc650049b9b02160f76150df86": {
     "model_module": "@jupyter-widgets/controls",
     "model_module_version": "1.5.0",
     "model_name": "DropdownModel",
     "state": {
      "_dom_classes": [],
      "_model_module": "@jupyter-widgets/controls",
      "_model_module_version": "1.5.0",
      "_model_name": "DropdownModel",
      "_options_labels": [
       "None",
       "Advance APR median",
       "Purchase APR median",
       "Intro APR median",
       "Cumulative Yearly Fee"
      ],
      "_view_count": null,
      "_view_module": "@jupyter-widgets/controls",
      "_view_module_version": "1.5.0",
      "_view_name": "DropdownView",
      "description": "",
      "description_tooltip": null,
      "disabled": false,
      "index": 2,
      "layout": "IPY_MODEL_88bf82037eb04ece8e4092259780dd35",
      "style": "IPY_MODEL_5a2918831dc94787aad9cd8a7f461f01"
     }
    },
    "ae0f903f928b4eb886c16dda0adcbb6e": {
     "model_module": "@jupyter-widgets/controls",
     "model_module_version": "1.5.0",
     "model_name": "SelectMultipleModel",
     "state": {
      "_dom_classes": [],
      "_model_module": "@jupyter-widgets/controls",
      "_model_module_version": "1.5.0",
      "_model_name": "SelectMultipleModel",
      "_options_labels": [
       "Cashback rewards",
       "Other rewards",
       "Travel-related rewards",
       "No_rewards"
      ],
      "_view_count": null,
      "_view_module": "@jupyter-widgets/controls",
      "_view_module_version": "1.5.0",
      "_view_name": "SelectMultipleView",
      "description": "",
      "description_tooltip": null,
      "disabled": false,
      "index": [],
      "layout": "IPY_MODEL_2fa69662816a4b0eae75baa25069f73a",
      "rows": 5,
      "style": "IPY_MODEL_4e256b91f62f447eaab1a81e836b8400"
     }
    },
    "b129f64ce845498fb30c2349599b39f0": {
     "model_module": "@jupyter-widgets/base",
     "model_module_version": "1.2.0",
     "model_name": "LayoutModel",
     "state": {
      "_model_module": "@jupyter-widgets/base",
      "_model_module_version": "1.2.0",
      "_model_name": "LayoutModel",
      "_view_count": null,
      "_view_module": "@jupyter-widgets/base",
      "_view_module_version": "1.2.0",
      "_view_name": "LayoutView",
      "align_content": null,
      "align_items": null,
      "align_self": null,
      "border": null,
      "bottom": null,
      "display": null,
      "flex": null,
      "flex_flow": null,
      "grid_area": null,
      "grid_auto_columns": null,
      "grid_auto_flow": null,
      "grid_auto_rows": null,
      "grid_column": null,
      "grid_gap": null,
      "grid_row": null,
      "grid_template_areas": null,
      "grid_template_columns": null,
      "grid_template_rows": null,
      "height": null,
      "justify_content": null,
      "justify_items": null,
      "left": null,
      "margin": null,
      "max_height": null,
      "max_width": null,
      "min_height": null,
      "min_width": null,
      "object_fit": null,
      "object_position": null,
      "order": null,
      "overflow": null,
      "overflow_x": null,
      "overflow_y": null,
      "padding": null,
      "right": null,
      "top": null,
      "visibility": null,
      "width": "200px"
     }
    },
    "b3b7ffb6490d4f818c4032aaf7cda649": {
     "model_module": "@jupyter-widgets/controls",
     "model_module_version": "1.5.0",
     "model_name": "DescriptionStyleModel",
     "state": {
      "_model_module": "@jupyter-widgets/controls",
      "_model_module_version": "1.5.0",
      "_model_name": "DescriptionStyleModel",
      "_view_count": null,
      "_view_module": "@jupyter-widgets/base",
      "_view_module_version": "1.2.0",
      "_view_name": "StyleView",
      "description_width": ""
     }
    },
    "b412d3ddb59647298d30bf6247c22c03": {
     "model_module": "@jupyter-widgets/controls",
     "model_module_version": "1.5.0",
     "model_name": "HBoxModel",
     "state": {
      "_dom_classes": [],
      "_model_module": "@jupyter-widgets/controls",
      "_model_module_version": "1.5.0",
      "_model_name": "HBoxModel",
      "_view_count": null,
      "_view_module": "@jupyter-widgets/controls",
      "_view_module_version": "1.5.0",
      "_view_name": "HBoxView",
      "box_style": "",
      "children": [
       "IPY_MODEL_82ad4068d15b4138ad6538832f6308f4",
       "IPY_MODEL_83d67edfb73a43698d0f3206903bc5c5"
      ],
      "layout": "IPY_MODEL_dcde1e59fae443c3bcb3eb204e8db6fa"
     }
    },
    "b6202b38f2e84cf4a4aeb24219be1dbf": {
     "model_module": "@jupyter-widgets/controls",
     "model_module_version": "1.5.0",
     "model_name": "LabelModel",
     "state": {
      "_dom_classes": [],
      "_model_module": "@jupyter-widgets/controls",
      "_model_module_version": "1.5.0",
      "_model_name": "LabelModel",
      "_view_count": null,
      "_view_module": "@jupyter-widgets/controls",
      "_view_module_version": "1.5.0",
      "_view_name": "LabelView",
      "description": "",
      "description_tooltip": null,
      "layout": "IPY_MODEL_b129f64ce845498fb30c2349599b39f0",
      "placeholder": "​",
      "style": "IPY_MODEL_59b8cde84f1141d5ab60fadaef4c2ebf",
      "value": "Card Features Requested:"
     }
    },
    "b687b966d9104605bedae5975587656f": {
     "model_module": "@jupyter-widgets/controls",
     "model_module_version": "1.5.0",
     "model_name": "SelectMultipleModel",
     "state": {
      "_dom_classes": [],
      "_model_module": "@jupyter-widgets/controls",
      "_model_module_version": "1.5.0",
      "_model_name": "SelectMultipleModel",
      "_options_labels": [
       "Chip card",
       "Contactless Payments",
       "Fee-free foreign transactions",
       "Mobile wallet provisioning (for example, Apple Pay)",
       "Other_features",
       "No_features"
      ],
      "_view_count": null,
      "_view_module": "@jupyter-widgets/controls",
      "_view_module_version": "1.5.0",
      "_view_name": "SelectMultipleView",
      "description": "",
      "description_tooltip": null,
      "disabled": false,
      "index": [
       0,
       1
      ],
      "layout": "IPY_MODEL_ee8872eef17d48549e0d7d5c718c96b3",
      "rows": 5,
      "style": "IPY_MODEL_1c4f2d4773fe4e69a1577c2fe12f583e"
     }
    },
    "c6cb8227cdff40d2ae942433b837cac7": {
     "model_module": "@jupyter-widgets/base",
     "model_module_version": "1.2.0",
     "model_name": "LayoutModel",
     "state": {
      "_model_module": "@jupyter-widgets/base",
      "_model_module_version": "1.2.0",
      "_model_name": "LayoutModel",
      "_view_count": null,
      "_view_module": "@jupyter-widgets/base",
      "_view_module_version": "1.2.0",
      "_view_name": "LayoutView",
      "align_content": null,
      "align_items": null,
      "align_self": null,
      "border": null,
      "bottom": null,
      "display": null,
      "flex": null,
      "flex_flow": null,
      "grid_area": null,
      "grid_auto_columns": null,
      "grid_auto_flow": null,
      "grid_auto_rows": null,
      "grid_column": null,
      "grid_gap": null,
      "grid_row": null,
      "grid_template_areas": null,
      "grid_template_columns": null,
      "grid_template_rows": null,
      "height": null,
      "justify_content": null,
      "justify_items": null,
      "left": null,
      "margin": null,
      "max_height": null,
      "max_width": null,
      "min_height": null,
      "min_width": null,
      "object_fit": null,
      "object_position": null,
      "order": null,
      "overflow": null,
      "overflow_x": null,
      "overflow_y": null,
      "padding": null,
      "right": null,
      "top": null,
      "visibility": null,
      "width": "max-content"
     }
    },
    "c935329daff740789f76a418fd28a07a": {
     "model_module": "@jupyter-widgets/controls",
     "model_module_version": "1.5.0",
     "model_name": "ButtonStyleModel",
     "state": {
      "_model_module": "@jupyter-widgets/controls",
      "_model_module_version": "1.5.0",
      "_model_name": "ButtonStyleModel",
      "_view_count": null,
      "_view_module": "@jupyter-widgets/base",
      "_view_module_version": "1.2.0",
      "_view_name": "StyleView",
      "button_color": null,
      "font_weight": ""
     }
    },
    "cfc2f739802146a39d8008716bc1810f": {
     "model_module": "@jupyter-widgets/controls",
     "model_module_version": "1.5.0",
     "model_name": "ButtonModel",
     "state": {
      "_dom_classes": [],
      "_model_module": "@jupyter-widgets/controls",
      "_model_module_version": "1.5.0",
      "_model_name": "ButtonModel",
      "_view_count": null,
      "_view_module": "@jupyter-widgets/controls",
      "_view_module_version": "1.5.0",
      "_view_name": "ButtonView",
      "button_style": "",
      "description": "Plot APR Distributions",
      "disabled": false,
      "icon": "bar-chart",
      "layout": "IPY_MODEL_31c1164a35164c9fbc4a4ffc1da107fa",
      "style": "IPY_MODEL_e1a81e1dd4ff468b8b8d259c92112d2c",
      "tooltip": "Click to plot APR distributions"
     }
    },
    "dcde1e59fae443c3bcb3eb204e8db6fa": {
     "model_module": "@jupyter-widgets/base",
     "model_module_version": "1.2.0",
     "model_name": "LayoutModel",
     "state": {
      "_model_module": "@jupyter-widgets/base",
      "_model_module_version": "1.2.0",
      "_model_name": "LayoutModel",
      "_view_count": null,
      "_view_module": "@jupyter-widgets/base",
      "_view_module_version": "1.2.0",
      "_view_name": "LayoutView",
      "align_content": null,
      "align_items": null,
      "align_self": null,
      "border": null,
      "bottom": null,
      "display": null,
      "flex": null,
      "flex_flow": null,
      "grid_area": null,
      "grid_auto_columns": null,
      "grid_auto_flow": null,
      "grid_auto_rows": null,
      "grid_column": null,
      "grid_gap": null,
      "grid_row": null,
      "grid_template_areas": null,
      "grid_template_columns": null,
      "grid_template_rows": null,
      "height": null,
      "justify_content": null,
      "justify_items": null,
      "left": null,
      "margin": null,
      "max_height": null,
      "max_width": null,
      "min_height": null,
      "min_width": null,
      "object_fit": null,
      "object_position": null,
      "order": null,
      "overflow": null,
      "overflow_x": null,
      "overflow_y": null,
      "padding": null,
      "right": null,
      "top": null,
      "visibility": null,
      "width": null
     }
    },
    "dfb2dd10eb4d4a3c9ee9337b003ad049": {
     "model_module": "@jupyter-widgets/base",
     "model_module_version": "1.2.0",
     "model_name": "LayoutModel",
     "state": {
      "_model_module": "@jupyter-widgets/base",
      "_model_module_version": "1.2.0",
      "_model_name": "LayoutModel",
      "_view_count": null,
      "_view_module": "@jupyter-widgets/base",
      "_view_module_version": "1.2.0",
      "_view_name": "LayoutView",
      "align_content": null,
      "align_items": null,
      "align_self": null,
      "border": null,
      "bottom": null,
      "display": null,
      "flex": null,
      "flex_flow": null,
      "grid_area": null,
      "grid_auto_columns": null,
      "grid_auto_flow": null,
      "grid_auto_rows": null,
      "grid_column": null,
      "grid_gap": null,
      "grid_row": null,
      "grid_template_areas": null,
      "grid_template_columns": null,
      "grid_template_rows": null,
      "height": null,
      "justify_content": null,
      "justify_items": null,
      "left": null,
      "margin": null,
      "max_height": null,
      "max_width": null,
      "min_height": null,
      "min_width": null,
      "object_fit": null,
      "object_position": null,
      "order": null,
      "overflow": null,
      "overflow_x": null,
      "overflow_y": null,
      "padding": null,
      "right": null,
      "top": null,
      "visibility": null,
      "width": null
     }
    },
    "e1a81e1dd4ff468b8b8d259c92112d2c": {
     "model_module": "@jupyter-widgets/controls",
     "model_module_version": "1.5.0",
     "model_name": "ButtonStyleModel",
     "state": {
      "_model_module": "@jupyter-widgets/controls",
      "_model_module_version": "1.5.0",
      "_model_name": "ButtonStyleModel",
      "_view_count": null,
      "_view_module": "@jupyter-widgets/base",
      "_view_module_version": "1.2.0",
      "_view_name": "StyleView",
      "button_color": null,
      "font_weight": ""
     }
    },
    "e4c1adb434154e10999b05b05722019a": {
     "model_module": "@jupyter-widgets/controls",
     "model_module_version": "1.5.0",
     "model_name": "DescriptionStyleModel",
     "state": {
      "_model_module": "@jupyter-widgets/controls",
      "_model_module_version": "1.5.0",
      "_model_name": "DescriptionStyleModel",
      "_view_count": null,
      "_view_module": "@jupyter-widgets/base",
      "_view_module_version": "1.2.0",
      "_view_name": "StyleView",
      "description_width": ""
     }
    },
    "e4fd5d2169fa458588f50f49446ec54b": {
     "model_module": "@jupyter-widgets/base",
     "model_module_version": "1.2.0",
     "model_name": "LayoutModel",
     "state": {
      "_model_module": "@jupyter-widgets/base",
      "_model_module_version": "1.2.0",
      "_model_name": "LayoutModel",
      "_view_count": null,
      "_view_module": "@jupyter-widgets/base",
      "_view_module_version": "1.2.0",
      "_view_name": "LayoutView",
      "align_content": null,
      "align_items": null,
      "align_self": null,
      "border": null,
      "bottom": null,
      "display": null,
      "flex": null,
      "flex_flow": null,
      "grid_area": null,
      "grid_auto_columns": null,
      "grid_auto_flow": null,
      "grid_auto_rows": null,
      "grid_column": null,
      "grid_gap": null,
      "grid_row": null,
      "grid_template_areas": null,
      "grid_template_columns": null,
      "grid_template_rows": null,
      "height": null,
      "justify_content": null,
      "justify_items": null,
      "left": null,
      "margin": null,
      "max_height": null,
      "max_width": null,
      "min_height": null,
      "min_width": null,
      "object_fit": null,
      "object_position": null,
      "order": null,
      "overflow": null,
      "overflow_x": null,
      "overflow_y": null,
      "padding": null,
      "right": null,
      "top": null,
      "visibility": null,
      "width": null
     }
    },
    "ee8872eef17d48549e0d7d5c718c96b3": {
     "model_module": "@jupyter-widgets/base",
     "model_module_version": "1.2.0",
     "model_name": "LayoutModel",
     "state": {
      "_model_module": "@jupyter-widgets/base",
      "_model_module_version": "1.2.0",
      "_model_name": "LayoutModel",
      "_view_count": null,
      "_view_module": "@jupyter-widgets/base",
      "_view_module_version": "1.2.0",
      "_view_name": "LayoutView",
      "align_content": null,
      "align_items": null,
      "align_self": null,
      "border": null,
      "bottom": null,
      "display": null,
      "flex": null,
      "flex_flow": null,
      "grid_area": null,
      "grid_auto_columns": null,
      "grid_auto_flow": null,
      "grid_auto_rows": null,
      "grid_column": null,
      "grid_gap": null,
      "grid_row": null,
      "grid_template_areas": null,
      "grid_template_columns": null,
      "grid_template_rows": null,
      "height": null,
      "justify_content": null,
      "justify_items": null,
      "left": null,
      "margin": null,
      "max_height": null,
      "max_width": null,
      "min_height": null,
      "min_width": null,
      "object_fit": null,
      "object_position": null,
      "order": null,
      "overflow": null,
      "overflow_x": null,
      "overflow_y": null,
      "padding": null,
      "right": null,
      "top": null,
      "visibility": null,
      "width": "max-content"
     }
    },
    "f96dfac46032449f8ccd1559cb79e7dc": {
     "model_module": "@jupyter-widgets/base",
     "model_module_version": "1.2.0",
     "model_name": "LayoutModel",
     "state": {
      "_model_module": "@jupyter-widgets/base",
      "_model_module_version": "1.2.0",
      "_model_name": "LayoutModel",
      "_view_count": null,
      "_view_module": "@jupyter-widgets/base",
      "_view_module_version": "1.2.0",
      "_view_name": "LayoutView",
      "align_content": null,
      "align_items": null,
      "align_self": null,
      "border": null,
      "bottom": null,
      "display": null,
      "flex": null,
      "flex_flow": null,
      "grid_area": null,
      "grid_auto_columns": null,
      "grid_auto_flow": null,
      "grid_auto_rows": null,
      "grid_column": null,
      "grid_gap": null,
      "grid_row": null,
      "grid_template_areas": null,
      "grid_template_columns": null,
      "grid_template_rows": null,
      "height": null,
      "justify_content": null,
      "justify_items": null,
      "left": null,
      "margin": null,
      "max_height": null,
      "max_width": null,
      "min_height": null,
      "min_width": null,
      "object_fit": null,
      "object_position": null,
      "order": null,
      "overflow": null,
      "overflow_x": null,
      "overflow_y": null,
      "padding": null,
      "right": null,
      "top": null,
      "visibility": null,
      "width": "200px"
     }
    },
    "f9af2d7d5f2a4f90a98f32b01acb98c4": {
     "model_module": "@jupyter-widgets/controls",
     "model_module_version": "1.5.0",
     "model_name": "DescriptionStyleModel",
     "state": {
      "_model_module": "@jupyter-widgets/controls",
      "_model_module_version": "1.5.0",
      "_model_name": "DescriptionStyleModel",
      "_view_count": null,
      "_view_module": "@jupyter-widgets/base",
      "_view_module_version": "1.2.0",
      "_view_name": "StyleView",
      "description_width": ""
     }
    },
    "fd7740491237443791f1defb69caa5ea": {
     "model_module": "@jupyter-widgets/output",
     "model_module_version": "1.0.0",
     "model_name": "OutputModel",
     "state": {
      "_dom_classes": [],
      "_model_module": "@jupyter-widgets/output",
      "_model_module_version": "1.0.0",
      "_model_name": "OutputModel",
      "_view_count": null,
      "_view_module": "@jupyter-widgets/output",
      "_view_module_version": "1.0.0",
      "_view_name": "OutputView",
      "layout": "IPY_MODEL_021f133610d840d7ae8061d56f7570ee",
      "msg_id": "",
      "outputs": [
       {
        "name": "stderr",
        "output_type": "stream",
        "text": [
         "<ipython-input-59-da4485f1d1cf>:46: UserWarning: Ignoring `palette` because no `hue` variable has been assigned.\n",
         "  sns.histplot(final_filtered_data[col_purchase], bins=30, ax=axs[0], kde=True, palette='viridis' )\n"
        ]
       },
       {
        "name": "stderr",
        "output_type": "stream",
        "text": [
         "<ipython-input-59-da4485f1d1cf>:57: UserWarning: Ignoring `palette` because no `hue` variable has been assigned.\n",
         "  sns.histplot(final_filtered_data[col_advance], bins=30, ax=axs[1], kde=True, palette='BuPu')\n"
        ]
       },
       {
        "data": {
         "image/png": "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\n",
         "text/plain": "<Figure size 1200x600 with 2 Axes>"
        },
        "metadata": {},
        "output_type": "display_data"
       }
      ]
     }
    }
   }
  }
 },
 "nbformat": 4,
 "nbformat_minor": 4
}
